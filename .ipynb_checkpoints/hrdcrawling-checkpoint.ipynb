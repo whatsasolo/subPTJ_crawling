{
 "cells": [
  {
   "cell_type": "markdown",
   "id": "7765e5b4",
   "metadata": {},
   "source": [
    "# SubPTJ crawling"
   ]
  },
  {
   "cell_type": "markdown",
   "id": "f844ca70",
   "metadata": {},
   "source": [
    "## Crawling"
   ]
  },
  {
   "cell_type": "code",
   "execution_count": 1,
   "id": "a350a5d1",
   "metadata": {
    "ExecuteTime": {
     "end_time": "2022-07-30T17:43:21.535073Z",
     "start_time": "2022-07-30T17:43:20.189203Z"
    }
   },
   "outputs": [],
   "source": [
    "import time\n",
    "import json\n",
    "import urllib\n",
    "import requests\n",
    "from bs4 import BeautifulSoup\n",
    "import numpy as np\n",
    "import pandas as pd\n",
    "import matplotlib.pyplot as plt\n",
    "import seaborn as sns\n",
    "import re"
   ]
  },
  {
   "cell_type": "markdown",
   "id": "92c4aed0",
   "metadata": {},
   "source": [
    "### HRD-net URL\n",
    "---\n",
    "한 페이지에서 원하는 데이터 뽑아서 모든 페이지 적용할 예정"
   ]
  },
  {
   "cell_type": "code",
   "execution_count": 2,
   "id": "2b20fb2c",
   "metadata": {
    "ExecuteTime": {
     "end_time": "2022-07-30T17:43:22.508197Z",
     "start_time": "2022-07-30T17:43:21.537664Z"
    }
   },
   "outputs": [],
   "source": [
    "url = 'https://www.hrd.go.kr/hrdp/co/pcobo/PCOBO0100P.do?tracseId=AIG20200000286660&tracseTme=1&crseTracseSe=C0061&trainstCstmrId=500020018488#undefined'\n",
    "\n",
    "resp = requests.get(url)\n",
    "soup = BeautifulSoup(resp.text, 'html.parser')"
   ]
  },
  {
   "cell_type": "markdown",
   "id": "d9ce259e",
   "metadata": {},
   "source": [
    "> 기관명"
   ]
  },
  {
   "cell_type": "code",
   "execution_count": 3,
   "id": "c27209f8",
   "metadata": {
    "ExecuteTime": {
     "end_time": "2022-07-30T17:43:22.530093Z",
     "start_time": "2022-07-30T17:43:22.509862Z"
    }
   },
   "outputs": [
    {
     "name": "stdout",
     "output_type": "stream",
     "text": [
      "스마트인재개발원\n"
     ]
    }
   ],
   "source": [
    "# 기관명\n",
    "for organ in soup.select('p.add'):\n",
    "    print(organ.text.strip())\n",
    "#     data.append(organ.text.strip())"
   ]
  },
  {
   "cell_type": "markdown",
   "id": "ab187346",
   "metadata": {},
   "source": [
    "> 과정명"
   ]
  },
  {
   "cell_type": "code",
   "execution_count": 4,
   "id": "53b94445",
   "metadata": {
    "ExecuteTime": {
     "end_time": "2022-07-30T17:43:22.552510Z",
     "start_time": "2022-07-30T17:43:22.532975Z"
    }
   },
   "outputs": [
    {
     "name": "stdout",
     "output_type": "stream",
     "text": [
      "빅데이터 분석서비스 개발자과정(NCS)모집마감\n"
     ]
    }
   ],
   "source": [
    "# 과정명\n",
    "for course in soup.select('h4.tit'):\n",
    "    print(course.text.replace('\\n','').replace('\\t',''))\n",
    "#     data.append(course.text.replace('\\n','').replace('\\t',''))"
   ]
  },
  {
   "cell_type": "markdown",
   "id": "6baf4a3c",
   "metadata": {},
   "source": [
    "> 훈련비"
   ]
  },
  {
   "cell_type": "code",
   "execution_count": 5,
   "id": "70160cfe",
   "metadata": {
    "ExecuteTime": {
     "end_time": "2022-07-30T17:43:22.578009Z",
     "start_time": "2022-07-30T17:43:22.555790Z"
    }
   },
   "outputs": [
    {
     "name": "stdout",
     "output_type": "stream",
     "text": [
      "13,762,240 원\n",
      "\n"
     ]
    }
   ],
   "source": [
    "# 훈련비\n",
    "for price in soup.select('p.price'):\n",
    "    print(price.text.strip().replace('\\n','')[:price.text.find('원')].strip().replace('\\t',''))\n",
    "#     data.append(price.text.strip().replace('\\n','')[:price.text.find('원')].strip().replace('\\t',''))"
   ]
  },
  {
   "cell_type": "code",
   "execution_count": 6,
   "id": "072f4727",
   "metadata": {
    "ExecuteTime": {
     "end_time": "2022-07-30T17:43:22.609473Z",
     "start_time": "2022-07-30T17:43:22.580043Z"
    }
   },
   "outputs": [
    {
     "name": "stdout",
     "output_type": "stream",
     "text": [
      "NCS : 응용SW엔지니어링\n",
      "datetime : 2020-11-02\n",
      "~2021-04-12\n",
      "(1회차)\n",
      "date : 116일,총928시간\n",
      "age : 27 세\n"
     ]
    }
   ],
   "source": [
    "\n",
    "for i in soup.select('span.con'):\n",
    "    if i.text.find('일') != -1:\n",
    "        date = i.text.replace('\\n,','').replace('\\t','').strip().replace('\\n','')\n",
    "        print(f'date : {date}')\n",
    "    elif i.text.find('세') != -1:\n",
    "        age = i.text.replace('\\n,','').replace('\\t','').strip()\n",
    "        print('age : ' + age)\n",
    "    elif i.text.find(')') != -1:\n",
    "        if  i.text.find('~') == -1:\n",
    "            NCS = i.text.replace('\\n,','').replace('\\t','').strip()\n",
    "            print('NCS : ' + NCS[:NCS.find('(')])\n",
    "        else:\n",
    "            print('datetime : ' + i.text.replace('\\n,','').replace('\\t','').strip())\n",
    "    \n",
    "#         data.append(i.text.replace('\\n,','').replace('\\t','').strip())\n",
    "#     print(i.text.replace('\\n', '').replace('\\t','').strip())"
   ]
  },
  {
   "cell_type": "code",
   "execution_count": 7,
   "id": "9d02696f",
   "metadata": {
    "ExecuteTime": {
     "end_time": "2022-07-30T17:43:22.637051Z",
     "start_time": "2022-07-30T17:43:22.611568Z"
    }
   },
   "outputs": [
    {
     "name": "stdout",
     "output_type": "stream",
     "text": [
      "응용SW엔지니어링(20010202)\n"
     ]
    }
   ],
   "source": [
    "# NCS 자격분류\n",
    "for NCS in soup.select('span.con'):\n",
    "    if re.findall('\\d{6,}',NCS.text) != []:\n",
    "        print(re.findall('.+\\d{6,}.',NCS.text).pop().replace('\\t',''))"
   ]
  },
  {
   "cell_type": "markdown",
   "id": "fba0e17b",
   "metadata": {
    "ExecuteTime": {
     "end_time": "2022-07-30T09:12:23.559416Z",
     "start_time": "2022-07-30T09:12:23.480660Z"
    }
   },
   "source": [
    "> span 태그가 적절하지 않음 -> 쓸데없는게 너무 뽑힘\n",
    "\n",
    "> 근데 대안도 없다 이걸로 가자"
   ]
  },
  {
   "cell_type": "code",
   "execution_count": 8,
   "id": "fab39d3e",
   "metadata": {
    "ExecuteTime": {
     "end_time": "2022-07-30T17:43:22.670742Z",
     "start_time": "2022-07-30T17:43:22.639383Z"
    }
   },
   "outputs": [
    {
     "data": {
      "text/plain": [
       "'만족도 100점 기준86.88점'"
      ]
     },
     "execution_count": 8,
     "metadata": {},
     "output_type": "execute_result"
    }
   ],
   "source": [
    "# 수강생 평균 만족도\n",
    "soup.select('div.starRating')[0].get('aria-label')"
   ]
  },
  {
   "cell_type": "code",
   "execution_count": 9,
   "id": "324cb7e6",
   "metadata": {
    "ExecuteTime": {
     "end_time": "2022-07-30T17:43:22.698743Z",
     "start_time": "2022-07-30T17:43:22.673410Z"
    }
   },
   "outputs": [
    {
     "name": "stdout",
     "output_type": "stream",
     "text": [
      "116일,\n",
      "총928시간\n"
     ]
    }
   ],
   "source": [
    "# 훈련시간\n",
    "for i in soup.select('span.con'):\n",
    "    if i.text.find('일') != -1:\n",
    "        print(i.text.replace('\\n,','').replace('\\t','').strip())\n",
    "#         data.append(i.text.replace('\\n,','').replace('\\t','').strip())"
   ]
  },
  {
   "cell_type": "markdown",
   "id": "717cd963",
   "metadata": {},
   "source": [
    "> table.view 태그로 회차별 정보 한 번에 뽑기"
   ]
  },
  {
   "cell_type": "code",
   "execution_count": 10,
   "id": "a139e2dc",
   "metadata": {
    "ExecuteTime": {
     "end_time": "2022-07-30T17:43:22.734097Z",
     "start_time": "2022-07-30T17:43:22.706660Z"
    }
   },
   "outputs": [
    {
     "data": {
      "text/plain": [
       "14"
      ]
     },
     "execution_count": 10,
     "metadata": {},
     "output_type": "execute_result"
    }
   ],
   "source": [
    "# 전체 회차\n",
    "len(soup.select('a.tool_tip_btn'))"
   ]
  },
  {
   "cell_type": "code",
   "execution_count": 11,
   "id": "1f647618",
   "metadata": {
    "ExecuteTime": {
     "end_time": "2022-07-30T17:43:22.787603Z",
     "start_time": "2022-07-30T17:43:22.736630Z"
    },
    "scrolled": false
   },
   "outputs": [
    {
     "name": "stdout",
     "output_type": "stream",
     "text": [
      "14회차 : 훈련진행중\n",
      "13회차 : 훈련진행중\n",
      "12회차 : 훈련진행중\n",
      "11회차 : 훈련진행중\n",
      "10회차 : 75.2\n",
      "9회차 : 82.4\n",
      "8회차 : 90.84\n",
      "7회차 : 90\n",
      "6회차 : 91.58\n",
      "5회차 : 84.54\n",
      "4회차 : 89.6\n",
      "3회차 : 89.56\n",
      "2회차 : 80.74\n",
      "1회차 : 95.56\n"
     ]
    }
   ],
   "source": [
    "# 회차별 만족도 \n",
    "count = len(soup.select('a.tool_tip_btn')) + 1\n",
    "for i in soup.select('table.view')[2:]:\n",
    "    if i.text.find('훈련진행중') != -1:\n",
    "        count -= 1\n",
    "        print(f'{count}회차 : 훈련진행중')\n",
    "    else:\n",
    "        for j in i.select('td'):\n",
    "            tableview = j.text.replace('\\n','').replace('\\t','').strip()\n",
    "            if re.findall('[.\\d]+\\s점',tableview) != []:\n",
    "                count -= 1\n",
    "                print(f\"{count}회차 : \" + re.findall('[.\\d]+\\s점',tableview).pop().replace(' 점',''))"
   ]
  },
  {
   "cell_type": "code",
   "execution_count": 12,
   "id": "9f52b2b5",
   "metadata": {
    "ExecuteTime": {
     "end_time": "2022-07-30T17:43:22.841642Z",
     "start_time": "2022-07-30T17:43:22.790206Z"
    }
   },
   "outputs": [
    {
     "name": "stdout",
     "output_type": "stream",
     "text": [
      "14회차 : 훈련진행중\n",
      "13회차 : 훈련진행중\n",
      "12회차 : 훈련진행중\n",
      "11회차 : 훈련진행중\n",
      "10회차 : 25명\n",
      "9회차 : 25명\n",
      "8회차 : 25명\n",
      "7회차 : 25명\n",
      "6회차 : 24명\n",
      "5회차 : 25명\n",
      "4회차 : 25명\n",
      "3회차 : 25명\n",
      "2회차 : 28명\n",
      "1회차 : 28명\n"
     ]
    }
   ],
   "source": [
    "# 회차별 모집인원\n",
    "count = len(soup.select('a.tool_tip_btn')) + 1\n",
    "for i in soup.select('table.view')[2:]:\n",
    "    if i.text.find('훈련진행중') != -1:\n",
    "        count -= 1\n",
    "        print(f'{count}회차 : 훈련진행중')\n",
    "    else:\n",
    "        for j in i.select('td'):\n",
    "            if re.findall('\\d+명/',j.text) != []:\n",
    "                count -= 1\n",
    "                print(f\"{count}회차 : \" + re.findall('\\d+명/',j.text).pop().replace('/',''))"
   ]
  },
  {
   "cell_type": "markdown",
   "id": "07761bd2",
   "metadata": {},
   "source": [
    "> 망한 코드"
   ]
  },
  {
   "cell_type": "code",
   "execution_count": 13,
   "id": "fa64aef7",
   "metadata": {
    "ExecuteTime": {
     "end_time": "2022-07-30T17:43:22.896077Z",
     "start_time": "2022-07-30T17:43:22.843599Z"
    }
   },
   "outputs": [
    {
     "name": "stdout",
     "output_type": "stream",
     "text": [
      "14회차 : 훈련진행중\n",
      "13회차 : 훈련진행중\n",
      "12회차 : 훈련진행중\n",
      "11회차 : 훈련진행중\n",
      "10회차 : /\n",
      "9회차 : /\n",
      "8회차 : /23\n",
      "7회차 : 20/23\n",
      "6회차 : 1/19\n",
      "5회차 : 15/18\n",
      "4회차 : 14/25\n",
      "3회차 : 2/23\n",
      "2회차 : 16/21\n",
      "1회차 : 21/26\n"
     ]
    }
   ],
   "source": [
    "# ?????????????????????\n",
    "# [(\\d]+/ : 취업인원\n",
    "# /\\d+ : 수료인원\n",
    "count = len(soup.select('a.tool_tip_btn')) + 1\n",
    "break_count = 2 \n",
    "comple = ''\n",
    "entire = ''\n",
    "for i in soup.select('table.view'):\n",
    "    if i.text.find('훈련진행중') != -1:\n",
    "        count -= 1\n",
    "        print(f'{count}회차 : 훈련진행중')\n",
    "    else:\n",
    "        for j in i.select('td'):\n",
    "            break_count += 1\n",
    "            if break_count % 3 == 0:\n",
    "                if re.findall('\\(/\\)',j.text) != []:\n",
    "                    count -= 1\n",
    "                    print(f'{count}회차 : '+ re.findall('\\(/\\)',j.text).pop().strip('(').strip(')'))\n",
    "#                     print('-')\n",
    "#                     print('-')\n",
    "                elif re.findall('[(\\d]+/', j.text) != [] and re.findall('\\d+\\)', j.text) != []:\n",
    "                    count -= 1\n",
    "                    print(f'{count}회차 : '+ re.findall('[(\\d]+/', j.text).pop().replace('(','') + re.findall('\\d+\\)', j.text).pop().replace(')',''))\n",
    "#                     print(re.findall('[(\\d]+/', j.text).pop().replace('(','')[:re.findall('[(\\d]+/', j.text).pop().replace('(','').find('/')])\n",
    "#                     print(re.findall('\\d+\\)', j.text).pop().replace(')','')[re.findall('\\d+\\)', j.text).pop().replace(')','').find('/')+1:])\n",
    "#                     if re.findall('[(\\d]+/', j.text) != []: # 훈련시작일 \n",
    "#                         count -= 1\n",
    "#                         comple = (re.findall('[(\\d]+/', j.text).pop()) \n",
    "#                     if re.findall('\\d+\\)', j.text) != []:\n",
    "#                         count -= 1\n",
    "#                         entire = (re.findall('\\d+\\)', j.text).pop())\n",
    "#                     print(f'{count}회차 : ',comple, entire)\n",
    "            else:\n",
    "                pass"
   ]
  },
  {
   "cell_type": "markdown",
   "id": "ebd6902e",
   "metadata": {},
   "source": [
    "> 다시 짠 코드"
   ]
  },
  {
   "cell_type": "code",
   "execution_count": 14,
   "id": "79910a61",
   "metadata": {
    "ExecuteTime": {
     "end_time": "2022-07-30T17:43:22.950515Z",
     "start_time": "2022-07-30T17:43:22.898586Z"
    }
   },
   "outputs": [
    {
     "name": "stdout",
     "output_type": "stream",
     "text": [
      "['훈련진행중', '훈련진행중', '훈련진행중', '훈련진행중', '', '', '60.9', '87', '63.2', '0', '56', '73.9', '57.1', '80.8']\n",
      "['훈련진행중', '훈련진행중', '훈련진행중', '훈련진행중', '', '', '14', '20', '12', '0', '14', '17', '12', '21']\n",
      "['훈련진행중', '훈련진행중', '훈련진행중', '훈련진행중', '', '', '23', '23', '19', '18', '25', '23', '21', '26']\n"
     ]
    },
    {
     "data": {
      "text/plain": [
       "(14, 14, 14)"
      ]
     },
     "execution_count": 14,
     "metadata": {},
     "output_type": "execute_result"
    }
   ],
   "source": [
    "# 취업률 (고용보험가입 3개월) 취업인원/수료인원\n",
    "empl_rate_3 = [] # 회차별 취업률(3개월)\n",
    "empl_3 = [] # 회차별 취업인원 (3개월)\n",
    "comp_3 = [] # 회차별 수료인원 (3개월)\n",
    "series_count = len(soup.select('a.tool_tip_btn'))\n",
    "# count = len(soup.select('a.tool_tip_btn')) + 1\n",
    "cnt = 0\n",
    "for i in soup.select('table.view'):\n",
    "    if i.text.find('취업률 고용보험가입 3개월') != -1:\n",
    "        for j in i.select('b'):\n",
    "            cnt += 1\n",
    "            if cnt % 3 == 1:\n",
    "                rate_empl = j.text.replace('\\n','').replace('\\t','')\n",
    "                empl_rate_3.append(rate_empl[:rate_empl.find(\"%\")])\n",
    "                empl_3.append(rate_empl[rate_empl.find(\"%\")+2:rate_empl.find(\"/\")])\n",
    "                comp_3.append(rate_empl[rate_empl.find(\"/\")+1:-1])\n",
    "#                 print(f'취업률 : {rate_empl[:rate_empl.find(\"%\")]}')\n",
    "#                 print(f'취업인원 : {rate_empl[rate_empl.find(\"%\")+2:rate_empl.find(\"/\")]}')\n",
    "#                 print(f'수료인원 : {rate_empl[rate_empl.find(\"/\")+1:-1]}')\n",
    "\n",
    "while len(empl_rate_3) != series_count:\n",
    "    empl_rate_3.insert(0,'훈련진행중')\n",
    "while len(empl_3) != series_count:\n",
    "    empl_3.insert(0,'훈련진행중')\n",
    "while len(comp_3) != series_count:\n",
    "    comp_3.insert(0,'훈련진행중')\n",
    "print(empl_rate_3)\n",
    "print(empl_3)\n",
    "print(comp_3)\n",
    "len(empl_rate_3), len(empl_3), len(comp_3)"
   ]
  },
  {
   "cell_type": "code",
   "execution_count": 15,
   "id": "0595d58d",
   "metadata": {
    "ExecuteTime": {
     "end_time": "2022-07-30T17:43:23.003976Z",
     "start_time": "2022-07-30T17:43:22.953154Z"
    }
   },
   "outputs": [
    {
     "name": "stdout",
     "output_type": "stream",
     "text": [
      "취업률 : \n",
      "취업인원 : \n",
      "수료인원 : \n",
      "취업률 : \n",
      "취업인원 : \n",
      "수료인원 : \n",
      "취업률 : \n",
      "취업인원 : \n",
      "수료인원 : 23\n",
      "취업률 : \n",
      "취업인원 : \n",
      "수료인원 : 23\n",
      "취업률 : 84.2\n",
      "취업인원 : 16\n",
      "수료인원 : 19\n",
      "취업률 : 83.3\n",
      "취업인원 : 15\n",
      "수료인원 : 18\n",
      "취업률 : 72\n",
      "취업인원 : 18\n",
      "수료인원 : 25\n",
      "취업률 : 82.6\n",
      "취업인원 : 19\n",
      "수료인원 : 23\n",
      "취업률 : 76.2\n",
      "취업인원 : 16\n",
      "수료인원 : 21\n",
      "취업률 : 92.3\n",
      "취업인원 : 24\n",
      "수료인원 : 26\n"
     ]
    }
   ],
   "source": [
    "# 취업률 (고용보험가입 6개월) 취업인원/수료인원\n",
    "\n",
    "\n",
    "count = len(soup.select('a.tool_tip_btn')) + 1\n",
    "cnt = 0\n",
    "for i in soup.select('table.view'):\n",
    "    if i.text.find('취업률 고용보험가입 6개월') != -1:\n",
    "        for j in i.select('b'):\n",
    "            cnt += 1\n",
    "            if cnt % 3 == 2:\n",
    "                rate_empl = j.text.replace('\\n','').replace('\\t','')\n",
    "                print(f'취업률 : {rate_empl[:rate_empl.find(\"%\")]}')\n",
    "                print(f'취업인원 : {rate_empl[rate_empl.find(\"%\")+2:rate_empl.find(\"/\")]}')\n",
    "                print(f'수료인원 : {rate_empl[rate_empl.find(\"/\")+1:-1]}')"
   ]
  },
  {
   "cell_type": "code",
   "execution_count": 16,
   "id": "0a9cb00e",
   "metadata": {
    "ExecuteTime": {
     "end_time": "2022-07-30T17:43:23.056045Z",
     "start_time": "2022-07-30T17:43:23.007352Z"
    }
   },
   "outputs": [
    {
     "name": "stdout",
     "output_type": "stream",
     "text": [
      "14회차 : \n",
      "2022-05-02 \n",
      "2022-10-18\n",
      "13회차 : \n",
      "2022-03-14 \n",
      "2022-08-24\n",
      "12회차 : \n",
      "2022-02-15 \n",
      "2022-08-04\n",
      "11회차 : \n",
      "2022-02-15 \n",
      "2022-08-04\n",
      "10회차 : \n",
      "2022-01-10 \n",
      "2022-06-23\n",
      "9회차 : \n",
      "2021-12-01 \n",
      "2022-05-17\n",
      "8회차 : \n",
      "2021-11-15 \n",
      "2022-04-27\n",
      "7회차 : \n",
      "2021-09-15 \n",
      "2022-02-28\n",
      "6회차 : \n",
      "2021-08-25 \n",
      "2022-01-28\n",
      "5회차 : \n",
      "2021-04-01 \n",
      "2021-08-31\n",
      "4회차 : \n",
      "2021-03-17 \n",
      "2021-08-19\n",
      "3회차 : \n",
      "2021-03-15 \n",
      "2021-08-13\n",
      "2회차 : \n",
      "2020-12-07 \n",
      "2021-05-21\n",
      "1회차 : \n",
      "2020-11-02 \n",
      "2021-04-12\n"
     ]
    }
   ],
   "source": [
    "count = len(soup.select('a.tool_tip_btn')) + 1\n",
    "for series in soup.select('span.con')[17:]:\n",
    "    if series.text.find('~') != -1:\n",
    "        count -= 1\n",
    "        print(f'{count}회차 : ')\n",
    "        print(series.text.replace('\\n','').replace('\\t','').strip()[:series.text.replace('\\n','').replace('\\t','').strip().find('~')])\n",
    "        print(series.text.replace('\\n','').replace('\\t','').strip()[series.text.replace('\\n','').replace('\\t','').strip().find('~')+1:])"
   ]
  },
  {
   "cell_type": "code",
   "execution_count": 17,
   "id": "a6a34e2f",
   "metadata": {
    "ExecuteTime": {
     "end_time": "2022-07-30T17:43:23.088094Z",
     "start_time": "2022-07-30T17:43:23.060276Z"
    }
   },
   "outputs": [
    {
     "name": "stdout",
     "output_type": "stream",
     "text": [
      "['25', '25']\n",
      "['25', '25']\n",
      "['25', '25']\n",
      "['25', '25']\n",
      "['25', '25']\n",
      "['25', '25']\n",
      "['25', '25']\n",
      "['25', '25']\n",
      "['24', '24']\n",
      "['25', '25']\n",
      "['25', '25']\n",
      "['25', '25']\n",
      "['28', '28']\n",
      "['28', '28']\n"
     ]
    }
   ],
   "source": [
    "# 수강확정인원, 수강신청인원\n",
    "for a in soup.select('table.view'):\n",
    "    for b in a.select('td'):\n",
    "        if b.text.find('수강확정인원') != -1:\n",
    "            print(re.findall('\\d+',b.text))"
   ]
  },
  {
   "cell_type": "markdown",
   "id": "1c63add7",
   "metadata": {},
   "source": [
    "### 한 페이지에서 얻을 수 있는 모든 정보 얻음\n",
    "---\n",
    "- 회차별 만족도\n",
    "\n",
    "- 회차별 모집인원\n",
    "\n",
    "- 회차별 취업인원/수료인원\n",
    "\n",
    "- 훈련시작일 ~훈련종료일\n",
    "\n",
    "- 수강확정인원, 수강신청인원"
   ]
  },
  {
   "cell_type": "markdown",
   "id": "1789e574",
   "metadata": {},
   "source": [
    "### 페이지 내 링크 통해 찾을 수 있는 데이터\n",
    "---\n",
    "> N회차 보러가기 링크 들어가서 안에서 찾을 수 있는 것을 찾기\n",
    "- 기관명\n",
    "- 과정명\n",
    "- 훈련비\n",
    "- 훈련기간"
   ]
  },
  {
   "cell_type": "markdown",
   "id": "b65b9870",
   "metadata": {},
   "source": [
    "1. N회차 링크 따기 ok"
   ]
  },
  {
   "cell_type": "markdown",
   "id": "256f2274",
   "metadata": {
    "ExecuteTime": {
     "end_time": "2022-07-30T12:07:52.857039Z",
     "start_time": "2022-07-30T12:07:52.845940Z"
    }
   },
   "source": [
    "> column 확인용\n",
    "1. 기관명 ok\n",
    "2. 과정명 ok\n",
    "3. 훈련비(원) ok\n",
    "4. 훈련시간 ok\n",
    "5. NCS 직무분류 ok\n",
    "6. 수강생 평균 연령대(세) ok\n",
    "7. 수강생 평균 만족도 ok\n",
    "8. 회차 ok\n",
    "9. 훈련기간 ok\n",
    "10. 훈련시작일 ok\n",
    "11. 훈련종료일 ok\n",
    "12. 모집인원 ok\n",
    "13. 수강확정인원 ok\n",
    "14. 수강신청인원 ok\n",
    "15. 회차별 만족도 ok\n",
    "16. 취업률 고용보험가입 3개월 ok\n",
    "17. 취업인원 ok\n",
    "18. 수료인원 ok"
   ]
  },
  {
   "cell_type": "markdown",
   "id": "c3c73426",
   "metadata": {},
   "source": [
    "## 1차 페이지 탐색 크롤링 시작"
   ]
  },
  {
   "cell_type": "code",
   "execution_count": 18,
   "id": "65a220f3",
   "metadata": {
    "ExecuteTime": {
     "end_time": "2022-07-30T17:44:08.497316Z",
     "start_time": "2022-07-30T17:43:23.091083Z"
    }
   },
   "outputs": [
    {
     "name": "stdout",
     "output_type": "stream",
     "text": [
      "--------------- 회차별 만족도 ---------------\n",
      "14회차 : 훈련진행중\n",
      "13회차 : 훈련진행중\n",
      "12회차 : 훈련진행중\n",
      "11회차 : 훈련진행중\n",
      "10회차 : 75.2\n",
      "9회차 : 82.4\n",
      "8회차 : 90.84\n",
      "7회차 : 90\n",
      "6회차 : 91.58\n",
      "5회차 : 84.54\n",
      "4회차 : 89.6\n",
      "3회차 : 89.56\n",
      "2회차 : 80.74\n",
      "1회차 : 95.56\n",
      "--------------- 회차별 훈련기간 ---------------\n",
      "14회차 : 2022-05-02 ~2022-10-18\n",
      "13회차 : 2022-03-14 ~2022-08-24\n",
      "12회차 : 2022-02-15 ~2022-08-04\n",
      "11회차 : 2022-02-15 ~2022-08-04\n",
      "10회차 : 2022-01-10 ~2022-06-23\n",
      "9회차 : 2021-12-01 ~2022-05-17\n",
      "8회차 : 2021-11-15 ~2022-04-27\n",
      "7회차 : 2021-09-15 ~2022-02-28\n",
      "6회차 : 2021-08-25 ~2022-01-28\n",
      "5회차 : 2021-04-01 ~2021-08-31\n",
      "4회차 : 2021-03-17 ~2021-08-19\n",
      "3회차 : 2021-03-15 ~2021-08-13\n",
      "2회차 : 2020-12-07 ~2021-05-21\n",
      "1회차 : 2020-11-02 ~2021-04-12\n",
      "--------------- 회차별 모집인원 ---------------\n",
      "14회차 : 훈련진행중\n",
      "13회차 : 훈련진행중\n",
      "12회차 : 훈련진행중\n",
      "11회차 : 훈련진행중\n",
      "10회차 : 25명\n",
      "9회차 : 25명\n",
      "8회차 : 25명\n",
      "7회차 : 25명\n",
      "6회차 : 24명\n",
      "5회차 : 25명\n",
      "4회차 : 25명\n",
      "3회차 : 25명\n",
      "2회차 : 28명\n",
      "1회차 : 28명\n",
      "--------------- 회차별 [수료, 취업]인원 ---------------\n",
      "14회차 : 훈련진행중\n",
      "13회차 : 훈련진행중\n",
      "12회차 : 훈련진행중\n",
      "11회차 : 훈련진행중\n",
      "10회차 : (/)\n",
      "9회차 : (/)\n",
      "8회차 : /23\n",
      "7회차 : 20/23\n",
      "6회차 : 1/19\n",
      "5회차 : 15/18\n",
      "4회차 : 14/25\n",
      "3회차 : 2/23\n",
      "2회차 : 16/21\n",
      "1회차 : 21/26\n",
      "--------------- 회차별 수강 [확정,신청] 인원 ---------------\n",
      "['25', '25']\n",
      "['25', '25']\n",
      "['25', '25']\n",
      "['25', '25']\n",
      "['25', '25']\n",
      "['25', '25']\n",
      "['25', '25']\n",
      "['25', '25']\n",
      "['24', '24']\n",
      "['25', '25']\n",
      "['25', '25']\n",
      "['25', '25']\n",
      "['28', '28']\n",
      "['28', '28']\n",
      "----------------1 회차 ---------------\n",
      "스마트인재개발원\n",
      "빅데이터 분석서비스 개발자과정(NCS)모집마감\n",
      "13,762,240 원\n",
      "\n",
      "116일,\n",
      "총928시간\n",
      "응용SW엔지니어링(20010202)\n",
      "----------------2 회차 ---------------\n",
      "스마트인재개발원\n",
      "빅데이터 분석서비스 개발자과정(NCS)모집마감\n",
      "13,762,240 원\n",
      "\n",
      "116일,\n",
      "총928시간\n",
      "응용SW엔지니어링(20010202)\n",
      "----------------3 회차 ---------------\n",
      "스마트인재개발원\n",
      "빅데이터 분석서비스 개발자과정(NCS)모집마감\n",
      "13,762,240 원\n",
      "\n",
      "116일,\n",
      "총928시간\n",
      "응용SW엔지니어링(20010202)\n",
      "----------------4 회차 ---------------\n",
      "스마트인재개발원\n",
      "빅데이터 분석서비스 개발자과정(NCS)모집마감\n",
      "13,762,240 원\n",
      "\n",
      "116일,\n",
      "총928시간\n",
      "응용SW엔지니어링(20010202)\n",
      "----------------5 회차 ---------------\n",
      "스마트인재개발원\n",
      "빅데이터 분석서비스 개발자과정(NCS)모집마감\n",
      "13,762,240 원\n",
      "\n",
      "116일,\n",
      "총928시간\n",
      "응용SW엔지니어링(20010202)\n",
      "----------------6 회차 ---------------\n",
      "스마트인재개발원\n",
      "빅데이터 분석서비스 개발자과정(NCS)모집마감\n",
      "13,762,240 원\n",
      "\n",
      "115일,\n",
      "총928시간\n",
      "응용SW엔지니어링(20010202)\n",
      "----------------7 회차 ---------------\n",
      "스마트인재개발원\n",
      "빅데이터 분석서비스 개발자과정(NCS)모집마감\n",
      "13,762,240 원\n",
      "\n",
      "116일,\n",
      "총928시간\n",
      "응용SW엔지니어링(20010202)\n",
      "----------------8 회차 ---------------\n",
      "스마트인재개발원\n",
      "빅데이터 분석서비스 개발자과정(NCS)모집마감\n",
      "13,762,240 원\n",
      "\n",
      "119일,\n",
      "총928시간\n",
      "응용SW엔지니어링(20010202)\n",
      "----------------9 회차 ---------------\n",
      "스마트인재개발원\n",
      "빅데이터 분석서비스 개발자과정(NCS)모집마감\n",
      "13,762,240 원\n",
      "\n",
      "119일,\n",
      "총928시간\n",
      "응용SW엔지니어링(20010202)\n",
      "----------------10 회차 ---------------\n",
      "스마트인재개발원\n",
      "빅데이터 분석서비스 개발자과정(NCS)모집마감\n",
      "13,762,240 원\n",
      "\n",
      "118일,\n",
      "총928시간\n",
      "응용SW엔지니어링(20010202)\n",
      "----------------11 회차 ---------------\n",
      "스마트인재개발원\n",
      "빅데이터 분석서비스 개발자과정(NCS)모집마감\n",
      "13,762,240 원\n",
      "\n",
      "118일,\n",
      "총928시간\n",
      "응용SW엔지니어링(20010202)\n",
      "----------------12 회차 ---------------\n",
      "스마트인재개발원\n",
      "빅데이터 분석서비스 개발자과정(NCS)모집마감\n",
      "13,762,240 원\n",
      "\n",
      "118일,\n",
      "총928시간\n",
      "응용SW엔지니어링(20010202)\n",
      "----------------13 회차 ---------------\n",
      "스마트인재개발원\n",
      "빅데이터 분석서비스 개발자과정(NCS)모집마감\n",
      "13,762,240 원\n",
      "\n",
      "118일,\n",
      "총928시간\n",
      "응용SW엔지니어링(20010202)\n",
      "----------------14 회차 ---------------\n",
      "스마트인재개발원\n",
      "빅데이터 분석서비스 개발자과정(NCS)모집마감\n",
      "13,762,240 원\n",
      "\n",
      "119일,\n",
      "총928시간\n",
      "응용SW엔지니어링(20010202)\n"
     ]
    }
   ],
   "source": [
    "# 회차별 만족도\n",
    "print('-'*15,'회차별 만족도','-'*15)\n",
    "count = len(soup.select('a.tool_tip_btn')) + 1\n",
    "for i in soup.select('table.view')[2:]:\n",
    "    if i.text.find('훈련진행중') != -1:\n",
    "        count -= 1\n",
    "        print(f'{count}회차 : 훈련진행중')\n",
    "    else:\n",
    "        for j in i.select('td'):\n",
    "            tableview = j.text.replace('\\n','').replace('\\t','').strip()\n",
    "            if re.findall('[.\\d]+\\s점',tableview) != []:\n",
    "                count -= 1\n",
    "                print(f\"{count}회차 : \" + re.findall('[.\\d]+\\s점',tableview).pop().replace(' 점',''))\n",
    "\n",
    "# 회차별 훈련기간\n",
    "print('-'*15,'회차별 훈련기간','-'*15)\n",
    "count = len(soup.select('a.tool_tip_btn')) + 1\n",
    "for series in soup.select('span.con')[17:]:\n",
    "    if series.text.find('~') != -1:\n",
    "        count -= 1\n",
    "        print(f'{count}회차 : ' + series.text.replace('\\n','').replace('\\t','').strip())\n",
    "        \n",
    "# 회차별 모집인원\n",
    "print('-'*15,'회차별 모집인원','-'*15)\n",
    "count = len(soup.select('a.tool_tip_btn')) + 1\n",
    "for i in soup.select('table.view')[2:]:\n",
    "    if i.text.find('훈련진행중') != -1:\n",
    "        count -= 1\n",
    "        print(f'{count}회차 : 훈련진행중')\n",
    "    else:\n",
    "        for j in i.select('td'):\n",
    "            if re.findall('\\d+명/',j.text) != []:\n",
    "                count -= 1\n",
    "                print(f\"{count}회차 : \" + re.findall('\\d+명/',j.text).pop().replace('/',''))\n",
    "\n",
    "\n",
    "# 회차별 수료, 취업 인원\n",
    "print('-'*15,'회차별 [수료, 취업]인원','-'*15)\n",
    "# [(\\d]+/ : 취업인원\n",
    "# /\\d+ : 수료인원\n",
    "count = len(soup.select('a.tool_tip_btn')) + 1\n",
    "break_count = 2 \n",
    "comple = ''\n",
    "entire = ''\n",
    "for i in soup.select('table.view'):\n",
    "    if i.text.find('훈련진행중') != -1:\n",
    "        count -= 1\n",
    "        print(f'{count}회차 : 훈련진행중')\n",
    "    else:\n",
    "        for j in i.select('td'):\n",
    "            break_count += 1\n",
    "            if break_count % 3 == 0:\n",
    "                if re.findall('\\(/\\)',j.text) != []:\n",
    "                    count -= 1\n",
    "                    print(f'{count}회차 : ' +re.findall('\\(/\\)',j.text).pop())\n",
    "                elif re.findall('[(\\d]+/', j.text) != [] and re.findall('\\d+\\)', j.text) != []:\n",
    "                    count -= 1\n",
    "                    print(f'{count}회차 : '+(re.findall('[(\\d]+/', j.text).pop().replace('(','')) + re.findall('\\d+\\)', j.text).pop().replace(')',''))\n",
    "            else:\n",
    "                pass\n",
    "            \n",
    "# 회차별 수강확정인원, 수강신청인원\n",
    "print('-'*15,'회차별 수강 [확정,신청] 인원','-'*15)\n",
    "for a in soup.select('table.view'):\n",
    "    for b in a.select('td'):\n",
    "        if b.text.find('수강확정인원') != -1:\n",
    "            print(re.findall('\\d+',b.text))\n",
    "for index, patterns in enumerate(soup.select('a.tool_tip_btn')):\n",
    "    series_url = f'https://www.hrd.go.kr/hrdp/co/pcobo/PCOBO0100P.do?tracseId=AIG20200000286660&tracseTme={index+1}&crseTracseSe=C0061&trainstCstmrId=500020018488#undefined'\n",
    "    resp_series = requests.get(series_url)\n",
    "    soup_series = BeautifulSoup(resp_series.text, \"html.parser\")\n",
    "    \n",
    "    print(f'----------------{index+1} 회차 ---------------')\n",
    "    \n",
    "    # 차단 방지 시간 딜레이\n",
    "    seed = np.random.randint(100)\n",
    "    np.random.seed(seed)\n",
    "    a = np.random.randint(5)\n",
    "    time.sleep(a)\n",
    "    \n",
    "    # 기관명\n",
    "    for organ in soup_series.select('p.add'):\n",
    "        print(organ.text.strip())\n",
    "#     data.append(organ.text.strip())\n",
    "    \n",
    "    # 과정명\n",
    "    for course in soup_series.select('h4.tit'):\n",
    "        print(course.text.replace('\\n','').replace('\\t',''))\n",
    "#     data.append(course.text.replace('\\n','').replace('\\t',''))\n",
    "    \n",
    "    # 훈련비\n",
    "    for price in soup_series.select('p.price'):\n",
    "        print(price.text.strip().replace('\\n','')[:price.text.find('원')].strip().replace('\\t',''))\n",
    "#     data.append(price.text.strip().replace('\\n','')[:price.text.find('원')].strip().replace('\\t',''))\n",
    "\n",
    "    # 훈련시간\n",
    "    for i in soup_series.select('span.con'):\n",
    "        if i.text.find('일') != -1:\n",
    "            print(i.text.replace('\\n,','').replace('\\t','').strip())\n",
    "#             data.append(i.text.replace('\\n,','').replace('\\t','').strip())\n",
    "    # NCS 자격분류\n",
    "    for NCS in soup_series.select('span.con'):\n",
    "        if re.findall('\\d{6,}',NCS.text) != []:\n",
    "            print(re.findall('.+\\d{6,}.',NCS.text).pop().replace('\\t',''))\n"
   ]
  },
  {
   "cell_type": "markdown",
   "id": "84511d02",
   "metadata": {},
   "source": [
    "## 1차 DateFrame 만들기"
   ]
  },
  {
   "cell_type": "markdown",
   "id": "397f9f25",
   "metadata": {},
   "source": [
    "### Define column"
   ]
  },
  {
   "cell_type": "markdown",
   "id": "9249029b",
   "metadata": {},
   "source": [
    "> 기존에서 순서 바꾸고, 중복 제거"
   ]
  },
  {
   "cell_type": "markdown",
   "id": "7043123c",
   "metadata": {},
   "source": [
    "순서이렇게 하자\n",
    "\n",
    "> 기관명, 과정명, 회차, 훈련비, 훈련시작일, 훈련종료일, 훈련시간, NCS 직무분류, 모집인원, 수강확정인원, 수강신청인원, 수강생 평균 연령대(세), 수강생 만족도, 취업률 고용보험가입 3개월, 취업인원(3개월), 수료인원, 취업률 고용보험가입 6개월, 취업인원(6개월)\n",
    "\n",
    "> column size : 18\n",
    "\n",
    "- 훈련시간, 회차별 만족도 -> 중복으로 뺌 "
   ]
  },
  {
   "cell_type": "code",
   "execution_count": 19,
   "id": "2b95dd56",
   "metadata": {
    "ExecuteTime": {
     "end_time": "2022-07-30T17:44:08.512916Z",
     "start_time": "2022-07-30T17:44:08.504358Z"
    }
   },
   "outputs": [
    {
     "data": {
      "text/plain": [
       "18"
      ]
     },
     "execution_count": 19,
     "metadata": {},
     "output_type": "execute_result"
    }
   ],
   "source": [
    "col = ['기관명', '과정명', '회차', '훈련비', '훈련시작일', '훈련종료일', \n",
    "       '훈련시간', 'NCS 직무분류', '모집인원', '수강확정인원', '수강신청인원', \n",
    "       '수강생 평균 연령대(세)', '수강생 만족도', '취업률 고용보험가입 3개월', \n",
    "       '취업인원(3개월)', '수료인원','취업률 고용보험가입 6개월', '취업인원(6개월)']\n",
    "len(col)"
   ]
  },
  {
   "cell_type": "markdown",
   "id": "a11f7160",
   "metadata": {},
   "source": [
    "## 데이터 프레임 열만 생성"
   ]
  },
  {
   "cell_type": "code",
   "execution_count": 20,
   "id": "e26851d6",
   "metadata": {
    "ExecuteTime": {
     "end_time": "2022-07-30T17:44:08.614361Z",
     "start_time": "2022-07-30T17:44:08.565567Z"
    }
   },
   "outputs": [
    {
     "data": {
      "text/html": [
       "<div>\n",
       "<style scoped>\n",
       "    .dataframe tbody tr th:only-of-type {\n",
       "        vertical-align: middle;\n",
       "    }\n",
       "\n",
       "    .dataframe tbody tr th {\n",
       "        vertical-align: top;\n",
       "    }\n",
       "\n",
       "    .dataframe thead th {\n",
       "        text-align: right;\n",
       "    }\n",
       "</style>\n",
       "<table border=\"1\" class=\"dataframe\">\n",
       "  <thead>\n",
       "    <tr style=\"text-align: right;\">\n",
       "      <th></th>\n",
       "      <th>기관명</th>\n",
       "      <th>과정명</th>\n",
       "      <th>회차</th>\n",
       "      <th>훈련비</th>\n",
       "      <th>훈련시작일</th>\n",
       "      <th>훈련종료일</th>\n",
       "      <th>훈련시간</th>\n",
       "      <th>NCS 직무분류</th>\n",
       "      <th>모집인원</th>\n",
       "      <th>수강확정인원</th>\n",
       "      <th>수강신청인원</th>\n",
       "      <th>수강생 평균 연령대(세)</th>\n",
       "      <th>수강생 만족도</th>\n",
       "      <th>취업률 고용보험가입 3개월</th>\n",
       "      <th>취업인원(3개월)</th>\n",
       "      <th>수료인원</th>\n",
       "      <th>취업률 고용보험가입 6개월</th>\n",
       "      <th>취업인원(6개월)</th>\n",
       "    </tr>\n",
       "  </thead>\n",
       "  <tbody>\n",
       "  </tbody>\n",
       "</table>\n",
       "</div>"
      ],
      "text/plain": [
       "Empty DataFrame\n",
       "Columns: [기관명, 과정명, 회차, 훈련비, 훈련시작일, 훈련종료일, 훈련시간, NCS 직무분류, 모집인원, 수강확정인원, 수강신청인원, 수강생 평균 연령대(세), 수강생 만족도, 취업률 고용보험가입 3개월, 취업인원(3개월), 수료인원, 취업률 고용보험가입 6개월, 취업인원(6개월)]\n",
       "Index: []"
      ]
     },
     "execution_count": 20,
     "metadata": {},
     "output_type": "execute_result"
    }
   ],
   "source": [
    "df = pd.DataFrame(columns = col)\n",
    "df"
   ]
  },
  {
   "cell_type": "markdown",
   "id": "a1d5019c",
   "metadata": {},
   "source": [
    "## 데이터 추가\n",
    "\n",
    "> 1. concat : 추가할 대상이 데이터 프레임\n",
    "\n",
    "> 2. append : 추가할 대상이 딕셔너리 -> 컬럼 이름 : key, 데이터 : value\n",
    "\n",
    "> 3. loc : 추가할 대상이 리스트 -> 이때 loc에 들어가는 인덱스는 맨 마지막 인덱스로 설정."
   ]
  },
  {
   "cell_type": "markdown",
   "id": "9c321652",
   "metadata": {},
   "source": [
    "일단 뭐든 시도"
   ]
  },
  {
   "cell_type": "markdown",
   "id": "69138c78",
   "metadata": {},
   "source": [
    "회차별로 한 번에 뽑을 수 있는 데이터는 따로 모을 예정"
   ]
  },
  {
   "cell_type": "markdown",
   "id": "998c69b4",
   "metadata": {},
   "source": [
    "### dictionary로 만들어서 DataFrame에 append 해야 겠다.\n",
    "---"
   ]
  },
  {
   "cell_type": "markdown",
   "id": "25b6a90d",
   "metadata": {},
   "source": [
    "> 각 컬럼 종류별로 리스트로 넣고 join 함수로 str로 바꿔서 dictionary에 넣고 미리 만든 df랑 append로 합치기"
   ]
  },
  {
   "cell_type": "markdown",
   "id": "6947df5d",
   "metadata": {},
   "source": [
    "## 2차 크롤링\n",
    "---\n",
    "list로 데이터 담기 시작"
   ]
  },
  {
   "cell_type": "code",
   "execution_count": 54,
   "id": "22d78506",
   "metadata": {
    "ExecuteTime": {
     "end_time": "2022-07-30T18:23:31.381286Z",
     "start_time": "2022-07-30T18:22:42.405465Z"
    }
   },
   "outputs": [
    {
     "name": "stdout",
     "output_type": "stream",
     "text": [
      "--------------- 회차별 만족도 ---------------\n",
      "14회차 만족도 수집 완료\n",
      "13회차 만족도 수집 완료\n",
      "12회차 만족도 수집 완료\n",
      "11회차 만족도 수집 완료\n",
      "10회차 만족도 수집 완료\n",
      "9회차 만족도 수집 완료\n",
      "8회차 만족도 수집 완료\n",
      "7회차 만족도 수집 완료\n",
      "6회차 만족도 수집 완료\n",
      "5회차 만족도 수집 완료\n",
      "4회차 만족도 수집 완료\n",
      "3회차 만족도 수집 완료\n",
      "2회차 만족도 수집 완료\n",
      "1회차 만족도 수집 완료\n",
      "회차별 만족도 결과\n",
      "['훈련진행중', '훈련진행중', '훈련진행중', '훈련진행중', '75.2', '82.4', '90.84', '90', '91.58', '84.54', '89.6', '89.56', '80.74', '95.56']\n",
      "size : 14\n",
      "--------------- 회차별 훈련기간 ---------------\n",
      "14회차 훈련 시작일, 종료일 수집 완료\n",
      "13회차 훈련 시작일, 종료일 수집 완료\n",
      "12회차 훈련 시작일, 종료일 수집 완료\n",
      "11회차 훈련 시작일, 종료일 수집 완료\n",
      "10회차 훈련 시작일, 종료일 수집 완료\n",
      "9회차 훈련 시작일, 종료일 수집 완료\n",
      "8회차 훈련 시작일, 종료일 수집 완료\n",
      "7회차 훈련 시작일, 종료일 수집 완료\n",
      "6회차 훈련 시작일, 종료일 수집 완료\n",
      "5회차 훈련 시작일, 종료일 수집 완료\n",
      "4회차 훈련 시작일, 종료일 수집 완료\n",
      "3회차 훈련 시작일, 종료일 수집 완료\n",
      "2회차 훈련 시작일, 종료일 수집 완료\n",
      "1회차 훈련 시작일, 종료일 수집 완료\n",
      "회차별 시작일\n",
      "['2022-05-02 ', '2022-03-14 ', '2022-02-15 ', '2022-02-15 ', '2022-01-10 ', '2021-12-01 ', '2021-11-15 ', '2021-09-15 ', '2021-08-25 ', '2021-04-01 ', '2021-03-17 ', '2021-03-15 ', '2020-12-07 ', '2020-11-02 ']\n",
      "size : 14\n",
      "회차별 종료일\n",
      "['2022-10-18', '2022-08-24', '2022-08-04', '2022-08-04', '2022-06-23', '2022-05-17', '2022-04-27', '2022-02-28', '2022-01-28', '2021-08-31', '2021-08-19', '2021-08-13', '2021-05-21', '2021-04-12']\n",
      "size : 14\n",
      "--------------- 회차별 모집인원 ---------------\n",
      "14회차 모집인원 수집 완료\n",
      "13회차 모집인원 수집 완료\n",
      "12회차 모집인원 수집 완료\n",
      "11회차 모집인원 수집 완료\n",
      "10회차 : 모집인원 수집 완료\n",
      "9회차 : 모집인원 수집 완료\n",
      "8회차 : 모집인원 수집 완료\n",
      "7회차 : 모집인원 수집 완료\n",
      "6회차 : 모집인원 수집 완료\n",
      "5회차 : 모집인원 수집 완료\n",
      "4회차 : 모집인원 수집 완료\n",
      "3회차 : 모집인원 수집 완료\n",
      "2회차 : 모집인원 수집 완료\n",
      "1회차 : 모집인원 수집 완료\n",
      "회차별 모집인원\n",
      "['훈련진행중', '훈련진행중', '훈련진행중', '훈련진행중', '25', '25', '25', '25', '24', '25', '25', '25', '28', '28']\n",
      "size : 14\n",
      "취업률 수집 완료\n",
      "취업률 수집 완료\n",
      "취업률 수집 완료\n",
      "취업률 수집 완료\n",
      "취업률 수집 완료\n",
      "취업률 수집 완료\n",
      "취업률 수집 완료\n",
      "취업률 수집 완료\n",
      "취업률 수집 완료\n",
      "취업률 수집 완료\n",
      "['훈련진행중', '훈련진행중', '훈련진행중', '훈련진행중', '', '', '60.9', '87', '63.2', '0', '56', '73.9', '57.1', '80.8']\n",
      "size : 14\n",
      "['훈련진행중', '훈련진행중', '훈련진행중', '훈련진행중', '', '', '14', '20', '12', '0', '14', '17', '12', '21']\n",
      "size : 14\n",
      "['훈련진행중', '훈련진행중', '훈련진행중', '훈련진행중', '', '', '23', '23', '19', '18', '25', '23', '21', '26']\n",
      "size : 14\n",
      "--------------- 회차별 수강 [확정,신청] 인원 ---------------\n",
      "수강확정인원\n",
      "['25', '25', '25', '25', '25', '25', '25', '25', '24', '25', '25', '25', '28', '28']\n",
      "size : 14\n",
      "수강신청인원\n",
      "['25', '25', '25', '25', '25', '25', '25', '25', '24', '25', '25', '25', '28', '28']\n",
      "size : 14\n",
      "---------------- 14 회차 ---------------\n",
      "---------------- 13 회차 ---------------\n",
      "---------------- 12 회차 ---------------\n",
      "---------------- 11 회차 ---------------\n",
      "---------------- 10 회차 ---------------\n",
      "---------------- 9 회차 ---------------\n",
      "---------------- 8 회차 ---------------\n",
      "---------------- 7 회차 ---------------\n",
      "---------------- 6 회차 ---------------\n",
      "---------------- 5 회차 ---------------\n",
      "---------------- 4 회차 ---------------\n",
      "---------------- 3 회차 ---------------\n",
      "---------------- 2 회차 ---------------\n",
      "---------------- 1 회차 ---------------\n",
      "['스마트인재개발원', '스마트인재개발원', '스마트인재개발원', '스마트인재개발원', '스마트인재개발원', '스마트인재개발원', '스마트인재개발원', '스마트인재개발원', '스마트인재개발원', '스마트인재개발원', '스마트인재개발원', '스마트인재개발원', '스마트인재개발원', '스마트인재개발원']\n",
      "size : 14\n",
      "['빅데이터 분석서비스 개발자과정(NCS)모집마감', '빅데이터 분석서비스 개발자과정(NCS)모집마감', '빅데이터 분석서비스 개발자과정(NCS)모집마감', '빅데이터 분석서비스 개발자과정(NCS)모집마감', '빅데이터 분석서비스 개발자과정(NCS)모집마감', '빅데이터 분석서비스 개발자과정(NCS)모집마감', '빅데이터 분석서비스 개발자과정(NCS)모집마감', '빅데이터 분석서비스 개발자과정(NCS)모집마감', '빅데이터 분석서비스 개발자과정(NCS)모집마감', '빅데이터 분석서비스 개발자과정(NCS)모집마감', '빅데이터 분석서비스 개발자과정(NCS)모집마감', '빅데이터 분석서비스 개발자과정(NCS)모집마감', '빅데이터 분석서비스 개발자과정(NCS)모집마감', '빅데이터 분석서비스 개발자과정(NCS)모집마감']\n",
      "size : 14\n",
      "['13,762,240', '13,762,240', '13,762,240', '13,762,240', '13,762,240', '13,762,240', '13,762,240', '13,762,240', '13,762,240', '13,762,240', '13,762,240', '13,762,240', '13,762,240', '13,762,240']\n",
      "size : 14\n",
      "['116일,\\n총928시간', '116일,\\n총928시간', '116일,\\n총928시간', '116일,\\n총928시간', '116일,\\n총928시간', '116일,\\n총928시간', '116일,\\n총928시간', '116일,\\n총928시간', '116일,\\n총928시간', '116일,\\n총928시간', '116일,\\n총928시간', '116일,\\n총928시간', '116일,\\n총928시간', '116일,\\n총928시간']\n",
      "size : 14\n",
      "['응용SW엔지니어링(20010202)', '응용SW엔지니어링(20010202)', '응용SW엔지니어링(20010202)', '응용SW엔지니어링(20010202)', '응용SW엔지니어링(20010202)', '응용SW엔지니어링(20010202)', '응용SW엔지니어링(20010202)', '응용SW엔지니어링(20010202)', '응용SW엔지니어링(20010202)', '응용SW엔지니어링(20010202)', '응용SW엔지니어링(20010202)', '응용SW엔지니어링(20010202)', '응용SW엔지니어링(20010202)', '응용SW엔지니어링(20010202)']\n",
      "size : 14\n"
     ]
    }
   ],
   "source": [
    "# 베이스 url\n",
    "url = 'https://www.hrd.go.kr/hrdp/co/pcobo/PCOBO0100P.do?tracseId=AIG20200000286660&tracseTme=1&crseTracseSe=C0061&trainstCstmrId=500020018488#undefined'\n",
    "resp = requests.get(url)\n",
    "soup = BeautifulSoup(resp.text, 'html.parser')\n",
    "\n",
    "# columns (중복 일부러 하나 둠)\n",
    "orga = []# 기관명\n",
    "cour = []# 과정명\n",
    "seri = []# 회차\n",
    "pric = []# 훈련비\n",
    "prev = [] # 회차별 훈련시작 +\n",
    "fini = [] # 회차별 훈련종료 +\n",
    "spen = []# 훈련시간\n",
    "NCS_dist = []# NCS 직무 분류\n",
    "recu = [] # 회차별 모집인원 +\n",
    "conf = [] # 회차별 수강확정인원 +\n",
    "appl = [] # 회차별 수강신청인원 +\n",
    "mean_age = []# 수강생 평균 연령대\n",
    "sati = [] # 회차별 만족도 +\n",
    "empl_rate_3 = [] # 회차별 취업률(3개월) +\n",
    "empl_3 = [] # 회차별 취업인원 (3개월) +\n",
    "comp_3 = [] # 회차별 수료인원 (3개월) +\n",
    "empl_rate_6 = [] # 회차별 취업률(6개월) +\n",
    "empl_6 = [] # 회차별 취업인원 (6개월) +\n",
    "comp_6 = [] # 회차별 수료인원 (6개월) +\n",
    "\n",
    "\n",
    "\n",
    "# 회차별 만족도\n",
    "print('-'*15,'회차별 만족도','-'*15)\n",
    "count = len(soup.select('a.tool_tip_btn')) + 1\n",
    "for i in soup.select('table.view')[2:]:\n",
    "    if i.text.find('훈련진행중') != -1:\n",
    "        count -= 1\n",
    "        sati.append('훈련진행중')\n",
    "        print(f'{count}회차 만족도 수집 완료')\n",
    "    else:\n",
    "        for j in i.select('td'):\n",
    "            tableview = j.text.replace('\\n','').replace('\\t','').strip()\n",
    "            if re.findall('[.\\d]+\\s점',tableview) != []:\n",
    "                count -= 1\n",
    "                sati.append(re.findall('[.\\d]+\\s점',tableview).pop().replace(' 점',''))\n",
    "                print(f\"{count}회차 만족도 수집 완료\")\n",
    "print('회차별 만족도 결과')\n",
    "print(sati)\n",
    "print(f'size : {len(sati)}')\n",
    "\n",
    "# 회차별 훈련기간\n",
    "print('-'*15,'회차별 훈련기간','-'*15)\n",
    "count = len(soup.select('a.tool_tip_btn')) + 1\n",
    "for series in soup.select('span.con')[17:]:\n",
    "    if series.text.find('~') != -1:\n",
    "        count -= 1\n",
    "        print(f'{count}회차 훈련 시작일, 종료일 수집 완료')\n",
    "        prev.append(series.text.replace('\\n','').replace('\\t','').strip()[:series.text.replace('\\n','').replace('\\t','').strip().find('~')])\n",
    "        fini.append(series.text.replace('\\n','').replace('\\t','').strip()[series.text.replace('\\n','').replace('\\t','').strip().find('~')+1:])\n",
    "#         print(series.text.replace('\\n','').replace('\\t','').strip()[:series.text.replace('\\n','').replace('\\t','').strip().find('~')])\n",
    "#         print(series.text.replace('\\n','').replace('\\t','').strip()[series.text.replace('\\n','').replace('\\t','').strip().find('~')+1:])\n",
    "print('회차별 시작일')\n",
    "print(prev)\n",
    "print(f'size : {len(prev)}')\n",
    "print('회차별 종료일')\n",
    "print(fini)\n",
    "print(f'size : {len(fini)}')\n",
    "\n",
    "# 회차별 모집인원\n",
    "print('-'*15,'회차별 모집인원','-'*15)\n",
    "count = len(soup.select('a.tool_tip_btn')) + 1\n",
    "for i in soup.select('table.view')[2:]:\n",
    "    if i.text.find('훈련진행중') != -1:\n",
    "        count -= 1\n",
    "        recu.append('훈련진행중')\n",
    "        print(f'{count}회차 모집인원 수집 완료')\n",
    "    else:\n",
    "        for j in i.select('td'):\n",
    "            if re.findall('\\d+명/',j.text) != []:\n",
    "                count -= 1\n",
    "                recu.append(re.findall('\\d+명/',j.text).pop().replace('명/',''))\n",
    "                print(f\"{count}회차 : 모집인원 수집 완료\")\n",
    "print('회차별 모집인원')\n",
    "print(recu)\n",
    "print(f'size : {len(recu)}')\n",
    "                      \n",
    "# 취업률 (고용보험가입 3개월) 취업인원/수료인원\n",
    "series_count = len(soup.select('a.tool_tip_btn'))\n",
    "# count = len(soup.select('a.tool_tip_btn')) + 1\n",
    "cnt = 0\n",
    "for i in soup.select('table.view'):\n",
    "    if i.text.find('취업률 고용보험가입 3개월') != -1:\n",
    "        for j in i.select('b'):\n",
    "            cnt += 1\n",
    "            if cnt % 3 == 1:\n",
    "                rate_empl = j.text.replace('\\n','').replace('\\t','')\n",
    "                empl_rate_3.append(rate_empl[:rate_empl.find(\"%\")])\n",
    "                empl_3.append(rate_empl[rate_empl.find(\"%\")+2:rate_empl.find(\"/\")])\n",
    "                comp_3.append(rate_empl[rate_empl.find(\"/\")+1:-1])\n",
    "                print('취업률 수집 완료')\n",
    "while len(empl_rate_3) != series_count:\n",
    "    empl_rate_3.insert(0,'훈련진행중')\n",
    "while len(empl_3) != series_count:\n",
    "    empl_3.insert(0,'훈련진행중')\n",
    "while len(comp_3) != series_count:\n",
    "    comp_3.insert(0,'훈련진행중')\n",
    "print(empl_rate_3)\n",
    "print(f'size : {len(empl_rate_3)}')\n",
    "print(empl_3)\n",
    "print(f'size : {len(empl_3)}')\n",
    "print(comp_3)\n",
    "print(f'size : {len(comp_3)}')\n",
    "# 회차별 수강확정인원, 수강신청인원\n",
    "print('-'*15,'회차별 수강 [확정,신청] 인원','-'*15)\n",
    "for a in soup.select('table.view'):\n",
    "    for b in a.select('td'):\n",
    "        if b.text.find('수강확정인원') != -1:\n",
    "#             print(re.findall('\\d+',b.text))\n",
    "            conf.append(re.findall('\\d+',b.text)[0])\n",
    "            appl.append(re.findall('\\d+',b.text)[1])\n",
    "print('수강확정인원')\n",
    "print(conf)\n",
    "print(f'size : {len(conf)}')\n",
    "print('수강신청인원')\n",
    "print(appl)\n",
    "print(f'size : {len(appl)}')\n",
    "\n",
    "count = len(soup.select('a.tool_tip_btn')) + 1\n",
    "    \n",
    "for patterns in soup.select('a.tool_tip_btn'):\n",
    "    series_url = f'https://www.hrd.go.kr/hrdp/co/pcobo/PCOBO0100P.do?tracseId=AIG20200000286660&tracseTme={index+1}&crseTracseSe=C0061&trainstCstmrId=500020018488#undefined'\n",
    "    resp_series = requests.get(series_url)\n",
    "    soup_series = BeautifulSoup(resp_series.text, \"html.parser\")\n",
    "\n",
    "    count -= 1\n",
    "    print(f'---------------- {count} 회차 ---------------')\n",
    "    \n",
    "    # 차단 방지 시간 딜레이\n",
    "    seed = np.random.randint(100)\n",
    "    np.random.seed(seed)\n",
    "    a = np.random.randint(5)\n",
    "    time.sleep(a)\n",
    "    \n",
    "    # 기관명\n",
    "    for organ in soup_series.select('p.add'):\n",
    "        orga.append(organ.text.strip())\n",
    "\n",
    "    # 과정명\n",
    "    for course in soup_series.select('h4.tit'):\n",
    "#         print(course.text.replace('\\n','').replace('\\t',''))\n",
    "        cour.append(course.text.replace('\\n','').replace('\\t',''))\n",
    "    \n",
    "    # 훈련비\n",
    "    pric.append(soup.select('p.price')[0].text[:soup.select('p.price')[0].text.find(' 원')].replace('\\n', '').replace('\\t', ''))\n",
    "#     for price in soup_series.select('p.price'):\n",
    "#         print(price.text.strip().replace('\\n','')[:price.text.find('원')].strip().replace('\\t',''))\n",
    "#         pric.append(price.text.strip().replace('\\n','')[:price.text.find('원')].strip().replace('\\t',''))\n",
    "\n",
    "    # 훈련시간\n",
    "    for i in soup.select('span.con'):\n",
    "        if i.text.find('일') != -1:\n",
    "#             print(i.text.replace('\\n','').replace('\\t',''))\n",
    "            spen.append(i.text.replace('\\n,','').replace('\\t','').strip())\n",
    "    # NCS 자격분류\n",
    "    for NCS in soup_series.select('span.con'):\n",
    "        if re.findall('\\d{6,}',NCS.text) != []:\n",
    "#             print(re.findall('.+\\d{6,}.',NCS.text).pop().replace('\\t',''))\n",
    "            NCS_dist.append(re.findall('.+\\d{6,}.',NCS.text).pop().replace('\\t',''))\n",
    "\n",
    "print(orga)\n",
    "print(f'size : {len(orga)}')\n",
    "print(cour)\n",
    "print(f'size : {len(cour)}')\n",
    "print(pric)\n",
    "print(f'size : {len(pric)}')\n",
    "print(spen)\n",
    "print(f'size : {len(spen)}')\n",
    "print(NCS_dist)\n",
    "print(f'size : {len(NCS_dist)}')\n",
    "\n"
   ]
  },
  {
   "cell_type": "markdown",
   "id": "62540396",
   "metadata": {},
   "source": [
    "### list -> str -> dictionary 로 변환"
   ]
  },
  {
   "cell_type": "markdown",
   "id": "bf1de0b1",
   "metadata": {},
   "source": [
    "### dictionary -> DataFrame 변환"
   ]
  },
  {
   "cell_type": "code",
   "execution_count": null,
   "id": "761a3365",
   "metadata": {},
   "outputs": [],
   "source": []
  },
  {
   "cell_type": "code",
   "execution_count": null,
   "id": "e8ba087e",
   "metadata": {},
   "outputs": [],
   "source": []
  }
 ],
 "metadata": {
  "kernelspec": {
   "display_name": "Python 3 (ipykernel)",
   "language": "python",
   "name": "python3"
  },
  "language_info": {
   "codemirror_mode": {
    "name": "ipython",
    "version": 3
   },
   "file_extension": ".py",
   "mimetype": "text/x-python",
   "name": "python",
   "nbconvert_exporter": "python",
   "pygments_lexer": "ipython3",
   "version": "3.10.2"
  },
  "toc": {
   "base_numbering": 1,
   "nav_menu": {},
   "number_sections": true,
   "sideBar": true,
   "skip_h1_title": false,
   "title_cell": "Table of Contents",
   "title_sidebar": "Contents",
   "toc_cell": false,
   "toc_position": {},
   "toc_section_display": true,
   "toc_window_display": false
  },
  "varInspector": {
   "cols": {
    "lenName": 16,
    "lenType": 16,
    "lenVar": 40
   },
   "kernels_config": {
    "python": {
     "delete_cmd_postfix": "",
     "delete_cmd_prefix": "del ",
     "library": "var_list.py",
     "varRefreshCmd": "print(var_dic_list())"
    },
    "r": {
     "delete_cmd_postfix": ") ",
     "delete_cmd_prefix": "rm(",
     "library": "var_list.r",
     "varRefreshCmd": "cat(var_dic_list()) "
    }
   },
   "types_to_exclude": [
    "module",
    "function",
    "builtin_function_or_method",
    "instance",
    "_Feature"
   ],
   "window_display": false
  }
 },
 "nbformat": 4,
 "nbformat_minor": 5
}
