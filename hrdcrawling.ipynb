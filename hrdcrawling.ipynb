{
 "cells": [
  {
   "cell_type": "markdown",
   "id": "7765e5b4",
   "metadata": {},
   "source": [
    "# SubPTJ crawling"
   ]
  },
  {
   "cell_type": "markdown",
   "id": "f844ca70",
   "metadata": {},
   "source": [
    "## Crawling"
   ]
  },
  {
   "cell_type": "code",
   "execution_count": 1,
   "id": "a350a5d1",
   "metadata": {
    "ExecuteTime": {
     "end_time": "2022-07-30T18:40:00.330686Z",
     "start_time": "2022-07-30T18:39:58.093997Z"
    }
   },
   "outputs": [],
   "source": [
    "import time\n",
    "import json\n",
    "import urllib\n",
    "import requests\n",
    "from bs4 import BeautifulSoup\n",
    "import numpy as np\n",
    "import pandas as pd\n",
    "import matplotlib.pyplot as plt\n",
    "import seaborn as sns\n",
    "import re"
   ]
  },
  {
   "cell_type": "markdown",
   "id": "92c4aed0",
   "metadata": {},
   "source": [
    "### HRD-net URL\n",
    "---\n",
    "한 페이지에서 원하는 데이터 뽑아서 모든 페이지 적용할 예정"
   ]
  },
  {
   "cell_type": "code",
   "execution_count": 2,
   "id": "2b20fb2c",
   "metadata": {
    "ExecuteTime": {
     "end_time": "2022-07-30T18:40:01.340461Z",
     "start_time": "2022-07-30T18:40:00.334932Z"
    }
   },
   "outputs": [],
   "source": [
    "url = 'https://www.hrd.go.kr/hrdp/co/pcobo/PCOBO0100P.do?tracseId=AIG20200000286660&tracseTme=1&crseTracseSe=C0061&trainstCstmrId=500020018488#undefined'\n",
    "\n",
    "resp = requests.get(url)\n",
    "soup = BeautifulSoup(resp.text, 'html.parser')"
   ]
  },
  {
   "cell_type": "markdown",
   "id": "d9ce259e",
   "metadata": {},
   "source": [
    "> 기관명"
   ]
  },
  {
   "cell_type": "code",
   "execution_count": 3,
   "id": "c27209f8",
   "metadata": {
    "ExecuteTime": {
     "end_time": "2022-07-30T18:40:01.361500Z",
     "start_time": "2022-07-30T18:40:01.342354Z"
    }
   },
   "outputs": [
    {
     "name": "stdout",
     "output_type": "stream",
     "text": [
      "스마트인재개발원\n"
     ]
    }
   ],
   "source": [
    "# 기관명\n",
    "for organ in soup.select('p.add'):\n",
    "    print(organ.text.strip())\n",
    "#     data.append(organ.text.strip())"
   ]
  },
  {
   "cell_type": "markdown",
   "id": "ab187346",
   "metadata": {},
   "source": [
    "> 과정명"
   ]
  },
  {
   "cell_type": "code",
   "execution_count": 4,
   "id": "53b94445",
   "metadata": {
    "ExecuteTime": {
     "end_time": "2022-07-30T18:40:01.384680Z",
     "start_time": "2022-07-30T18:40:01.365412Z"
    }
   },
   "outputs": [
    {
     "name": "stdout",
     "output_type": "stream",
     "text": [
      "빅데이터 분석서비스 개발자과정(NCS)모집마감\n"
     ]
    }
   ],
   "source": [
    "# 과정명\n",
    "for course in soup.select('h4.tit'):\n",
    "    print(course.text.replace('\\n','').replace('\\t',''))\n",
    "#     data.append(course.text.replace('\\n','').replace('\\t',''))"
   ]
  },
  {
   "cell_type": "markdown",
   "id": "6baf4a3c",
   "metadata": {},
   "source": [
    "> 훈련비"
   ]
  },
  {
   "cell_type": "code",
   "execution_count": 5,
   "id": "70160cfe",
   "metadata": {
    "ExecuteTime": {
     "end_time": "2022-07-30T18:40:01.412253Z",
     "start_time": "2022-07-30T18:40:01.387126Z"
    }
   },
   "outputs": [
    {
     "name": "stdout",
     "output_type": "stream",
     "text": [
      "13,762,240 원\n",
      "\n"
     ]
    }
   ],
   "source": [
    "# 훈련비\n",
    "for price in soup.select('p.price'):\n",
    "    print(price.text.strip().replace('\\n','')[:price.text.find('원')].strip().replace('\\t',''))\n",
    "#     data.append(price.text.strip().replace('\\n','')[:price.text.find('원')].strip().replace('\\t',''))"
   ]
  },
  {
   "cell_type": "code",
   "execution_count": 6,
   "id": "072f4727",
   "metadata": {
    "ExecuteTime": {
     "end_time": "2022-07-30T18:40:01.462205Z",
     "start_time": "2022-07-30T18:40:01.416834Z"
    }
   },
   "outputs": [
    {
     "name": "stdout",
     "output_type": "stream",
     "text": [
      "NCS : 응용SW엔지니어링\n",
      "datetime : 2020-11-02\n",
      "~2021-04-12\n",
      "(1회차)\n",
      "date : 116일,총928시간\n",
      "age : 27 세\n"
     ]
    }
   ],
   "source": [
    "\n",
    "for i in soup.select('span.con'):\n",
    "    if i.text.find('일') != -1:\n",
    "        date = i.text.replace('\\n,','').replace('\\t','').strip().replace('\\n','')\n",
    "        print(f'date : {date}')\n",
    "    elif i.text.find('세') != -1:\n",
    "        age = i.text.replace('\\n,','').replace('\\t','').strip()\n",
    "        print('age : ' + age)\n",
    "    elif i.text.find(')') != -1:\n",
    "        if  i.text.find('~') == -1:\n",
    "            NCS = i.text.replace('\\n,','').replace('\\t','').strip()\n",
    "            print('NCS : ' + NCS[:NCS.find('(')])\n",
    "        else:\n",
    "            print('datetime : ' + i.text.replace('\\n,','').replace('\\t','').strip())\n",
    "    \n",
    "#         data.append(i.text.replace('\\n,','').replace('\\t','').strip())\n",
    "#     print(i.text.replace('\\n', '').replace('\\t','').strip())"
   ]
  },
  {
   "cell_type": "code",
   "execution_count": 7,
   "id": "9d02696f",
   "metadata": {
    "ExecuteTime": {
     "end_time": "2022-07-30T18:40:01.529475Z",
     "start_time": "2022-07-30T18:40:01.467960Z"
    }
   },
   "outputs": [
    {
     "name": "stdout",
     "output_type": "stream",
     "text": [
      "응용SW엔지니어링(20010202)\n"
     ]
    }
   ],
   "source": [
    "# NCS 자격분류\n",
    "for NCS in soup.select('span.con'):\n",
    "    if re.findall('\\d{6,}',NCS.text) != []:\n",
    "        print(re.findall('.+\\d{6,}.',NCS.text).pop().replace('\\t',''))"
   ]
  },
  {
   "cell_type": "markdown",
   "id": "fba0e17b",
   "metadata": {
    "ExecuteTime": {
     "end_time": "2022-07-30T09:12:23.559416Z",
     "start_time": "2022-07-30T09:12:23.480660Z"
    }
   },
   "source": [
    "> span 태그가 적절하지 않음 -> 쓸데없는게 너무 뽑힘\n",
    "\n",
    "> 근데 대안도 없다 이걸로 가자"
   ]
  },
  {
   "cell_type": "code",
   "execution_count": 8,
   "id": "fab39d3e",
   "metadata": {
    "ExecuteTime": {
     "end_time": "2022-07-30T18:40:01.589099Z",
     "start_time": "2022-07-30T18:40:01.556749Z"
    }
   },
   "outputs": [
    {
     "data": {
      "text/plain": [
       "'만족도 100점 기준86.88점'"
      ]
     },
     "execution_count": 8,
     "metadata": {},
     "output_type": "execute_result"
    }
   ],
   "source": [
    "# 수강생 평균 만족도\n",
    "soup.select('div.starRating')[0].get('aria-label')"
   ]
  },
  {
   "cell_type": "code",
   "execution_count": 9,
   "id": "324cb7e6",
   "metadata": {
    "ExecuteTime": {
     "end_time": "2022-07-30T18:40:01.620443Z",
     "start_time": "2022-07-30T18:40:01.593302Z"
    }
   },
   "outputs": [
    {
     "name": "stdout",
     "output_type": "stream",
     "text": [
      "116일,\n",
      "총928시간\n"
     ]
    }
   ],
   "source": [
    "# 훈련시간\n",
    "for i in soup.select('span.con'):\n",
    "    if i.text.find('일') != -1:\n",
    "        print(i.text.replace('\\n,','').replace('\\t','').strip())\n",
    "#         data.append(i.text.replace('\\n,','').replace('\\t','').strip())"
   ]
  },
  {
   "cell_type": "markdown",
   "id": "717cd963",
   "metadata": {},
   "source": [
    "> table.view 태그로 회차별 정보 한 번에 뽑기"
   ]
  },
  {
   "cell_type": "code",
   "execution_count": 10,
   "id": "a139e2dc",
   "metadata": {
    "ExecuteTime": {
     "end_time": "2022-07-30T18:40:01.655449Z",
     "start_time": "2022-07-30T18:40:01.628197Z"
    }
   },
   "outputs": [
    {
     "data": {
      "text/plain": [
       "14"
      ]
     },
     "execution_count": 10,
     "metadata": {},
     "output_type": "execute_result"
    }
   ],
   "source": [
    "# 전체 회차\n",
    "len(soup.select('a.tool_tip_btn'))"
   ]
  },
  {
   "cell_type": "code",
   "execution_count": 11,
   "id": "1f647618",
   "metadata": {
    "ExecuteTime": {
     "end_time": "2022-07-30T18:40:01.722969Z",
     "start_time": "2022-07-30T18:40:01.657819Z"
    },
    "scrolled": false
   },
   "outputs": [
    {
     "name": "stdout",
     "output_type": "stream",
     "text": [
      "14회차 : 훈련진행중\n",
      "13회차 : 훈련진행중\n",
      "12회차 : 훈련진행중\n",
      "11회차 : 훈련진행중\n",
      "10회차 : 75.2\n",
      "9회차 : 82.4\n",
      "8회차 : 90.84\n",
      "7회차 : 90\n",
      "6회차 : 91.58\n",
      "5회차 : 84.54\n",
      "4회차 : 89.6\n",
      "3회차 : 89.56\n",
      "2회차 : 80.74\n",
      "1회차 : 95.56\n"
     ]
    }
   ],
   "source": [
    "# 회차별 만족도 \n",
    "count = len(soup.select('a.tool_tip_btn')) + 1\n",
    "for i in soup.select('table.view')[2:]:\n",
    "    if i.text.find('훈련진행중') != -1:\n",
    "        count -= 1\n",
    "        print(f'{count}회차 : 훈련진행중')\n",
    "    else:\n",
    "        for j in i.select('td'):\n",
    "            tableview = j.text.replace('\\n','').replace('\\t','').strip()\n",
    "            if re.findall('[.\\d]+\\s점',tableview) != []:\n",
    "                count -= 1\n",
    "                print(f\"{count}회차 : \" + re.findall('[.\\d]+\\s점',tableview).pop().replace(' 점',''))"
   ]
  },
  {
   "cell_type": "code",
   "execution_count": 12,
   "id": "9f52b2b5",
   "metadata": {
    "ExecuteTime": {
     "end_time": "2022-07-30T18:40:01.772525Z",
     "start_time": "2022-07-30T18:40:01.725663Z"
    }
   },
   "outputs": [
    {
     "name": "stdout",
     "output_type": "stream",
     "text": [
      "14회차 : 훈련진행중\n",
      "13회차 : 훈련진행중\n",
      "12회차 : 훈련진행중\n",
      "11회차 : 훈련진행중\n",
      "10회차 : 25명\n",
      "9회차 : 25명\n",
      "8회차 : 25명\n",
      "7회차 : 25명\n",
      "6회차 : 24명\n",
      "5회차 : 25명\n",
      "4회차 : 25명\n",
      "3회차 : 25명\n",
      "2회차 : 28명\n",
      "1회차 : 28명\n"
     ]
    }
   ],
   "source": [
    "# 회차별 모집인원\n",
    "count = len(soup.select('a.tool_tip_btn')) + 1\n",
    "for i in soup.select('table.view')[2:]:\n",
    "    if i.text.find('훈련진행중') != -1:\n",
    "        count -= 1\n",
    "        print(f'{count}회차 : 훈련진행중')\n",
    "    else:\n",
    "        for j in i.select('td'):\n",
    "            if re.findall('\\d+명/',j.text) != []:\n",
    "                count -= 1\n",
    "                print(f\"{count}회차 : \" + re.findall('\\d+명/',j.text).pop().replace('/',''))"
   ]
  },
  {
   "cell_type": "markdown",
   "id": "07761bd2",
   "metadata": {},
   "source": [
    "> 망한 코드"
   ]
  },
  {
   "cell_type": "code",
   "execution_count": 13,
   "id": "fa64aef7",
   "metadata": {
    "ExecuteTime": {
     "end_time": "2022-07-30T18:40:01.822894Z",
     "start_time": "2022-07-30T18:40:01.775361Z"
    }
   },
   "outputs": [
    {
     "name": "stdout",
     "output_type": "stream",
     "text": [
      "14회차 : 훈련진행중\n",
      "13회차 : 훈련진행중\n",
      "12회차 : 훈련진행중\n",
      "11회차 : 훈련진행중\n",
      "10회차 : /\n",
      "9회차 : /\n",
      "8회차 : /23\n",
      "7회차 : 20/23\n",
      "6회차 : 1/19\n",
      "5회차 : 15/18\n",
      "4회차 : 14/25\n",
      "3회차 : 2/23\n",
      "2회차 : 16/21\n",
      "1회차 : 21/26\n"
     ]
    }
   ],
   "source": [
    "# ?????????????????????\n",
    "# [(\\d]+/ : 취업인원\n",
    "# /\\d+ : 수료인원\n",
    "count = len(soup.select('a.tool_tip_btn')) + 1\n",
    "break_count = 2 \n",
    "comple = ''\n",
    "entire = ''\n",
    "for i in soup.select('table.view'):\n",
    "    if i.text.find('훈련진행중') != -1:\n",
    "        count -= 1\n",
    "        print(f'{count}회차 : 훈련진행중')\n",
    "    else:\n",
    "        for j in i.select('td'):\n",
    "            break_count += 1\n",
    "            if break_count % 3 == 0:\n",
    "                if re.findall('\\(/\\)',j.text) != []:\n",
    "                    count -= 1\n",
    "                    print(f'{count}회차 : '+ re.findall('\\(/\\)',j.text).pop().strip('(').strip(')'))\n",
    "#                     print('-')\n",
    "#                     print('-')\n",
    "                elif re.findall('[(\\d]+/', j.text) != [] and re.findall('\\d+\\)', j.text) != []:\n",
    "                    count -= 1\n",
    "                    print(f'{count}회차 : '+ re.findall('[(\\d]+/', j.text).pop().replace('(','') + re.findall('\\d+\\)', j.text).pop().replace(')',''))\n",
    "#                     print(re.findall('[(\\d]+/', j.text).pop().replace('(','')[:re.findall('[(\\d]+/', j.text).pop().replace('(','').find('/')])\n",
    "#                     print(re.findall('\\d+\\)', j.text).pop().replace(')','')[re.findall('\\d+\\)', j.text).pop().replace(')','').find('/')+1:])\n",
    "#                     if re.findall('[(\\d]+/', j.text) != []: # 훈련시작일 \n",
    "#                         count -= 1\n",
    "#                         comple = (re.findall('[(\\d]+/', j.text).pop()) \n",
    "#                     if re.findall('\\d+\\)', j.text) != []:\n",
    "#                         count -= 1\n",
    "#                         entire = (re.findall('\\d+\\)', j.text).pop())\n",
    "#                     print(f'{count}회차 : ',comple, entire)\n",
    "            else:\n",
    "                pass"
   ]
  },
  {
   "cell_type": "markdown",
   "id": "ebd6902e",
   "metadata": {},
   "source": [
    "> 다시 짠 코드"
   ]
  },
  {
   "cell_type": "code",
   "execution_count": 23,
   "id": "79910a61",
   "metadata": {
    "ExecuteTime": {
     "end_time": "2022-07-31T06:38:17.589416Z",
     "start_time": "2022-07-31T06:38:17.461267Z"
    }
   },
   "outputs": [
    {
     "name": "stdout",
     "output_type": "stream",
     "text": [
      "['훈련진행중', '훈련진행중', '훈련진행중', '훈련진행중', '', '', '60.9', '87', '63.2', '0', '56', '73.9', '57.1', '80.8']\n",
      "['훈련진행중', '훈련진행중', '훈련진행중', '훈련진행중', '', '', '14', '20', '12', '0', '14', '17', '12', '21']\n",
      "['훈련진행중', '훈련진행중', '훈련진행중', '훈련진행중', '', '', '23', '23', '19', '18', '25', '23', '21', '26']\n"
     ]
    },
    {
     "data": {
      "text/plain": [
       "(14, 14, 14)"
      ]
     },
     "execution_count": 23,
     "metadata": {},
     "output_type": "execute_result"
    }
   ],
   "source": [
    "# 취업률 (고용보험가입 3개월) 취업인원/수료인원\n",
    "empl_rate_3 = [] # 회차별 취업률(3개월)\n",
    "empl_3 = [] # 회차별 취업인원 (3개월)\n",
    "comp_3 = [] # 회차별 수료인원 (3개월)\n",
    "series_count = len(soup.select('a.tool_tip_btn'))\n",
    "# count = len(soup.select('a.tool_tip_btn')) + 1\n",
    "cnt = 0\n",
    "for i in soup.select('table.view'):\n",
    "    if i.text.find('취업률 고용보험가입 3개월') != -1:\n",
    "        for j in i.select('b'):\n",
    "            cnt += 1\n",
    "            if cnt % 3 == 1:\n",
    "                rate_empl = j.text.replace('\\n','').replace('\\t','')\n",
    "                empl_rate_3.append(rate_empl[:rate_empl.find(\"%\")])\n",
    "                empl_3.append(rate_empl[rate_empl.find(\"%\")+2:rate_empl.find(\"/\")])\n",
    "                comp_3.append(rate_empl[rate_empl.find(\"/\")+1:-1])\n",
    "#                 print(f'취업률 : {rate_empl[:rate_empl.find(\"%\")]}')\n",
    "#                 print(f'취업인원 : {rate_empl[rate_empl.find(\"%\")+2:rate_empl.find(\"/\")]}')\n",
    "#                 print(f'수료인원 : {rate_empl[rate_empl.find(\"/\")+1:-1]}')\n",
    "\n",
    "while len(empl_rate_3) != series_count:\n",
    "    empl_rate_3.insert(0,'훈련진행중')\n",
    "while len(empl_3) != series_count:\n",
    "    empl_3.insert(0,'훈련진행중')\n",
    "while len(comp_3) != series_count:\n",
    "    comp_3.insert(0,'훈련진행중')\n",
    "print(empl_rate_3)\n",
    "print(empl_3)\n",
    "print(comp_3)\n",
    "len(empl_rate_3), len(empl_3), len(comp_3)"
   ]
  },
  {
   "cell_type": "code",
   "execution_count": 24,
   "id": "0595d58d",
   "metadata": {
    "ExecuteTime": {
     "end_time": "2022-07-31T06:38:18.615105Z",
     "start_time": "2022-07-31T06:38:18.565919Z"
    }
   },
   "outputs": [
    {
     "name": "stdout",
     "output_type": "stream",
     "text": [
      "['훈련진행중', '훈련진행중', '훈련진행중', '훈련진행중', '', '', '', '', '84.2', '83.3', '72', '82.6', '76.2', '92.3']\n",
      "['훈련진행중', '훈련진행중', '훈련진행중', '훈련진행중', '', '', '', '', '16', '15', '18', '19', '16', '24']\n",
      "['훈련진행중', '훈련진행중', '훈련진행중', '훈련진행중', '', '', '23', '23', '19', '18', '25', '23', '21', '26']\n"
     ]
    },
    {
     "data": {
      "text/plain": [
       "(14, 14, 14)"
      ]
     },
     "execution_count": 24,
     "metadata": {},
     "output_type": "execute_result"
    }
   ],
   "source": [
    "# 취업률 (고용보험가입 6개월) 취업인원/수료인원\n",
    "empl_rate_6 = [] # 회차별 취업률(6개월)\n",
    "empl_6 = [] # 회차별 취업인원 (6개월)\n",
    "comp_6 = [] # 회차별 수료인원 (6개월)\n",
    "series_count = len(soup.select('a.tool_tip_btn'))\n",
    "# count = len(soup.select('a.tool_tip_btn')) + 1\n",
    "cnt = 0\n",
    "for i in soup.select('table.view'):\n",
    "    if i.text.find('취업률 고용보험가입 6개월') != -1:\n",
    "        for j in i.select('b'):\n",
    "            cnt += 1\n",
    "            if cnt % 3 == 2:\n",
    "                rate_empl = j.text.replace('\\n','').replace('\\t','')\n",
    "                empl_rate_6.append(rate_empl[:rate_empl.find(\"%\")])\n",
    "                empl_6.append(rate_empl[rate_empl.find(\"%\")+2:rate_empl.find(\"/\")])\n",
    "                comp_6.append(rate_empl[rate_empl.find(\"/\")+1:-1])\n",
    "#                 print(f'취업률 : {rate_empl[:rate_empl.find(\"%\")]}')\n",
    "#                 print(f'취업인원 : {rate_empl[rate_empl.find(\"%\")+2:rate_empl.find(\"/\")]}')\n",
    "#                 print(f'수료인원 : {rate_empl[rate_empl.find(\"/\")+1:-1]}')\n",
    "\n",
    "while len(empl_rate_6) != series_count:\n",
    "    empl_rate_6.insert(0,'훈련진행중')\n",
    "while len(empl_6) != series_count:\n",
    "    empl_6.insert(0,'훈련진행중')\n",
    "while len(comp_6) != series_count:\n",
    "    comp_6.insert(0,'훈련진행중')\n",
    "print(empl_rate_6)\n",
    "print(empl_6)\n",
    "print(comp_6)\n",
    "len(empl_rate_6), len(empl_6), len(comp_6)"
   ]
  },
  {
   "cell_type": "code",
   "execution_count": 16,
   "id": "0a9cb00e",
   "metadata": {
    "ExecuteTime": {
     "end_time": "2022-07-30T18:40:02.011604Z",
     "start_time": "2022-07-30T18:40:01.940356Z"
    }
   },
   "outputs": [
    {
     "name": "stdout",
     "output_type": "stream",
     "text": [
      "14회차 : \n",
      "2022-05-02 \n",
      "2022-10-18\n",
      "13회차 : \n",
      "2022-03-14 \n",
      "2022-08-24\n",
      "12회차 : \n",
      "2022-02-15 \n",
      "2022-08-04\n",
      "11회차 : \n",
      "2022-02-15 \n",
      "2022-08-04\n",
      "10회차 : \n",
      "2022-01-10 \n",
      "2022-06-23\n",
      "9회차 : \n",
      "2021-12-01 \n",
      "2022-05-17\n",
      "8회차 : \n",
      "2021-11-15 \n",
      "2022-04-27\n",
      "7회차 : \n",
      "2021-09-15 \n",
      "2022-02-28\n",
      "6회차 : \n",
      "2021-08-25 \n",
      "2022-01-28\n",
      "5회차 : \n",
      "2021-04-01 \n",
      "2021-08-31\n",
      "4회차 : \n",
      "2021-03-17 \n",
      "2021-08-19\n",
      "3회차 : \n",
      "2021-03-15 \n",
      "2021-08-13\n",
      "2회차 : \n",
      "2020-12-07 \n",
      "2021-05-21\n",
      "1회차 : \n",
      "2020-11-02 \n",
      "2021-04-12\n"
     ]
    }
   ],
   "source": [
    "count = len(soup.select('a.tool_tip_btn')) + 1\n",
    "for series in soup.select('span.con')[17:]:\n",
    "    if series.text.find('~') != -1:\n",
    "        count -= 1\n",
    "        print(f'{count}회차 : ')\n",
    "        print(series.text.replace('\\n','').replace('\\t','').strip()[:series.text.replace('\\n','').replace('\\t','').strip().find('~')])\n",
    "        print(series.text.replace('\\n','').replace('\\t','').strip()[series.text.replace('\\n','').replace('\\t','').strip().find('~')+1:])"
   ]
  },
  {
   "cell_type": "code",
   "execution_count": 17,
   "id": "a6a34e2f",
   "metadata": {
    "ExecuteTime": {
     "end_time": "2022-07-30T18:40:02.043000Z",
     "start_time": "2022-07-30T18:40:02.014193Z"
    }
   },
   "outputs": [
    {
     "name": "stdout",
     "output_type": "stream",
     "text": [
      "['25', '25']\n",
      "['25', '25']\n",
      "['25', '25']\n",
      "['25', '25']\n",
      "['25', '25']\n",
      "['25', '25']\n",
      "['25', '25']\n",
      "['25', '25']\n",
      "['24', '24']\n",
      "['25', '25']\n",
      "['25', '25']\n",
      "['25', '25']\n",
      "['28', '28']\n",
      "['28', '28']\n"
     ]
    }
   ],
   "source": [
    "# 수강확정인원, 수강신청인원\n",
    "for a in soup.select('table.view'):\n",
    "    for b in a.select('td'):\n",
    "        if b.text.find('수강확정인원') != -1:\n",
    "            print(re.findall('\\d+',b.text))"
   ]
  },
  {
   "cell_type": "markdown",
   "id": "1c63add7",
   "metadata": {},
   "source": [
    "### 한 페이지에서 얻을 수 있는 모든 정보 얻음\n",
    "---\n",
    "- 회차별 만족도\n",
    "\n",
    "- 회차별 모집인원\n",
    "\n",
    "- 회차별 취업인원/수료인원\n",
    "\n",
    "- 훈련시작일 ~훈련종료일\n",
    "\n",
    "- 수강확정인원, 수강신청인원"
   ]
  },
  {
   "cell_type": "markdown",
   "id": "1789e574",
   "metadata": {},
   "source": [
    "### 페이지 내 링크 통해 찾을 수 있는 데이터\n",
    "---\n",
    "> N회차 보러가기 링크 들어가서 안에서 찾을 수 있는 것을 찾기\n",
    "- 기관명\n",
    "- 과정명\n",
    "- 훈련비\n",
    "- 훈련기간"
   ]
  },
  {
   "cell_type": "markdown",
   "id": "b65b9870",
   "metadata": {},
   "source": [
    "1. N회차 링크 따기 ok"
   ]
  },
  {
   "cell_type": "markdown",
   "id": "256f2274",
   "metadata": {
    "ExecuteTime": {
     "end_time": "2022-07-30T12:07:52.857039Z",
     "start_time": "2022-07-30T12:07:52.845940Z"
    }
   },
   "source": [
    "> column 확인용\n",
    "1. 기관명 ok\n",
    "2. 과정명 ok\n",
    "3. 훈련비(원) ok\n",
    "4. 훈련시간 ok\n",
    "5. NCS 직무분류 ok\n",
    "6. 수강생 평균 연령대(세) ok\n",
    "7. 수강생 평균 만족도 ok\n",
    "8. 회차 ok\n",
    "9. 훈련기간 ok\n",
    "10. 훈련시작일 ok\n",
    "11. 훈련종료일 ok\n",
    "12. 모집인원 ok\n",
    "13. 수강확정인원 ok\n",
    "14. 수강신청인원 ok\n",
    "15. 회차별 만족도 ok\n",
    "16. 취업률 고용보험가입 3개월 ok\n",
    "17. 취업인원 ok\n",
    "18. 수료인원 ok"
   ]
  },
  {
   "cell_type": "markdown",
   "id": "c3c73426",
   "metadata": {},
   "source": [
    "## 1차 페이지 탐색 크롤링 시작"
   ]
  },
  {
   "cell_type": "code",
   "execution_count": 18,
   "id": "65a220f3",
   "metadata": {
    "ExecuteTime": {
     "end_time": "2022-07-30T18:40:52.894050Z",
     "start_time": "2022-07-30T18:40:02.047225Z"
    }
   },
   "outputs": [
    {
     "name": "stdout",
     "output_type": "stream",
     "text": [
      "--------------- 회차별 만족도 ---------------\n",
      "14회차 : 훈련진행중\n",
      "13회차 : 훈련진행중\n",
      "12회차 : 훈련진행중\n",
      "11회차 : 훈련진행중\n",
      "10회차 : 75.2\n",
      "9회차 : 82.4\n",
      "8회차 : 90.84\n",
      "7회차 : 90\n",
      "6회차 : 91.58\n",
      "5회차 : 84.54\n",
      "4회차 : 89.6\n",
      "3회차 : 89.56\n",
      "2회차 : 80.74\n",
      "1회차 : 95.56\n",
      "--------------- 회차별 훈련기간 ---------------\n",
      "14회차 : 2022-05-02 ~2022-10-18\n",
      "13회차 : 2022-03-14 ~2022-08-24\n",
      "12회차 : 2022-02-15 ~2022-08-04\n",
      "11회차 : 2022-02-15 ~2022-08-04\n",
      "10회차 : 2022-01-10 ~2022-06-23\n",
      "9회차 : 2021-12-01 ~2022-05-17\n",
      "8회차 : 2021-11-15 ~2022-04-27\n",
      "7회차 : 2021-09-15 ~2022-02-28\n",
      "6회차 : 2021-08-25 ~2022-01-28\n",
      "5회차 : 2021-04-01 ~2021-08-31\n",
      "4회차 : 2021-03-17 ~2021-08-19\n",
      "3회차 : 2021-03-15 ~2021-08-13\n",
      "2회차 : 2020-12-07 ~2021-05-21\n",
      "1회차 : 2020-11-02 ~2021-04-12\n",
      "--------------- 회차별 모집인원 ---------------\n",
      "14회차 : 훈련진행중\n",
      "13회차 : 훈련진행중\n",
      "12회차 : 훈련진행중\n",
      "11회차 : 훈련진행중\n",
      "10회차 : 25명\n",
      "9회차 : 25명\n",
      "8회차 : 25명\n",
      "7회차 : 25명\n",
      "6회차 : 24명\n",
      "5회차 : 25명\n",
      "4회차 : 25명\n",
      "3회차 : 25명\n",
      "2회차 : 28명\n",
      "1회차 : 28명\n",
      "--------------- 회차별 [수료, 취업]인원 ---------------\n",
      "14회차 : 훈련진행중\n",
      "13회차 : 훈련진행중\n",
      "12회차 : 훈련진행중\n",
      "11회차 : 훈련진행중\n",
      "10회차 : (/)\n",
      "9회차 : (/)\n",
      "8회차 : /23\n",
      "7회차 : 20/23\n",
      "6회차 : 1/19\n",
      "5회차 : 15/18\n",
      "4회차 : 14/25\n",
      "3회차 : 2/23\n",
      "2회차 : 16/21\n",
      "1회차 : 21/26\n",
      "--------------- 회차별 수강 [확정,신청] 인원 ---------------\n",
      "['25', '25']\n",
      "['25', '25']\n",
      "['25', '25']\n",
      "['25', '25']\n",
      "['25', '25']\n",
      "['25', '25']\n",
      "['25', '25']\n",
      "['25', '25']\n",
      "['24', '24']\n",
      "['25', '25']\n",
      "['25', '25']\n",
      "['25', '25']\n",
      "['28', '28']\n",
      "['28', '28']\n",
      "----------------1 회차 ---------------\n",
      "스마트인재개발원\n",
      "빅데이터 분석서비스 개발자과정(NCS)모집마감\n",
      "13,762,240 원\n",
      "\n",
      "116일,\n",
      "총928시간\n",
      "응용SW엔지니어링(20010202)\n",
      "----------------2 회차 ---------------\n",
      "스마트인재개발원\n",
      "빅데이터 분석서비스 개발자과정(NCS)모집마감\n",
      "13,762,240 원\n",
      "\n",
      "116일,\n",
      "총928시간\n",
      "응용SW엔지니어링(20010202)\n",
      "----------------3 회차 ---------------\n",
      "스마트인재개발원\n",
      "빅데이터 분석서비스 개발자과정(NCS)모집마감\n",
      "13,762,240 원\n",
      "\n",
      "116일,\n",
      "총928시간\n",
      "응용SW엔지니어링(20010202)\n",
      "----------------4 회차 ---------------\n",
      "스마트인재개발원\n",
      "빅데이터 분석서비스 개발자과정(NCS)모집마감\n",
      "13,762,240 원\n",
      "\n",
      "116일,\n",
      "총928시간\n",
      "응용SW엔지니어링(20010202)\n",
      "----------------5 회차 ---------------\n",
      "스마트인재개발원\n",
      "빅데이터 분석서비스 개발자과정(NCS)모집마감\n",
      "13,762,240 원\n",
      "\n",
      "116일,\n",
      "총928시간\n",
      "응용SW엔지니어링(20010202)\n",
      "----------------6 회차 ---------------\n",
      "스마트인재개발원\n",
      "빅데이터 분석서비스 개발자과정(NCS)모집마감\n",
      "13,762,240 원\n",
      "\n",
      "115일,\n",
      "총928시간\n",
      "응용SW엔지니어링(20010202)\n",
      "----------------7 회차 ---------------\n",
      "스마트인재개발원\n",
      "빅데이터 분석서비스 개발자과정(NCS)모집마감\n",
      "13,762,240 원\n",
      "\n",
      "116일,\n",
      "총928시간\n",
      "응용SW엔지니어링(20010202)\n",
      "----------------8 회차 ---------------\n",
      "스마트인재개발원\n",
      "빅데이터 분석서비스 개발자과정(NCS)모집마감\n",
      "13,762,240 원\n",
      "\n",
      "119일,\n",
      "총928시간\n",
      "응용SW엔지니어링(20010202)\n",
      "----------------9 회차 ---------------\n",
      "스마트인재개발원\n",
      "빅데이터 분석서비스 개발자과정(NCS)모집마감\n",
      "13,762,240 원\n",
      "\n",
      "119일,\n",
      "총928시간\n",
      "응용SW엔지니어링(20010202)\n",
      "----------------10 회차 ---------------\n",
      "스마트인재개발원\n",
      "빅데이터 분석서비스 개발자과정(NCS)모집마감\n",
      "13,762,240 원\n",
      "\n",
      "118일,\n",
      "총928시간\n",
      "응용SW엔지니어링(20010202)\n",
      "----------------11 회차 ---------------\n",
      "스마트인재개발원\n",
      "빅데이터 분석서비스 개발자과정(NCS)모집마감\n",
      "13,762,240 원\n",
      "\n",
      "118일,\n",
      "총928시간\n",
      "응용SW엔지니어링(20010202)\n",
      "----------------12 회차 ---------------\n",
      "스마트인재개발원\n",
      "빅데이터 분석서비스 개발자과정(NCS)모집마감\n",
      "13,762,240 원\n",
      "\n",
      "118일,\n",
      "총928시간\n",
      "응용SW엔지니어링(20010202)\n",
      "----------------13 회차 ---------------\n",
      "스마트인재개발원\n",
      "빅데이터 분석서비스 개발자과정(NCS)모집마감\n",
      "13,762,240 원\n",
      "\n",
      "118일,\n",
      "총928시간\n",
      "응용SW엔지니어링(20010202)\n",
      "----------------14 회차 ---------------\n",
      "스마트인재개발원\n",
      "빅데이터 분석서비스 개발자과정(NCS)모집마감\n",
      "13,762,240 원\n",
      "\n",
      "119일,\n",
      "총928시간\n",
      "응용SW엔지니어링(20010202)\n"
     ]
    }
   ],
   "source": [
    "# 회차별 만족도\n",
    "print('-'*15,'회차별 만족도','-'*15)\n",
    "count = len(soup.select('a.tool_tip_btn')) + 1\n",
    "for i in soup.select('table.view')[2:]:\n",
    "    if i.text.find('훈련진행중') != -1:\n",
    "        count -= 1\n",
    "        print(f'{count}회차 : 훈련진행중')\n",
    "    else:\n",
    "        for j in i.select('td'):\n",
    "            tableview = j.text.replace('\\n','').replace('\\t','').strip()\n",
    "            if re.findall('[.\\d]+\\s점',tableview) != []:\n",
    "                count -= 1\n",
    "                print(f\"{count}회차 : \" + re.findall('[.\\d]+\\s점',tableview).pop().replace(' 점',''))\n",
    "\n",
    "# 회차별 훈련기간\n",
    "print('-'*15,'회차별 훈련기간','-'*15)\n",
    "count = len(soup.select('a.tool_tip_btn')) + 1\n",
    "for series in soup.select('span.con')[17:]:\n",
    "    if series.text.find('~') != -1:\n",
    "        count -= 1\n",
    "        print(f'{count}회차 : ' + series.text.replace('\\n','').replace('\\t','').strip())\n",
    "        \n",
    "# 회차별 모집인원\n",
    "print('-'*15,'회차별 모집인원','-'*15)\n",
    "count = len(soup.select('a.tool_tip_btn')) + 1\n",
    "for i in soup.select('table.view')[2:]:\n",
    "    if i.text.find('훈련진행중') != -1:\n",
    "        count -= 1\n",
    "        print(f'{count}회차 : 훈련진행중')\n",
    "    else:\n",
    "        for j in i.select('td'):\n",
    "            if re.findall('\\d+명/',j.text) != []:\n",
    "                count -= 1\n",
    "                print(f\"{count}회차 : \" + re.findall('\\d+명/',j.text).pop().replace('/',''))\n",
    "\n",
    "\n",
    "# 회차별 수료, 취업 인원\n",
    "print('-'*15,'회차별 [수료, 취업]인원','-'*15)\n",
    "# [(\\d]+/ : 취업인원\n",
    "# /\\d+ : 수료인원\n",
    "count = len(soup.select('a.tool_tip_btn')) + 1\n",
    "break_count = 2 \n",
    "comple = ''\n",
    "entire = ''\n",
    "for i in soup.select('table.view'):\n",
    "    if i.text.find('훈련진행중') != -1:\n",
    "        count -= 1\n",
    "        print(f'{count}회차 : 훈련진행중')\n",
    "    else:\n",
    "        for j in i.select('td'):\n",
    "            break_count += 1\n",
    "            if break_count % 3 == 0:\n",
    "                if re.findall('\\(/\\)',j.text) != []:\n",
    "                    count -= 1\n",
    "                    print(f'{count}회차 : ' +re.findall('\\(/\\)',j.text).pop())\n",
    "                elif re.findall('[(\\d]+/', j.text) != [] and re.findall('\\d+\\)', j.text) != []:\n",
    "                    count -= 1\n",
    "                    print(f'{count}회차 : '+(re.findall('[(\\d]+/', j.text).pop().replace('(','')) + re.findall('\\d+\\)', j.text).pop().replace(')',''))\n",
    "            else:\n",
    "                pass\n",
    "            \n",
    "# 회차별 수강확정인원, 수강신청인원\n",
    "print('-'*15,'회차별 수강 [확정,신청] 인원','-'*15)\n",
    "for a in soup.select('table.view'):\n",
    "    for b in a.select('td'):\n",
    "        if b.text.find('수강확정인원') != -1:\n",
    "            print(re.findall('\\d+',b.text))\n",
    "for index, patterns in enumerate(soup.select('a.tool_tip_btn')):\n",
    "    series_url = f'https://www.hrd.go.kr/hrdp/co/pcobo/PCOBO0100P.do?tracseId=AIG20200000286660&tracseTme={index+1}&crseTracseSe=C0061&trainstCstmrId=500020018488#undefined'\n",
    "    resp_series = requests.get(series_url)\n",
    "    soup_series = BeautifulSoup(resp_series.text, \"html.parser\")\n",
    "    \n",
    "    print(f'----------------{index+1} 회차 ---------------')\n",
    "    \n",
    "    # 차단 방지 시간 딜레이\n",
    "    seed = np.random.randint(100)\n",
    "    np.random.seed(seed)\n",
    "    a = np.random.randint(5)\n",
    "    time.sleep(a)\n",
    "    \n",
    "    # 기관명\n",
    "    for organ in soup_series.select('p.add'):\n",
    "        print(organ.text.strip())\n",
    "#     data.append(organ.text.strip())\n",
    "    \n",
    "    # 과정명\n",
    "    for course in soup_series.select('h4.tit'):\n",
    "        print(course.text.replace('\\n','').replace('\\t',''))\n",
    "#     data.append(course.text.replace('\\n','').replace('\\t',''))\n",
    "    \n",
    "    # 훈련비\n",
    "    for price in soup_series.select('p.price'):\n",
    "        print(price.text.strip().replace('\\n','')[:price.text.find('원')].strip().replace('\\t',''))\n",
    "#     data.append(price.text.strip().replace('\\n','')[:price.text.find('원')].strip().replace('\\t',''))\n",
    "\n",
    "    # 훈련시간\n",
    "    for i in soup_series.select('span.con'):\n",
    "        if i.text.find('일') != -1:\n",
    "            print(i.text.replace('\\n,','').replace('\\t','').strip())\n",
    "#             data.append(i.text.replace('\\n,','').replace('\\t','').strip())\n",
    "    # NCS 자격분류\n",
    "    for NCS in soup_series.select('span.con'):\n",
    "        if re.findall('\\d{6,}',NCS.text) != []:\n",
    "            print(re.findall('.+\\d{6,}.',NCS.text).pop().replace('\\t',''))\n"
   ]
  },
  {
   "cell_type": "markdown",
   "id": "84511d02",
   "metadata": {},
   "source": [
    "## 1차 DateFrame 만들기"
   ]
  },
  {
   "cell_type": "markdown",
   "id": "397f9f25",
   "metadata": {},
   "source": [
    "### Define column"
   ]
  },
  {
   "cell_type": "markdown",
   "id": "9249029b",
   "metadata": {},
   "source": [
    "> 기존에서 순서 바꾸고, 중복 제거"
   ]
  },
  {
   "cell_type": "markdown",
   "id": "7043123c",
   "metadata": {},
   "source": [
    "순서이렇게 하자\n",
    "\n",
    "> 기관명, 과정명, 회차, 훈련비, 훈련시작일, 훈련종료일, 훈련시간, NCS 직무분류, 모집인원, 수강확정인원, 수강신청인원, 수강생 평균 연령대(세), 수강생 만족도, 취업률 고용보험가입 3개월, 취업인원(3개월), 수료인원, 취업률 고용보험가입 6개월, 취업인원(6개월)\n",
    "\n",
    "> column size : 18\n",
    "\n",
    "- 훈련시간, 회차별 만족도 -> 중복으로 뺌 "
   ]
  },
  {
   "cell_type": "code",
   "execution_count": 19,
   "id": "2b95dd56",
   "metadata": {
    "ExecuteTime": {
     "end_time": "2022-07-30T18:40:52.900167Z",
     "start_time": "2022-07-30T18:40:52.895816Z"
    }
   },
   "outputs": [
    {
     "data": {
      "text/plain": [
       "18"
      ]
     },
     "execution_count": 19,
     "metadata": {},
     "output_type": "execute_result"
    }
   ],
   "source": [
    "col = ['기관명', '과정명', '회차', '훈련비', '훈련시작일', '훈련종료일', \n",
    "       '훈련시간', 'NCS 직무분류', '모집인원', '수강확정인원', '수강신청인원', \n",
    "       '수강생 평균 연령대(세)', '수강생 만족도', '취업률 고용보험가입 3개월', \n",
    "       '취업인원(3개월)', '수료인원','취업률 고용보험가입 6개월', '취업인원(6개월)']\n",
    "len(col)"
   ]
  },
  {
   "cell_type": "markdown",
   "id": "a11f7160",
   "metadata": {},
   "source": [
    "## 데이터 프레임 열만 생성"
   ]
  },
  {
   "cell_type": "code",
   "execution_count": 20,
   "id": "e26851d6",
   "metadata": {
    "ExecuteTime": {
     "end_time": "2022-07-30T18:40:52.929063Z",
     "start_time": "2022-07-30T18:40:52.902592Z"
    }
   },
   "outputs": [
    {
     "data": {
      "text/html": [
       "<div>\n",
       "<style scoped>\n",
       "    .dataframe tbody tr th:only-of-type {\n",
       "        vertical-align: middle;\n",
       "    }\n",
       "\n",
       "    .dataframe tbody tr th {\n",
       "        vertical-align: top;\n",
       "    }\n",
       "\n",
       "    .dataframe thead th {\n",
       "        text-align: right;\n",
       "    }\n",
       "</style>\n",
       "<table border=\"1\" class=\"dataframe\">\n",
       "  <thead>\n",
       "    <tr style=\"text-align: right;\">\n",
       "      <th></th>\n",
       "      <th>기관명</th>\n",
       "      <th>과정명</th>\n",
       "      <th>회차</th>\n",
       "      <th>훈련비</th>\n",
       "      <th>훈련시작일</th>\n",
       "      <th>훈련종료일</th>\n",
       "      <th>훈련시간</th>\n",
       "      <th>NCS 직무분류</th>\n",
       "      <th>모집인원</th>\n",
       "      <th>수강확정인원</th>\n",
       "      <th>수강신청인원</th>\n",
       "      <th>수강생 평균 연령대(세)</th>\n",
       "      <th>수강생 만족도</th>\n",
       "      <th>취업률 고용보험가입 3개월</th>\n",
       "      <th>취업인원(3개월)</th>\n",
       "      <th>수료인원</th>\n",
       "      <th>취업률 고용보험가입 6개월</th>\n",
       "      <th>취업인원(6개월)</th>\n",
       "    </tr>\n",
       "  </thead>\n",
       "  <tbody>\n",
       "  </tbody>\n",
       "</table>\n",
       "</div>"
      ],
      "text/plain": [
       "Empty DataFrame\n",
       "Columns: [기관명, 과정명, 회차, 훈련비, 훈련시작일, 훈련종료일, 훈련시간, NCS 직무분류, 모집인원, 수강확정인원, 수강신청인원, 수강생 평균 연령대(세), 수강생 만족도, 취업률 고용보험가입 3개월, 취업인원(3개월), 수료인원, 취업률 고용보험가입 6개월, 취업인원(6개월)]\n",
       "Index: []"
      ]
     },
     "execution_count": 20,
     "metadata": {},
     "output_type": "execute_result"
    }
   ],
   "source": [
    "df = pd.DataFrame(columns = col)\n",
    "df"
   ]
  },
  {
   "cell_type": "markdown",
   "id": "a1d5019c",
   "metadata": {},
   "source": [
    "## 데이터 추가\n",
    "\n",
    "> 1. concat : 추가할 대상이 데이터 프레임\n",
    "\n",
    "> 2. append : 추가할 대상이 딕셔너리 -> 컬럼 이름 : key, 데이터 : value\n",
    "\n",
    "> 3. loc : 추가할 대상이 리스트 -> 이때 loc에 들어가는 인덱스는 맨 마지막 인덱스로 설정."
   ]
  },
  {
   "cell_type": "markdown",
   "id": "9c321652",
   "metadata": {},
   "source": [
    "일단 뭐든 시도"
   ]
  },
  {
   "cell_type": "markdown",
   "id": "69138c78",
   "metadata": {},
   "source": [
    "회차별로 한 번에 뽑을 수 있는 데이터는 따로 모을 예정"
   ]
  },
  {
   "cell_type": "markdown",
   "id": "998c69b4",
   "metadata": {},
   "source": [
    "### dictionary로 만들어서 DataFrame에 append 해야 겠다.\n",
    "---"
   ]
  },
  {
   "cell_type": "markdown",
   "id": "25b6a90d",
   "metadata": {},
   "source": [
    "> 각 컬럼 종류별로 리스트로 넣고 join 함수로 str로 바꿔서 dictionary에 넣고 미리 만든 df랑 append로 합치기\n",
    "\n",
    "> frame.append 메소드가 나중 pandas에서는 사라질거라는 경고문.\n",
    "\n",
    "> pandas.concat을 쓰라는 권고\n",
    "\n",
    "> 나중을 위해 loc로 변경"
   ]
  },
  {
   "cell_type": "markdown",
   "id": "6947df5d",
   "metadata": {},
   "source": [
    "## 2차 크롤링\n",
    "---\n",
    "list로 데이터 담기 시작"
   ]
  },
  {
   "cell_type": "code",
   "execution_count": 70,
   "id": "22d78506",
   "metadata": {
    "ExecuteTime": {
     "end_time": "2022-07-31T07:52:27.469009Z",
     "start_time": "2022-07-31T07:51:34.982024Z"
    }
   },
   "outputs": [
    {
     "name": "stdout",
     "output_type": "stream",
     "text": [
      "--------------- 회차별 만족도 ---------------\n",
      "14회차 만족도 수집 완료\n",
      "13회차 만족도 수집 완료\n",
      "12회차 만족도 수집 완료\n",
      "11회차 만족도 수집 완료\n",
      "10회차 만족도 수집 완료\n",
      "9회차 만족도 수집 완료\n",
      "8회차 만족도 수집 완료\n",
      "7회차 만족도 수집 완료\n",
      "6회차 만족도 수집 완료\n",
      "5회차 만족도 수집 완료\n",
      "4회차 만족도 수집 완료\n",
      "3회차 만족도 수집 완료\n",
      "2회차 만족도 수집 완료\n",
      "1회차 만족도 수집 완료\n",
      "회차별 만족도 결과\n",
      "['훈련진행중', '훈련진행중', '훈련진행중', '훈련진행중', '75.2', '82.4', '90.84', '90', '91.58', '84.54', '89.6', '89.56', '80.74', '95.56']\n",
      "size : 14\n",
      "--------------- 회차별 훈련기간 ---------------\n",
      "14회차 훈련 시작일, 종료일 수집 완료\n",
      "13회차 훈련 시작일, 종료일 수집 완료\n",
      "12회차 훈련 시작일, 종료일 수집 완료\n",
      "11회차 훈련 시작일, 종료일 수집 완료\n",
      "10회차 훈련 시작일, 종료일 수집 완료\n",
      "9회차 훈련 시작일, 종료일 수집 완료\n",
      "8회차 훈련 시작일, 종료일 수집 완료\n",
      "7회차 훈련 시작일, 종료일 수집 완료\n",
      "6회차 훈련 시작일, 종료일 수집 완료\n",
      "5회차 훈련 시작일, 종료일 수집 완료\n",
      "4회차 훈련 시작일, 종료일 수집 완료\n",
      "3회차 훈련 시작일, 종료일 수집 완료\n",
      "2회차 훈련 시작일, 종료일 수집 완료\n",
      "1회차 훈련 시작일, 종료일 수집 완료\n",
      "회차별 시작일\n",
      "['2022-05-02 ', '2022-03-14 ', '2022-02-15 ', '2022-02-15 ', '2022-01-10 ', '2021-12-01 ', '2021-11-15 ', '2021-09-15 ', '2021-08-25 ', '2021-04-01 ', '2021-03-17 ', '2021-03-15 ', '2020-12-07 ', '2020-11-02 ']\n",
      "size : 14\n",
      "회차별 종료일\n",
      "['2022-10-18', '2022-08-24', '2022-08-04', '2022-08-04', '2022-06-23', '2022-05-17', '2022-04-27', '2022-02-28', '2022-01-28', '2021-08-31', '2021-08-19', '2021-08-13', '2021-05-21', '2021-04-12']\n",
      "size : 14\n",
      "--------------- 회차별 모집인원 ---------------\n",
      "14회차 모집인원 수집 완료\n",
      "13회차 모집인원 수집 완료\n",
      "12회차 모집인원 수집 완료\n",
      "11회차 모집인원 수집 완료\n",
      "10회차 : 모집인원 수집 완료\n",
      "9회차 : 모집인원 수집 완료\n",
      "8회차 : 모집인원 수집 완료\n",
      "7회차 : 모집인원 수집 완료\n",
      "6회차 : 모집인원 수집 완료\n",
      "5회차 : 모집인원 수집 완료\n",
      "4회차 : 모집인원 수집 완료\n",
      "3회차 : 모집인원 수집 완료\n",
      "2회차 : 모집인원 수집 완료\n",
      "1회차 : 모집인원 수집 완료\n",
      "회차별 모집인원\n",
      "['훈련진행중', '훈련진행중', '훈련진행중', '훈련진행중', '25', '25', '25', '25', '24', '25', '25', '25', '28', '28']\n",
      "size : 14\n",
      "취업률 수집 완료\n",
      "취업률 수집 완료\n",
      "취업률 수집 완료\n",
      "취업률 수집 완료\n",
      "취업률 수집 완료\n",
      "취업률 수집 완료\n",
      "취업률 수집 완료\n",
      "취업률 수집 완료\n",
      "취업률 수집 완료\n",
      "취업률 수집 완료\n",
      "['훈련진행중', '훈련진행중', '훈련진행중', '훈련진행중', '', '', '60.9', '87', '63.2', '0', '56', '73.9', '57.1', '80.8']\n",
      "size : 14\n",
      "['훈련진행중', '훈련진행중', '훈련진행중', '훈련진행중', '', '', '14', '20', '12', '0', '14', '17', '12', '21']\n",
      "size : 14\n",
      "['훈련진행중', '훈련진행중', '훈련진행중', '훈련진행중', '', '', '23', '23', '19', '18', '25', '23', '21', '26']\n",
      "size : 14\n",
      "['훈련진행중', '훈련진행중', '훈련진행중', '훈련진행중', '', '', '', '', '84.2', '83.3', '72', '82.6', '76.2', '92.3']\n",
      "size : 14\n",
      "['훈련진행중', '훈련진행중', '훈련진행중', '훈련진행중', '', '', '', '', '16', '15', '18', '19', '16', '24']\n",
      "size : 14\n",
      "['훈련진행중', '훈련진행중', '훈련진행중', '훈련진행중', '', '', '23', '23', '19', '18', '25', '23', '21', '26']\n",
      "size : 14\n",
      "--------------- 회차별 수강 [확정,신청] 인원 ---------------\n",
      "수강확정인원\n",
      "['25', '25', '25', '25', '25', '25', '25', '25', '24', '25', '25', '25', '28', '28']\n",
      "size : 14\n",
      "수강신청인원\n",
      "['25', '25', '25', '25', '25', '25', '25', '25', '24', '25', '25', '25', '28', '28']\n",
      "size : 14\n",
      "---------------- 14 회차 ---------------\n",
      "---------------- 13 회차 ---------------\n",
      "---------------- 12 회차 ---------------\n",
      "---------------- 11 회차 ---------------\n",
      "---------------- 10 회차 ---------------\n",
      "---------------- 9 회차 ---------------\n",
      "---------------- 8 회차 ---------------\n",
      "---------------- 7 회차 ---------------\n",
      "---------------- 6 회차 ---------------\n",
      "---------------- 5 회차 ---------------\n",
      "---------------- 4 회차 ---------------\n",
      "---------------- 3 회차 ---------------\n",
      "---------------- 2 회차 ---------------\n",
      "---------------- 1 회차 ---------------\n",
      "['스마트인재개발원', '스마트인재개발원', '스마트인재개발원', '스마트인재개발원', '스마트인재개발원', '스마트인재개발원', '스마트인재개발원', '스마트인재개발원', '스마트인재개발원', '스마트인재개발원', '스마트인재개발원', '스마트인재개발원', '스마트인재개발원', '스마트인재개발원']\n",
      "size : 14\n",
      "['빅데이터 분석서비스 개발자과정(NCS)모집마감', '빅데이터 분석서비스 개발자과정(NCS)모집마감', '빅데이터 분석서비스 개발자과정(NCS)모집마감', '빅데이터 분석서비스 개발자과정(NCS)모집마감', '빅데이터 분석서비스 개발자과정(NCS)모집마감', '빅데이터 분석서비스 개발자과정(NCS)모집마감', '빅데이터 분석서비스 개발자과정(NCS)모집마감', '빅데이터 분석서비스 개발자과정(NCS)모집마감', '빅데이터 분석서비스 개발자과정(NCS)모집마감', '빅데이터 분석서비스 개발자과정(NCS)모집마감', '빅데이터 분석서비스 개발자과정(NCS)모집마감', '빅데이터 분석서비스 개발자과정(NCS)모집마감', '빅데이터 분석서비스 개발자과정(NCS)모집마감', '빅데이터 분석서비스 개발자과정(NCS)모집마감']\n",
      "size : 14\n",
      "['13,762,240', '13,762,240', '13,762,240', '13,762,240', '13,762,240', '13,762,240', '13,762,240', '13,762,240', '13,762,240', '13,762,240', '13,762,240', '13,762,240', '13,762,240', '13,762,240']\n",
      "size : 14\n",
      "['116일,총928시간', '116일,총928시간', '116일,총928시간', '116일,총928시간', '116일,총928시간', '116일,총928시간', '116일,총928시간', '116일,총928시간', '116일,총928시간', '116일,총928시간', '116일,총928시간', '116일,총928시간', '116일,총928시간', '116일,총928시간']\n",
      "size : 14\n",
      "['응용SW엔지니어링(20010202)', '응용SW엔지니어링(20010202)', '응용SW엔지니어링(20010202)', '응용SW엔지니어링(20010202)', '응용SW엔지니어링(20010202)', '응용SW엔지니어링(20010202)', '응용SW엔지니어링(20010202)', '응용SW엔지니어링(20010202)', '응용SW엔지니어링(20010202)', '응용SW엔지니어링(20010202)', '응용SW엔지니어링(20010202)', '응용SW엔지니어링(20010202)', '응용SW엔지니어링(20010202)', '응용SW엔지니어링(20010202)']\n",
      "size : 14\n"
     ]
    }
   ],
   "source": [
    "# 베이스 url\n",
    "url = 'https://www.hrd.go.kr/hrdp/co/pcobo/PCOBO0100P.do?tracseId=AIG20200000286660&tracseTme=1&crseTracseSe=C0061&trainstCstmrId=500020018488#undefined'\n",
    "resp = requests.get(url)\n",
    "soup = BeautifulSoup(resp.text, 'html.parser')\n",
    "\n",
    "# columns (중복 일부러 하나 둠)\n",
    "orga = []# 기관명\n",
    "cour = []# 과정명\n",
    "seri = [str(s+1) for s in range(len(soup.select('a.tool_tip_btn')))] # 회차\n",
    "seri.reverse()\n",
    "pric = []# 훈련비\n",
    "prev = [] # 회차별 훈련시작 +\n",
    "fini = [] # 회차별 훈련종료 +\n",
    "spen = []# 훈련시간\n",
    "NCS_dist = []# NCS 직무 분류\n",
    "recu = [] # 회차별 모집인원 +\n",
    "conf = [] # 회차별 수강확정인원 +\n",
    "appl = [] # 회차별 수강신청인원 +\n",
    "mean_age = []# 수강생 평균 연령대\n",
    "sati = [] # 회차별 만족도 +\n",
    "empl_rate_3 = [] # 회차별 취업률(3개월) +\n",
    "empl_3 = [] # 회차별 취업인원 (3개월) +\n",
    "comp_3 = [] # 회차별 수료인원 (3개월) +\n",
    "empl_rate_6 = [] # 회차별 취업률(6개월) +\n",
    "empl_6 = [] # 회차별 취업인원 (6개월) +\n",
    "comp_6 = [] # 회차별 수료인원 (6개월) +\n",
    "\n",
    "\n",
    "\n",
    "# 회차별 만족도\n",
    "print('-'*15,'회차별 만족도','-'*15)\n",
    "count = len(soup.select('a.tool_tip_btn')) + 1\n",
    "for i in soup.select('table.view')[2:]:\n",
    "    if i.text.find('훈련진행중') != -1:\n",
    "        count -= 1\n",
    "        sati.append('훈련진행중')\n",
    "        print(f'{count}회차 만족도 수집 완료')\n",
    "    else:\n",
    "        for j in i.select('td'):\n",
    "            tableview = j.text.replace('\\n','').replace('\\t','').strip()\n",
    "            if re.findall('[.\\d]+\\s점',tableview) != []:\n",
    "                count -= 1\n",
    "                sati.append(re.findall('[.\\d]+\\s점',tableview).pop().replace(' 점',''))\n",
    "                print(f\"{count}회차 만족도 수집 완료\")\n",
    "print('회차별 만족도 결과')\n",
    "print(sati)\n",
    "print(f'size : {len(sati)}')\n",
    "\n",
    "# 회차별 훈련기간\n",
    "print('-'*15,'회차별 훈련기간','-'*15)\n",
    "count = len(soup.select('a.tool_tip_btn')) + 1\n",
    "for series in soup.select('span.con')[17:]:\n",
    "    if series.text.find('~') != -1:\n",
    "        count -= 1\n",
    "        print(f'{count}회차 훈련 시작일, 종료일 수집 완료')\n",
    "        prev.append(series.text.replace('\\n','').replace('\\t','').strip()[:series.text.replace('\\n','').replace('\\t','').strip().find('~')])\n",
    "        fini.append(series.text.replace('\\n','').replace('\\t','').strip()[series.text.replace('\\n','').replace('\\t','').strip().find('~')+1:])\n",
    "#         print(series.text.replace('\\n','').replace('\\t','').strip()[:series.text.replace('\\n','').replace('\\t','').strip().find('~')])\n",
    "#         print(series.text.replace('\\n','').replace('\\t','').strip()[series.text.replace('\\n','').replace('\\t','').strip().find('~')+1:])\n",
    "print('회차별 시작일')\n",
    "print(prev)\n",
    "print(f'size : {len(prev)}')\n",
    "print('회차별 종료일')\n",
    "print(fini)\n",
    "print(f'size : {len(fini)}')\n",
    "\n",
    "# 회차별 모집인원\n",
    "print('-'*15,'회차별 모집인원','-'*15)\n",
    "count = len(soup.select('a.tool_tip_btn')) + 1\n",
    "for i in soup.select('table.view')[2:]:\n",
    "    if i.text.find('훈련진행중') != -1:\n",
    "        count -= 1\n",
    "        recu.append('훈련진행중')\n",
    "        print(f'{count}회차 모집인원 수집 완료')\n",
    "    else:\n",
    "        for j in i.select('td'):\n",
    "            if re.findall('\\d+명/',j.text) != []:\n",
    "                count -= 1\n",
    "                recu.append(re.findall('\\d+명/',j.text).pop().replace('명/',''))\n",
    "                print(f\"{count}회차 : 모집인원 수집 완료\")\n",
    "print('회차별 모집인원')\n",
    "print(recu)\n",
    "print(f'size : {len(recu)}')\n",
    "                      \n",
    "# 취업률 (고용보험가입 3개월) 취업인원/수료인원\n",
    "series_count = len(soup.select('a.tool_tip_btn'))\n",
    "# count = len(soup.select('a.tool_tip_btn')) + 1\n",
    "cnt = 0\n",
    "for i in soup.select('table.view'):\n",
    "    if i.text.find('취업률 고용보험가입 3개월') != -1:\n",
    "        for j in i.select('b'):\n",
    "            cnt += 1\n",
    "            if cnt % 3 == 1:\n",
    "                rate_empl = j.text.replace('\\n','').replace('\\t','')\n",
    "                empl_rate_3.append(rate_empl[:rate_empl.find(\"%\")])\n",
    "                empl_3.append(rate_empl[rate_empl.find(\"%\")+2:rate_empl.find(\"/\")])\n",
    "                comp_3.append(rate_empl[rate_empl.find(\"/\")+1:-1])\n",
    "                print('취업률 수집 완료')\n",
    "while len(empl_rate_3) != series_count:\n",
    "    empl_rate_3.insert(0,'훈련진행중')\n",
    "while len(empl_3) != series_count:\n",
    "    empl_3.insert(0,'훈련진행중')\n",
    "while len(comp_3) != series_count:\n",
    "    comp_3.insert(0,'훈련진행중')\n",
    "print(empl_rate_3)\n",
    "print(f'size : {len(empl_rate_3)}')\n",
    "print(empl_3)\n",
    "print(f'size : {len(empl_3)}')\n",
    "print(comp_3)\n",
    "print(f'size : {len(comp_3)}')\n",
    "\n",
    "\n",
    "# 취업률 (고용보험가입 6개월) 취업인원/수료인원\n",
    "series_count = len(soup.select('a.tool_tip_btn'))\n",
    "# count = len(soup.select('a.tool_tip_btn')) + 1\n",
    "cnt = 0\n",
    "for i in soup.select('table.view'):\n",
    "    if i.text.find('취업률 고용보험가입 6개월') != -1:\n",
    "        for j in i.select('b'):\n",
    "            cnt += 1\n",
    "            if cnt % 3 == 2:\n",
    "                rate_empl = j.text.replace('\\n','').replace('\\t','')\n",
    "                empl_rate_6.append(rate_empl[:rate_empl.find(\"%\")])\n",
    "                empl_6.append(rate_empl[rate_empl.find(\"%\")+2:rate_empl.find(\"/\")])\n",
    "                comp_6.append(rate_empl[rate_empl.find(\"/\")+1:-1])\n",
    "                \n",
    "while len(empl_rate_6) != series_count:\n",
    "    empl_rate_6.insert(0,'훈련진행중')\n",
    "while len(empl_6) != series_count:\n",
    "    empl_6.insert(0,'훈련진행중')\n",
    "while len(comp_6) != series_count:\n",
    "    comp_6.insert(0,'훈련진행중')\n",
    "print(empl_rate_6)\n",
    "print(f'size : {len(empl_rate_6)}')\n",
    "print(empl_6)\n",
    "print(f'size : {len(empl_6)}')\n",
    "print(comp_6)\n",
    "print(f'size : {len(comp_6)}')\n",
    "\n",
    "# 회차별 수강확정인원, 수강신청인원\n",
    "print('-'*15,'회차별 수강 [확정,신청] 인원','-'*15)\n",
    "for a in soup.select('table.view'):\n",
    "    for b in a.select('td'):\n",
    "        if b.text.find('수강확정인원') != -1:\n",
    "#             print(re.findall('\\d+',b.text))\n",
    "            conf.append(re.findall('\\d+',b.text)[0])\n",
    "            appl.append(re.findall('\\d+',b.text)[1])\n",
    "print('수강확정인원')\n",
    "print(conf)\n",
    "print(f'size : {len(conf)}')\n",
    "print('수강신청인원')\n",
    "print(appl)\n",
    "print(f'size : {len(appl)}')\n",
    "\n",
    "count = len(soup.select('a.tool_tip_btn')) + 1\n",
    "    \n",
    "for patterns in soup.select('a.tool_tip_btn'):\n",
    "    series_url = f'https://www.hrd.go.kr/hrdp/co/pcobo/PCOBO0100P.do?tracseId=AIG20200000286660&tracseTme={index+1}&crseTracseSe=C0061&trainstCstmrId=500020018488#undefined'\n",
    "    resp_series = requests.get(series_url)\n",
    "    soup_series = BeautifulSoup(resp_series.text, \"html.parser\")\n",
    "\n",
    "    count -= 1\n",
    "    print(f'---------------- {count} 회차 ---------------')\n",
    "    \n",
    "    # 차단 방지 시간 딜레이\n",
    "    seed = np.random.randint(100)\n",
    "    np.random.seed(seed)\n",
    "    a = np.random.randint(5)\n",
    "    time.sleep(a)\n",
    "    \n",
    "    # 기관명\n",
    "    for organ in soup_series.select('p.add'):\n",
    "        orga.append(organ.text.strip())\n",
    "\n",
    "    # 과정명\n",
    "    for course in soup_series.select('h4.tit'):\n",
    "#         print(course.text.replace('\\n','').replace('\\t',''))\n",
    "        cour.append(course.text.replace('\\n','').replace('\\t',''))\n",
    "    \n",
    "    # 훈련비\n",
    "    pric.append(soup.select('p.price')[0].text[:soup.select('p.price')[0].text.find(' 원')].replace('\\n', '').replace('\\t', ''))\n",
    "#     for price in soup_series.select('p.price'):\n",
    "#         print(price.text.strip().replace('\\n','')[:price.text.find('원')].strip().replace('\\t',''))\n",
    "#         pric.append(price.text.strip().replace('\\n','')[:price.text.find('원')].strip().replace('\\t',''))\n",
    "\n",
    "    # 훈련시간\n",
    "    for i in soup.select('span.con'):\n",
    "        if i.text.find('일') != -1:\n",
    "#             print(i.text.replace('\\n','').replace('\\t',''))\n",
    "            spen.append(i.text.replace('\\n,','').replace('\\t','').strip().replace('\\n',''))\n",
    "    # NCS 자격분류\n",
    "    for NCS in soup_series.select('span.con'):\n",
    "        if re.findall('\\d{6,}',NCS.text) != []:\n",
    "#             print(re.findall('.+\\d{6,}.',NCS.text).pop().replace('\\t',''))\n",
    "            NCS_dist.append(re.findall('.+\\d{6,}.',NCS.text).pop().replace('\\t',''))\n",
    "    # 수강생 평균나이\n",
    "    for g in soup.select('span.con'):\n",
    "        if g.text.find('세') != -1:\n",
    "#         print(re.findall(\"\\d+\\s세\", g.text).pop().replace(' 세',''))\n",
    "            mean_age.append(re.findall(\"\\d+\\s세\", g.text).pop().replace(' 세',''))\n",
    "\n",
    "print(orga)\n",
    "print(f'size : {len(orga)}')\n",
    "print(cour)\n",
    "print(f'size : {len(cour)}')\n",
    "print(pric)\n",
    "print(f'size : {len(pric)}')\n",
    "print(spen)\n",
    "print(f'size : {len(spen)}')\n",
    "print(NCS_dist)\n",
    "print(f'size : {len(NCS_dist)}')"
   ]
  },
  {
   "cell_type": "markdown",
   "id": "62540396",
   "metadata": {},
   "source": [
    "### list -> str -> dictionary 로 변환"
   ]
  },
  {
   "cell_type": "code",
   "execution_count": 286,
   "id": "b8490b5d",
   "metadata": {
    "ExecuteTime": {
     "end_time": "2022-07-31T10:52:41.936233Z",
     "start_time": "2022-07-31T10:52:41.926052Z"
    }
   },
   "outputs": [
    {
     "name": "stdout",
     "output_type": "stream",
     "text": [
      "['스마트인재개발원', '스마트인재개발원', '스마트인재개발원', '스마트인재개발원', '스마트인재개발원', '스마트인재개발원', '스마트인재개발원', '스마트인재개발원', '스마트인재개발원', '스마트인재개발원', '스마트인재개발원', '스마트인재개발원', '스마트인재개발원', '스마트인재개발원']\n",
      "['빅데이터 분석서비스 개발자과정(NCS)모집마감', '빅데이터 분석서비스 개발자과정(NCS)모집마감', '빅데이터 분석서비스 개발자과정(NCS)모집마감', '빅데이터 분석서비스 개발자과정(NCS)모집마감', '빅데이터 분석서비스 개발자과정(NCS)모집마감', '빅데이터 분석서비스 개발자과정(NCS)모집마감', '빅데이터 분석서비스 개발자과정(NCS)모집마감', '빅데이터 분석서비스 개발자과정(NCS)모집마감', '빅데이터 분석서비스 개발자과정(NCS)모집마감', '빅데이터 분석서비스 개발자과정(NCS)모집마감', '빅데이터 분석서비스 개발자과정(NCS)모집마감', '빅데이터 분석서비스 개발자과정(NCS)모집마감', '빅데이터 분석서비스 개발자과정(NCS)모집마감', '빅데이터 분석서비스 개발자과정(NCS)모집마감']\n",
      "['14', '13', '12', '11', '10', '9', '8', '7', '6', '5', '4', '3', '2', '1']\n",
      "['13,762,240', '13,762,240', '13,762,240', '13,762,240', '13,762,240', '13,762,240', '13,762,240', '13,762,240', '13,762,240', '13,762,240', '13,762,240', '13,762,240', '13,762,240', '13,762,240']\n",
      "['2022-05-02 ', '2022-03-14 ', '2022-02-15 ', '2022-02-15 ', '2022-01-10 ', '2021-12-01 ', '2021-11-15 ', '2021-09-15 ', '2021-08-25 ', '2021-04-01 ', '2021-03-17 ', '2021-03-15 ', '2020-12-07 ', '2020-11-02 ']\n",
      "['2022-10-18', '2022-08-24', '2022-08-04', '2022-08-04', '2022-06-23', '2022-05-17', '2022-04-27', '2022-02-28', '2022-01-28', '2021-08-31', '2021-08-19', '2021-08-13', '2021-05-21', '2021-04-12']\n",
      "['116일,총928시간', '116일,총928시간', '116일,총928시간', '116일,총928시간', '116일,총928시간', '116일,총928시간', '116일,총928시간', '116일,총928시간', '116일,총928시간', '116일,총928시간', '116일,총928시간', '116일,총928시간', '116일,총928시간', '116일,총928시간']\n",
      "['응용SW엔지니어링(20010202)', '응용SW엔지니어링(20010202)', '응용SW엔지니어링(20010202)', '응용SW엔지니어링(20010202)', '응용SW엔지니어링(20010202)', '응용SW엔지니어링(20010202)', '응용SW엔지니어링(20010202)', '응용SW엔지니어링(20010202)', '응용SW엔지니어링(20010202)', '응용SW엔지니어링(20010202)', '응용SW엔지니어링(20010202)', '응용SW엔지니어링(20010202)', '응용SW엔지니어링(20010202)', '응용SW엔지니어링(20010202)']\n",
      "['훈련진행중', '훈련진행중', '훈련진행중', '훈련진행중', '25', '25', '25', '25', '24', '25', '25', '25', '28', '28']\n",
      "['25', '25', '25', '25', '25', '25', '25', '25', '24', '25', '25', '25', '28', '28']\n",
      "['25', '25', '25', '25', '25', '25', '25', '25', '24', '25', '25', '25', '28', '28']\n",
      "['27', '27', '27', '27', '27', '27', '27', '27', '27', '27', '27', '27', '27', '27']\n",
      "['훈련진행중', '훈련진행중', '훈련진행중', '훈련진행중', '75.2', '82.4', '90.84', '90', '91.58', '84.54', '89.6', '89.56', '80.74', '95.56']\n",
      "['훈련진행중', '훈련진행중', '훈련진행중', '훈련진행중', '', '', '60.9', '87', '63.2', '0', '56', '73.9', '57.1', '80.8']\n",
      "['훈련진행중', '훈련진행중', '훈련진행중', '훈련진행중', '', '', '14', '20', '12', '0', '14', '17', '12', '21']\n",
      "['훈련진행중', '훈련진행중', '훈련진행중', '훈련진행중', '', '', '23', '23', '19', '18', '25', '23', '21', '26']\n",
      "['훈련진행중', '훈련진행중', '훈련진행중', '훈련진행중', '', '', '', '', '84.2', '83.3', '72', '82.6', '76.2', '92.3']\n",
      "['훈련진행중', '훈련진행중', '훈련진행중', '훈련진행중', '', '', '', '', '16', '15', '18', '19', '16', '24']\n"
     ]
    }
   ],
   "source": [
    "li_list =[orga,cour,seri,pric,prev,fini,spen,NCS_dist,recu,conf,appl,mean_age,sati,empl_rate_3,empl_3,comp_3,empl_rate_6,empl_6]\n",
    "for li in li_list:\n",
    "    print(li)"
   ]
  },
  {
   "cell_type": "code",
   "execution_count": null,
   "id": "ce189f0d",
   "metadata": {},
   "outputs": [],
   "source": []
  },
  {
   "cell_type": "markdown",
   "id": "61fac781",
   "metadata": {},
   "source": [
    "> list to str"
   ]
  },
  {
   "cell_type": "markdown",
   "id": "bf1de0b1",
   "metadata": {},
   "source": [
    "### dictionary -> DataFrame 변환"
   ]
  },
  {
   "cell_type": "code",
   "execution_count": 287,
   "id": "e8ba087e",
   "metadata": {
    "ExecuteTime": {
     "end_time": "2022-07-31T10:53:21.360153Z",
     "start_time": "2022-07-31T10:53:21.317476Z"
    }
   },
   "outputs": [
    {
     "data": {
      "text/html": [
       "<div>\n",
       "<style scoped>\n",
       "    .dataframe tbody tr th:only-of-type {\n",
       "        vertical-align: middle;\n",
       "    }\n",
       "\n",
       "    .dataframe tbody tr th {\n",
       "        vertical-align: top;\n",
       "    }\n",
       "\n",
       "    .dataframe thead th {\n",
       "        text-align: right;\n",
       "    }\n",
       "</style>\n",
       "<table border=\"1\" class=\"dataframe\">\n",
       "  <thead>\n",
       "    <tr style=\"text-align: right;\">\n",
       "      <th></th>\n",
       "      <th>기관명</th>\n",
       "      <th>과정명</th>\n",
       "      <th>회차</th>\n",
       "      <th>훈련비</th>\n",
       "      <th>훈련시작일</th>\n",
       "      <th>훈련종료일</th>\n",
       "      <th>훈련시간</th>\n",
       "      <th>NCS 직무분류</th>\n",
       "      <th>모집인원</th>\n",
       "      <th>수강확정인원</th>\n",
       "      <th>수강신청인원</th>\n",
       "      <th>수강생 평균 연령대(세)</th>\n",
       "      <th>수강생 만족도</th>\n",
       "      <th>취업률 고용보험가입 3개월</th>\n",
       "      <th>취업인원(3개월)</th>\n",
       "      <th>수료인원</th>\n",
       "      <th>취업률 고용보험가입 6개월</th>\n",
       "      <th>취업인원(6개월)</th>\n",
       "    </tr>\n",
       "  </thead>\n",
       "  <tbody>\n",
       "  </tbody>\n",
       "</table>\n",
       "</div>"
      ],
      "text/plain": [
       "Empty DataFrame\n",
       "Columns: [기관명, 과정명, 회차, 훈련비, 훈련시작일, 훈련종료일, 훈련시간, NCS 직무분류, 모집인원, 수강확정인원, 수강신청인원, 수강생 평균 연령대(세), 수강생 만족도, 취업률 고용보험가입 3개월, 취업인원(3개월), 수료인원, 취업률 고용보험가입 6개월, 취업인원(6개월)]\n",
       "Index: []"
      ]
     },
     "execution_count": 287,
     "metadata": {},
     "output_type": "execute_result"
    }
   ],
   "source": [
    "# pd.DataFrame(columns = colu)\n",
    "df = pd.DataFrame(columns = col)\n",
    "df"
   ]
  },
  {
   "cell_type": "markdown",
   "id": "65278f62",
   "metadata": {},
   "source": [
    "### loc 사용"
   ]
  },
  {
   "cell_type": "markdown",
   "id": "a19ab816",
   "metadata": {},
   "source": [
    "#### 두 리스트 동시에 사용하기 위해 for zip 사용"
   ]
  },
  {
   "cell_type": "code",
   "execution_count": 288,
   "id": "f56e2dc9",
   "metadata": {
    "ExecuteTime": {
     "end_time": "2022-07-31T10:53:22.893078Z",
     "start_time": "2022-07-31T10:53:22.865308Z"
    }
   },
   "outputs": [
    {
     "data": {
      "text/html": [
       "<div>\n",
       "<style scoped>\n",
       "    .dataframe tbody tr th:only-of-type {\n",
       "        vertical-align: middle;\n",
       "    }\n",
       "\n",
       "    .dataframe tbody tr th {\n",
       "        vertical-align: top;\n",
       "    }\n",
       "\n",
       "    .dataframe thead th {\n",
       "        text-align: right;\n",
       "    }\n",
       "</style>\n",
       "<table border=\"1\" class=\"dataframe\">\n",
       "  <thead>\n",
       "    <tr style=\"text-align: right;\">\n",
       "      <th></th>\n",
       "      <th>기관명</th>\n",
       "      <th>과정명</th>\n",
       "      <th>회차</th>\n",
       "      <th>훈련비</th>\n",
       "      <th>훈련시작일</th>\n",
       "      <th>훈련종료일</th>\n",
       "      <th>훈련시간</th>\n",
       "      <th>NCS 직무분류</th>\n",
       "      <th>모집인원</th>\n",
       "      <th>수강확정인원</th>\n",
       "      <th>수강신청인원</th>\n",
       "      <th>수강생 평균 연령대(세)</th>\n",
       "      <th>수강생 만족도</th>\n",
       "      <th>취업률 고용보험가입 3개월</th>\n",
       "      <th>취업인원(3개월)</th>\n",
       "      <th>수료인원</th>\n",
       "      <th>취업률 고용보험가입 6개월</th>\n",
       "      <th>취업인원(6개월)</th>\n",
       "    </tr>\n",
       "  </thead>\n",
       "  <tbody>\n",
       "    <tr>\n",
       "      <th>0</th>\n",
       "      <td>스마트인재개발원</td>\n",
       "      <td>빅데이터 분석서비스 개발자과정(NCS)모집마감</td>\n",
       "      <td>14</td>\n",
       "      <td>13,762,240</td>\n",
       "      <td>2022-05-02</td>\n",
       "      <td>2022-10-18</td>\n",
       "      <td>116일,총928시간</td>\n",
       "      <td>응용SW엔지니어링(20010202)</td>\n",
       "      <td>훈련진행중</td>\n",
       "      <td>25</td>\n",
       "      <td>25</td>\n",
       "      <td>27</td>\n",
       "      <td>훈련진행중</td>\n",
       "      <td>훈련진행중</td>\n",
       "      <td>훈련진행중</td>\n",
       "      <td>훈련진행중</td>\n",
       "      <td>훈련진행중</td>\n",
       "      <td>훈련진행중</td>\n",
       "    </tr>\n",
       "    <tr>\n",
       "      <th>1</th>\n",
       "      <td>스마트인재개발원</td>\n",
       "      <td>빅데이터 분석서비스 개발자과정(NCS)모집마감</td>\n",
       "      <td>13</td>\n",
       "      <td>13,762,240</td>\n",
       "      <td>2022-03-14</td>\n",
       "      <td>2022-08-24</td>\n",
       "      <td>116일,총928시간</td>\n",
       "      <td>응용SW엔지니어링(20010202)</td>\n",
       "      <td>훈련진행중</td>\n",
       "      <td>25</td>\n",
       "      <td>25</td>\n",
       "      <td>27</td>\n",
       "      <td>훈련진행중</td>\n",
       "      <td>훈련진행중</td>\n",
       "      <td>훈련진행중</td>\n",
       "      <td>훈련진행중</td>\n",
       "      <td>훈련진행중</td>\n",
       "      <td>훈련진행중</td>\n",
       "    </tr>\n",
       "    <tr>\n",
       "      <th>2</th>\n",
       "      <td>스마트인재개발원</td>\n",
       "      <td>빅데이터 분석서비스 개발자과정(NCS)모집마감</td>\n",
       "      <td>12</td>\n",
       "      <td>13,762,240</td>\n",
       "      <td>2022-02-15</td>\n",
       "      <td>2022-08-04</td>\n",
       "      <td>116일,총928시간</td>\n",
       "      <td>응용SW엔지니어링(20010202)</td>\n",
       "      <td>훈련진행중</td>\n",
       "      <td>25</td>\n",
       "      <td>25</td>\n",
       "      <td>27</td>\n",
       "      <td>훈련진행중</td>\n",
       "      <td>훈련진행중</td>\n",
       "      <td>훈련진행중</td>\n",
       "      <td>훈련진행중</td>\n",
       "      <td>훈련진행중</td>\n",
       "      <td>훈련진행중</td>\n",
       "    </tr>\n",
       "    <tr>\n",
       "      <th>3</th>\n",
       "      <td>스마트인재개발원</td>\n",
       "      <td>빅데이터 분석서비스 개발자과정(NCS)모집마감</td>\n",
       "      <td>11</td>\n",
       "      <td>13,762,240</td>\n",
       "      <td>2022-02-15</td>\n",
       "      <td>2022-08-04</td>\n",
       "      <td>116일,총928시간</td>\n",
       "      <td>응용SW엔지니어링(20010202)</td>\n",
       "      <td>훈련진행중</td>\n",
       "      <td>25</td>\n",
       "      <td>25</td>\n",
       "      <td>27</td>\n",
       "      <td>훈련진행중</td>\n",
       "      <td>훈련진행중</td>\n",
       "      <td>훈련진행중</td>\n",
       "      <td>훈련진행중</td>\n",
       "      <td>훈련진행중</td>\n",
       "      <td>훈련진행중</td>\n",
       "    </tr>\n",
       "    <tr>\n",
       "      <th>4</th>\n",
       "      <td>스마트인재개발원</td>\n",
       "      <td>빅데이터 분석서비스 개발자과정(NCS)모집마감</td>\n",
       "      <td>10</td>\n",
       "      <td>13,762,240</td>\n",
       "      <td>2022-01-10</td>\n",
       "      <td>2022-06-23</td>\n",
       "      <td>116일,총928시간</td>\n",
       "      <td>응용SW엔지니어링(20010202)</td>\n",
       "      <td>25</td>\n",
       "      <td>25</td>\n",
       "      <td>25</td>\n",
       "      <td>27</td>\n",
       "      <td>75.2</td>\n",
       "      <td></td>\n",
       "      <td></td>\n",
       "      <td></td>\n",
       "      <td></td>\n",
       "      <td></td>\n",
       "    </tr>\n",
       "    <tr>\n",
       "      <th>5</th>\n",
       "      <td>스마트인재개발원</td>\n",
       "      <td>빅데이터 분석서비스 개발자과정(NCS)모집마감</td>\n",
       "      <td>9</td>\n",
       "      <td>13,762,240</td>\n",
       "      <td>2021-12-01</td>\n",
       "      <td>2022-05-17</td>\n",
       "      <td>116일,총928시간</td>\n",
       "      <td>응용SW엔지니어링(20010202)</td>\n",
       "      <td>25</td>\n",
       "      <td>25</td>\n",
       "      <td>25</td>\n",
       "      <td>27</td>\n",
       "      <td>82.4</td>\n",
       "      <td></td>\n",
       "      <td></td>\n",
       "      <td></td>\n",
       "      <td></td>\n",
       "      <td></td>\n",
       "    </tr>\n",
       "    <tr>\n",
       "      <th>6</th>\n",
       "      <td>스마트인재개발원</td>\n",
       "      <td>빅데이터 분석서비스 개발자과정(NCS)모집마감</td>\n",
       "      <td>8</td>\n",
       "      <td>13,762,240</td>\n",
       "      <td>2021-11-15</td>\n",
       "      <td>2022-04-27</td>\n",
       "      <td>116일,총928시간</td>\n",
       "      <td>응용SW엔지니어링(20010202)</td>\n",
       "      <td>25</td>\n",
       "      <td>25</td>\n",
       "      <td>25</td>\n",
       "      <td>27</td>\n",
       "      <td>90.84</td>\n",
       "      <td>60.9</td>\n",
       "      <td>14</td>\n",
       "      <td>23</td>\n",
       "      <td></td>\n",
       "      <td></td>\n",
       "    </tr>\n",
       "    <tr>\n",
       "      <th>7</th>\n",
       "      <td>스마트인재개발원</td>\n",
       "      <td>빅데이터 분석서비스 개발자과정(NCS)모집마감</td>\n",
       "      <td>7</td>\n",
       "      <td>13,762,240</td>\n",
       "      <td>2021-09-15</td>\n",
       "      <td>2022-02-28</td>\n",
       "      <td>116일,총928시간</td>\n",
       "      <td>응용SW엔지니어링(20010202)</td>\n",
       "      <td>25</td>\n",
       "      <td>25</td>\n",
       "      <td>25</td>\n",
       "      <td>27</td>\n",
       "      <td>90</td>\n",
       "      <td>87</td>\n",
       "      <td>20</td>\n",
       "      <td>23</td>\n",
       "      <td></td>\n",
       "      <td></td>\n",
       "    </tr>\n",
       "    <tr>\n",
       "      <th>8</th>\n",
       "      <td>스마트인재개발원</td>\n",
       "      <td>빅데이터 분석서비스 개발자과정(NCS)모집마감</td>\n",
       "      <td>6</td>\n",
       "      <td>13,762,240</td>\n",
       "      <td>2021-08-25</td>\n",
       "      <td>2022-01-28</td>\n",
       "      <td>116일,총928시간</td>\n",
       "      <td>응용SW엔지니어링(20010202)</td>\n",
       "      <td>24</td>\n",
       "      <td>24</td>\n",
       "      <td>24</td>\n",
       "      <td>27</td>\n",
       "      <td>91.58</td>\n",
       "      <td>63.2</td>\n",
       "      <td>12</td>\n",
       "      <td>19</td>\n",
       "      <td>84.2</td>\n",
       "      <td>16</td>\n",
       "    </tr>\n",
       "    <tr>\n",
       "      <th>9</th>\n",
       "      <td>스마트인재개발원</td>\n",
       "      <td>빅데이터 분석서비스 개발자과정(NCS)모집마감</td>\n",
       "      <td>5</td>\n",
       "      <td>13,762,240</td>\n",
       "      <td>2021-04-01</td>\n",
       "      <td>2021-08-31</td>\n",
       "      <td>116일,총928시간</td>\n",
       "      <td>응용SW엔지니어링(20010202)</td>\n",
       "      <td>25</td>\n",
       "      <td>25</td>\n",
       "      <td>25</td>\n",
       "      <td>27</td>\n",
       "      <td>84.54</td>\n",
       "      <td>0</td>\n",
       "      <td>0</td>\n",
       "      <td>18</td>\n",
       "      <td>83.3</td>\n",
       "      <td>15</td>\n",
       "    </tr>\n",
       "    <tr>\n",
       "      <th>10</th>\n",
       "      <td>스마트인재개발원</td>\n",
       "      <td>빅데이터 분석서비스 개발자과정(NCS)모집마감</td>\n",
       "      <td>4</td>\n",
       "      <td>13,762,240</td>\n",
       "      <td>2021-03-17</td>\n",
       "      <td>2021-08-19</td>\n",
       "      <td>116일,총928시간</td>\n",
       "      <td>응용SW엔지니어링(20010202)</td>\n",
       "      <td>25</td>\n",
       "      <td>25</td>\n",
       "      <td>25</td>\n",
       "      <td>27</td>\n",
       "      <td>89.6</td>\n",
       "      <td>56</td>\n",
       "      <td>14</td>\n",
       "      <td>25</td>\n",
       "      <td>72</td>\n",
       "      <td>18</td>\n",
       "    </tr>\n",
       "    <tr>\n",
       "      <th>11</th>\n",
       "      <td>스마트인재개발원</td>\n",
       "      <td>빅데이터 분석서비스 개발자과정(NCS)모집마감</td>\n",
       "      <td>3</td>\n",
       "      <td>13,762,240</td>\n",
       "      <td>2021-03-15</td>\n",
       "      <td>2021-08-13</td>\n",
       "      <td>116일,총928시간</td>\n",
       "      <td>응용SW엔지니어링(20010202)</td>\n",
       "      <td>25</td>\n",
       "      <td>25</td>\n",
       "      <td>25</td>\n",
       "      <td>27</td>\n",
       "      <td>89.56</td>\n",
       "      <td>73.9</td>\n",
       "      <td>17</td>\n",
       "      <td>23</td>\n",
       "      <td>82.6</td>\n",
       "      <td>19</td>\n",
       "    </tr>\n",
       "    <tr>\n",
       "      <th>12</th>\n",
       "      <td>스마트인재개발원</td>\n",
       "      <td>빅데이터 분석서비스 개발자과정(NCS)모집마감</td>\n",
       "      <td>2</td>\n",
       "      <td>13,762,240</td>\n",
       "      <td>2020-12-07</td>\n",
       "      <td>2021-05-21</td>\n",
       "      <td>116일,총928시간</td>\n",
       "      <td>응용SW엔지니어링(20010202)</td>\n",
       "      <td>28</td>\n",
       "      <td>28</td>\n",
       "      <td>28</td>\n",
       "      <td>27</td>\n",
       "      <td>80.74</td>\n",
       "      <td>57.1</td>\n",
       "      <td>12</td>\n",
       "      <td>21</td>\n",
       "      <td>76.2</td>\n",
       "      <td>16</td>\n",
       "    </tr>\n",
       "    <tr>\n",
       "      <th>13</th>\n",
       "      <td>스마트인재개발원</td>\n",
       "      <td>빅데이터 분석서비스 개발자과정(NCS)모집마감</td>\n",
       "      <td>1</td>\n",
       "      <td>13,762,240</td>\n",
       "      <td>2020-11-02</td>\n",
       "      <td>2021-04-12</td>\n",
       "      <td>116일,총928시간</td>\n",
       "      <td>응용SW엔지니어링(20010202)</td>\n",
       "      <td>28</td>\n",
       "      <td>28</td>\n",
       "      <td>28</td>\n",
       "      <td>27</td>\n",
       "      <td>95.56</td>\n",
       "      <td>80.8</td>\n",
       "      <td>21</td>\n",
       "      <td>26</td>\n",
       "      <td>92.3</td>\n",
       "      <td>24</td>\n",
       "    </tr>\n",
       "  </tbody>\n",
       "</table>\n",
       "</div>"
      ],
      "text/plain": [
       "         기관명                        과정명  회차         훈련비        훈련시작일  \\\n",
       "0   스마트인재개발원  빅데이터 분석서비스 개발자과정(NCS)모집마감  14  13,762,240  2022-05-02    \n",
       "1   스마트인재개발원  빅데이터 분석서비스 개발자과정(NCS)모집마감  13  13,762,240  2022-03-14    \n",
       "2   스마트인재개발원  빅데이터 분석서비스 개발자과정(NCS)모집마감  12  13,762,240  2022-02-15    \n",
       "3   스마트인재개발원  빅데이터 분석서비스 개발자과정(NCS)모집마감  11  13,762,240  2022-02-15    \n",
       "4   스마트인재개발원  빅데이터 분석서비스 개발자과정(NCS)모집마감  10  13,762,240  2022-01-10    \n",
       "5   스마트인재개발원  빅데이터 분석서비스 개발자과정(NCS)모집마감   9  13,762,240  2021-12-01    \n",
       "6   스마트인재개발원  빅데이터 분석서비스 개발자과정(NCS)모집마감   8  13,762,240  2021-11-15    \n",
       "7   스마트인재개발원  빅데이터 분석서비스 개발자과정(NCS)모집마감   7  13,762,240  2021-09-15    \n",
       "8   스마트인재개발원  빅데이터 분석서비스 개발자과정(NCS)모집마감   6  13,762,240  2021-08-25    \n",
       "9   스마트인재개발원  빅데이터 분석서비스 개발자과정(NCS)모집마감   5  13,762,240  2021-04-01    \n",
       "10  스마트인재개발원  빅데이터 분석서비스 개발자과정(NCS)모집마감   4  13,762,240  2021-03-17    \n",
       "11  스마트인재개발원  빅데이터 분석서비스 개발자과정(NCS)모집마감   3  13,762,240  2021-03-15    \n",
       "12  스마트인재개발원  빅데이터 분석서비스 개발자과정(NCS)모집마감   2  13,762,240  2020-12-07    \n",
       "13  스마트인재개발원  빅데이터 분석서비스 개발자과정(NCS)모집마감   1  13,762,240  2020-11-02    \n",
       "\n",
       "         훈련종료일         훈련시간             NCS 직무분류   모집인원 수강확정인원 수강신청인원  \\\n",
       "0   2022-10-18  116일,총928시간  응용SW엔지니어링(20010202)  훈련진행중     25     25   \n",
       "1   2022-08-24  116일,총928시간  응용SW엔지니어링(20010202)  훈련진행중     25     25   \n",
       "2   2022-08-04  116일,총928시간  응용SW엔지니어링(20010202)  훈련진행중     25     25   \n",
       "3   2022-08-04  116일,총928시간  응용SW엔지니어링(20010202)  훈련진행중     25     25   \n",
       "4   2022-06-23  116일,총928시간  응용SW엔지니어링(20010202)     25     25     25   \n",
       "5   2022-05-17  116일,총928시간  응용SW엔지니어링(20010202)     25     25     25   \n",
       "6   2022-04-27  116일,총928시간  응용SW엔지니어링(20010202)     25     25     25   \n",
       "7   2022-02-28  116일,총928시간  응용SW엔지니어링(20010202)     25     25     25   \n",
       "8   2022-01-28  116일,총928시간  응용SW엔지니어링(20010202)     24     24     24   \n",
       "9   2021-08-31  116일,총928시간  응용SW엔지니어링(20010202)     25     25     25   \n",
       "10  2021-08-19  116일,총928시간  응용SW엔지니어링(20010202)     25     25     25   \n",
       "11  2021-08-13  116일,총928시간  응용SW엔지니어링(20010202)     25     25     25   \n",
       "12  2021-05-21  116일,총928시간  응용SW엔지니어링(20010202)     28     28     28   \n",
       "13  2021-04-12  116일,총928시간  응용SW엔지니어링(20010202)     28     28     28   \n",
       "\n",
       "   수강생 평균 연령대(세) 수강생 만족도 취업률 고용보험가입 3개월 취업인원(3개월)   수료인원 취업률 고용보험가입 6개월  \\\n",
       "0             27   훈련진행중          훈련진행중     훈련진행중  훈련진행중          훈련진행중   \n",
       "1             27   훈련진행중          훈련진행중     훈련진행중  훈련진행중          훈련진행중   \n",
       "2             27   훈련진행중          훈련진행중     훈련진행중  훈련진행중          훈련진행중   \n",
       "3             27   훈련진행중          훈련진행중     훈련진행중  훈련진행중          훈련진행중   \n",
       "4             27    75.2                                                  \n",
       "5             27    82.4                                                  \n",
       "6             27   90.84           60.9        14     23                  \n",
       "7             27      90             87        20     23                  \n",
       "8             27   91.58           63.2        12     19           84.2   \n",
       "9             27   84.54              0         0     18           83.3   \n",
       "10            27    89.6             56        14     25             72   \n",
       "11            27   89.56           73.9        17     23           82.6   \n",
       "12            27   80.74           57.1        12     21           76.2   \n",
       "13            27   95.56           80.8        21     26           92.3   \n",
       "\n",
       "   취업인원(6개월)  \n",
       "0      훈련진행중  \n",
       "1      훈련진행중  \n",
       "2      훈련진행중  \n",
       "3      훈련진행중  \n",
       "4             \n",
       "5             \n",
       "6             \n",
       "7             \n",
       "8         16  \n",
       "9         15  \n",
       "10        18  \n",
       "11        19  \n",
       "12        16  \n",
       "13        24  "
      ]
     },
     "execution_count": 288,
     "metadata": {},
     "output_type": "execute_result"
    }
   ],
   "source": [
    "var_list = ['orga','cour','seri','pric','prev','fini','spen','NCS_dist','recu','conf','appl','mean_age','sati','empl_rate_3','empl_3','comp_3','empl_rate_6','empl_6']\n",
    "\n",
    "for li, cols in zip(li_list, df.columns.tolist()):\n",
    "    df[cols] = li\n",
    "df"
   ]
  },
  {
   "cell_type": "markdown",
   "id": "c46a8395",
   "metadata": {},
   "source": [
    "## 엑셀로 저장\n",
    "---"
   ]
  },
  {
   "cell_type": "code",
   "execution_count": 290,
   "id": "6bed70c2",
   "metadata": {
    "ExecuteTime": {
     "end_time": "2022-07-31T10:59:08.775645Z",
     "start_time": "2022-07-31T10:59:08.619960Z"
    }
   },
   "outputs": [],
   "source": [
    "df.to_excel('HRDcrawling.xlsx', index=False)"
   ]
  },
  {
   "cell_type": "markdown",
   "id": "1b74b302",
   "metadata": {},
   "source": [
    "# HRD crawling 2\n",
    "---\n",
    "모든 페이지 내 존재하는 주소 가져오기"
   ]
  },
  {
   "cell_type": "code",
   "execution_count": 291,
   "id": "1dd6e78b",
   "metadata": {
    "ExecuteTime": {
     "end_time": "2022-07-31T11:10:01.009880Z",
     "start_time": "2022-07-31T11:09:57.686890Z"
    }
   },
   "outputs": [],
   "source": [
    "kdt_url = 'https://www.hrd.go.kr/hrdp/ti/ptiao/PTIAO0100L.do'\n",
    "kdt_resp = requests.get(kdt_url)\n",
    "kdt_soup = BeautifulSoup(kdt_resp.text, \"html.parser\")"
   ]
  },
  {
   "cell_type": "code",
   "execution_count": 295,
   "id": "6be268a9",
   "metadata": {
    "ExecuteTime": {
     "end_time": "2022-07-31T11:11:09.861954Z",
     "start_time": "2022-07-31T11:11:09.839327Z"
    }
   },
   "outputs": [
    {
     "data": {
      "text/plain": [
       "'?pageIndex=1715'"
      ]
     },
     "execution_count": 295,
     "metadata": {},
     "output_type": "execute_result"
    }
   ],
   "source": [
    "kdt_soup.select('a.pb2.next')[0].get('href')"
   ]
  },
  {
   "cell_type": "markdown",
   "id": "a25c26bb",
   "metadata": {},
   "source": [
    "## k-디지털 트레이닝 주소 \n",
    "---\n",
    "숨겨놔서 찾은게 놀라움 </br>\n",
    "https://www.hrd.go.kr/hrdp/ti/ptiao/PTIAO0100L.do?pageId=6&bgrllnstYn=undefined&DgtlYn=undefined&_csrf=6b34cee0-bc6e-4e71-b844-74891e83d22e\n",
    "\n",
    "> html 전부 뜯어보니 더 간단한 주소 찾음\n",
    "\n",
    "https://www.hrd.go.kr/hrdp/ti/ptiao/PTIAO0100L.do?pageId=2&kDgtlYn=Y"
   ]
  },
  {
   "cell_type": "markdown",
   "id": "ce8680f4",
   "metadata": {},
   "source": [
    "## k-디지털 기초역량 훈련 주소\n",
    "---\n",
    "undefine 부분이 바뀌면서 url 패턴찾는거 막는듯 </br>\n",
    "https://www.hrd.go.kr/hrdp/ti/ptiao/PTIAO0100L.do?pageId=2&bgrllnstYn=&kDgtlYn=Y&_csrf=6b34cee0-bc6e-4e71-b844-74891e83d22e\n",
    "\n",
    "> 위와 마찬가지로 뜯어보니 간단한 주소 찾음\n",
    "\n",
    "https://www.hrd.go.kr/hrdp/ti/ptiao/PTIAO0100L.do?pageId=2&kDgtlYn=Y"
   ]
  },
  {
   "cell_type": "markdown",
   "id": "75faab8a",
   "metadata": {},
   "source": [
    "# HRD-net\n",
    "---\n",
    "HRD 홈페이지가 url 크롤링을 의도적으로 막은 것 같다.\n",
    "\n",
    "대부분의 페이지를 동적페이지인것 마냥 url을 숨겨서 고정시켰다.\n",
    "\n",
    "모든 html을 뜯어보니 url 비밀에 접근할 수 있었다."
   ]
  },
  {
   "cell_type": "markdown",
   "id": "c883920f",
   "metadata": {},
   "source": [
    "> 동적페이지 인척하는 정적페이지\n",
    "\n",
    "<img src='img/pageUrl.png'>"
   ]
  },
  {
   "cell_type": "markdown",
   "id": "9f2bd387",
   "metadata": {},
   "source": [
    "요 순서대로 url에 원하는 value를 넣으면 된다."
   ]
  },
  {
   "cell_type": "markdown",
   "id": "ec2f80d8",
   "metadata": {},
   "source": [
    "## k-디지털 트레이닝 크롤링"
   ]
  },
  {
   "cell_type": "code",
   "execution_count": 311,
   "id": "c59d0a48",
   "metadata": {
    "ExecuteTime": {
     "end_time": "2022-07-31T12:27:47.614588Z",
     "start_time": "2022-07-31T12:27:46.774276Z"
    }
   },
   "outputs": [],
   "source": [
    "#'https://www.hrd.go.kr/hrdp/ti/ptiao/PTIAO0100L.do?pageId=6&bgrlInstYn=undefined&pageIndex=6&kDgtlYn=undefined&_csrf=6b34cee0-bc6e-4e71-b844-74801e83d22e'\n",
    "pageIndex = 1 # 1페이지\n",
    "kdt_url = f'https://www.hrd.go.kr/hrdp/ti/ptiao/PTIAO0100L.do?pageId=6&bgrlInstYn=undefined&pageIndex={pageIndex}&kDgtlYn=undefined&_csrf=6b34cee0-bc6e-4e71-b844-74801e83d22e'\n",
    "kdt_resp = requests.get(kdt_url)\n",
    "kdt_soup = BeautifulSoup(kdt_resp.text, \"html.parser\")"
   ]
  },
  {
   "cell_type": "code",
   "execution_count": 312,
   "id": "ff2d26ce",
   "metadata": {
    "ExecuteTime": {
     "end_time": "2022-07-31T12:27:49.363534Z",
     "start_time": "2022-07-31T12:27:49.340150Z"
    }
   },
   "outputs": [
    {
     "data": {
      "text/plain": [
       "'14'"
      ]
     },
     "execution_count": 312,
     "metadata": {},
     "output_type": "execute_result"
    }
   ],
   "source": [
    "#마지막페이지 추출\n",
    "end_page = re.findall('\\d+',kdt_soup.select('a.pb2.next')[0].get('href')).pop()\n",
    "end_page"
   ]
  },
  {
   "cell_type": "code",
   "execution_count": 318,
   "id": "6a073190",
   "metadata": {
    "ExecuteTime": {
     "end_time": "2022-07-31T12:29:42.665724Z",
     "start_time": "2022-07-31T12:29:42.659260Z"
    },
    "scrolled": true
   },
   "outputs": [
    {
     "name": "stdout",
     "output_type": "stream",
     "text": [
      "https://www.hrd.go.kr/hrdp/ti/ptiao/PTIAO0100L.do?pageId=6&bgrlInstYn=undefined&pageIndex=1&kDgtlYn=undefined&_csrf=6b34cee0-bc6e-4e71-b844-74801e83d22e\n",
      "https://www.hrd.go.kr/hrdp/ti/ptiao/PTIAO0100L.do?pageId=6&bgrlInstYn=undefined&pageIndex=2&kDgtlYn=undefined&_csrf=6b34cee0-bc6e-4e71-b844-74801e83d22e\n",
      "https://www.hrd.go.kr/hrdp/ti/ptiao/PTIAO0100L.do?pageId=6&bgrlInstYn=undefined&pageIndex=3&kDgtlYn=undefined&_csrf=6b34cee0-bc6e-4e71-b844-74801e83d22e\n",
      "https://www.hrd.go.kr/hrdp/ti/ptiao/PTIAO0100L.do?pageId=6&bgrlInstYn=undefined&pageIndex=4&kDgtlYn=undefined&_csrf=6b34cee0-bc6e-4e71-b844-74801e83d22e\n",
      "https://www.hrd.go.kr/hrdp/ti/ptiao/PTIAO0100L.do?pageId=6&bgrlInstYn=undefined&pageIndex=5&kDgtlYn=undefined&_csrf=6b34cee0-bc6e-4e71-b844-74801e83d22e\n",
      "https://www.hrd.go.kr/hrdp/ti/ptiao/PTIAO0100L.do?pageId=6&bgrlInstYn=undefined&pageIndex=6&kDgtlYn=undefined&_csrf=6b34cee0-bc6e-4e71-b844-74801e83d22e\n",
      "https://www.hrd.go.kr/hrdp/ti/ptiao/PTIAO0100L.do?pageId=6&bgrlInstYn=undefined&pageIndex=7&kDgtlYn=undefined&_csrf=6b34cee0-bc6e-4e71-b844-74801e83d22e\n",
      "https://www.hrd.go.kr/hrdp/ti/ptiao/PTIAO0100L.do?pageId=6&bgrlInstYn=undefined&pageIndex=8&kDgtlYn=undefined&_csrf=6b34cee0-bc6e-4e71-b844-74801e83d22e\n",
      "https://www.hrd.go.kr/hrdp/ti/ptiao/PTIAO0100L.do?pageId=6&bgrlInstYn=undefined&pageIndex=9&kDgtlYn=undefined&_csrf=6b34cee0-bc6e-4e71-b844-74801e83d22e\n",
      "https://www.hrd.go.kr/hrdp/ti/ptiao/PTIAO0100L.do?pageId=6&bgrlInstYn=undefined&pageIndex=10&kDgtlYn=undefined&_csrf=6b34cee0-bc6e-4e71-b844-74801e83d22e\n",
      "https://www.hrd.go.kr/hrdp/ti/ptiao/PTIAO0100L.do?pageId=6&bgrlInstYn=undefined&pageIndex=11&kDgtlYn=undefined&_csrf=6b34cee0-bc6e-4e71-b844-74801e83d22e\n",
      "https://www.hrd.go.kr/hrdp/ti/ptiao/PTIAO0100L.do?pageId=6&bgrlInstYn=undefined&pageIndex=12&kDgtlYn=undefined&_csrf=6b34cee0-bc6e-4e71-b844-74801e83d22e\n",
      "https://www.hrd.go.kr/hrdp/ti/ptiao/PTIAO0100L.do?pageId=6&bgrlInstYn=undefined&pageIndex=13&kDgtlYn=undefined&_csrf=6b34cee0-bc6e-4e71-b844-74801e83d22e\n",
      "https://www.hrd.go.kr/hrdp/ti/ptiao/PTIAO0100L.do?pageId=6&bgrlInstYn=undefined&pageIndex=14&kDgtlYn=undefined&_csrf=6b34cee0-bc6e-4e71-b844-74801e83d22e\n"
     ]
    }
   ],
   "source": [
    "# k-디지털 트레이닝 모든 페이지 주소\n",
    "for pageIndex in range(int(end_page)):\n",
    "    kdt_url = f'https://www.hrd.go.kr/hrdp/ti/ptiao/PTIAO0100L.do?pageId=6&bgrlInstYn=undefined&pageIndex={pageIndex+1}&kDgtlYn=undefined&_csrf=6b34cee0-bc6e-4e71-b844-74801e83d22e'\n",
    "    print(kdt_url)"
   ]
  },
  {
   "cell_type": "code",
   "execution_count": 345,
   "id": "9c9be22d",
   "metadata": {
    "ExecuteTime": {
     "end_time": "2022-07-31T12:45:31.953300Z",
     "start_time": "2022-07-31T12:45:31.934916Z"
    }
   },
   "outputs": [
    {
     "name": "stdout",
     "output_type": "stream",
     "text": [
      "[\"'AIG20210000313652'\", \"'6'\", \"'500020059960'\", \"'C0061'\", \"'PC'\"]\n",
      "[\"'AIG20210000313685'\", \"'10'\", \"'500020013370'\", \"'C0061'\", \"'PC'\"]\n",
      "[\"'AIG20200000286570'\", \"'6'\", \"'500020042738'\", \"'C0061'\", \"'PC'\"]\n",
      "[\"'AIG20200000313547'\", \"'21'\", \"'500020039927'\", \"'C0061'\", \"'PC'\"]\n",
      "[\"'AIG20220000366834'\", \"'1'\", \"'500020013014'\", \"'C0061'\", \"'PC'\"]\n",
      "[\"'AIG20220000366893'\", \"'2'\", \"'500020028562'\", \"'C0061'\", \"'PC'\"]\n",
      "[\"'AIG20220000366743'\", \"'1'\", \"'500020039927'\", \"'C0061'\", \"'PC'\"]\n",
      "[\"'AIG20220000409455'\", \"'3'\", \"'500020044796'\", \"'C0061'\", \"'PC'\"]\n",
      "[\"'AIG20220000366776'\", \"'1'\", \"'500020040446'\", \"'C0061'\", \"'PC'\"]\n",
      "[\"'AIG20220000366733'\", \"'1'\", \"'500020039773'\", \"'C0061'\", \"'PC'\"]\n"
     ]
    }
   ],
   "source": [
    "for anc in kdt_soup.select('div.title'):\n",
    "    for a in anc.select('a'):\n",
    "        pattern = re.findall(\"'\\w+\\d*'\",a.get('onclick'))\n",
    "        print(pattern)"
   ]
  },
  {
   "cell_type": "code",
   "execution_count": 375,
   "id": "283453d8",
   "metadata": {
    "ExecuteTime": {
     "end_time": "2022-07-31T13:12:02.989829Z",
     "start_time": "2022-07-31T13:11:19.565346Z"
    }
   },
   "outputs": [
    {
     "name": "stdout",
     "output_type": "stream",
     "text": [
      " --------------- url 크롤링 1 ---------------\n",
      "https://www.hrd.go.kr/hrdp/co/pcoco/PCOCO0100P.do?tracseId=AIG20210000313652&tracseTme=6&trainstCstmrId=500020059960&crseTracseSe=C0061\n",
      " --------------- url 크롤링 2 ---------------\n",
      "https://www.hrd.go.kr/hrdp/co/pcoco/PCOCO0100P.do?tracseId=AIG20210000313685&tracseTme=10&trainstCstmrId=500020013370&crseTracseSe=C0061\n",
      " --------------- url 크롤링 3 ---------------\n",
      "https://www.hrd.go.kr/hrdp/co/pcoco/PCOCO0100P.do?tracseId=AIG20200000286570&tracseTme=6&trainstCstmrId=500020042738&crseTracseSe=C0061\n",
      " --------------- url 크롤링 4 ---------------\n",
      "https://www.hrd.go.kr/hrdp/co/pcoco/PCOCO0100P.do?tracseId=AIG20200000313547&tracseTme=21&trainstCstmrId=500020039927&crseTracseSe=C0061\n",
      " --------------- url 크롤링 5 ---------------\n",
      "https://www.hrd.go.kr/hrdp/co/pcoco/PCOCO0100P.do?tracseId=AIG20220000366834&tracseTme=1&trainstCstmrId=500020013014&crseTracseSe=C0061\n",
      " --------------- url 크롤링 6 ---------------\n",
      "https://www.hrd.go.kr/hrdp/co/pcoco/PCOCO0100P.do?tracseId=AIG20220000366893&tracseTme=2&trainstCstmrId=500020028562&crseTracseSe=C0061\n",
      " --------------- url 크롤링 7 ---------------\n",
      "https://www.hrd.go.kr/hrdp/co/pcoco/PCOCO0100P.do?tracseId=AIG20220000366743&tracseTme=1&trainstCstmrId=500020039927&crseTracseSe=C0061\n",
      " --------------- url 크롤링 8 ---------------\n",
      "https://www.hrd.go.kr/hrdp/co/pcoco/PCOCO0100P.do?tracseId=AIG20220000409455&tracseTme=3&trainstCstmrId=500020044796&crseTracseSe=C0061\n",
      " --------------- url 크롤링 9 ---------------\n",
      "https://www.hrd.go.kr/hrdp/co/pcoco/PCOCO0100P.do?tracseId=AIG20220000366776&tracseTme=1&trainstCstmrId=500020040446&crseTracseSe=C0061\n",
      " --------------- url 크롤링 10 ---------------\n",
      "https://www.hrd.go.kr/hrdp/co/pcoco/PCOCO0100P.do?tracseId=AIG20220000366733&tracseTme=1&trainstCstmrId=500020039773&crseTracseSe=C0061\n",
      " --------------- url 크롤링 11 ---------------\n",
      "https://www.hrd.go.kr/hrdp/co/pcoco/PCOCO0100P.do?tracseId=AIG20200000313010&tracseTme=15&trainstCstmrId=500038435553&crseTracseSe=C0061\n",
      " --------------- url 크롤링 12 ---------------\n",
      "https://www.hrd.go.kr/hrdp/co/pcoco/PCOCO0100P.do?tracseId=AIG20210000314416&tracseTme=1&trainstCstmrId=500020037340&crseTracseSe=C0061\n",
      " --------------- url 크롤링 13 ---------------\n",
      "https://www.hrd.go.kr/hrdp/co/pcoco/PCOCO0100P.do?tracseId=AIG20210000313612&tracseTme=6&trainstCstmrId=500020026366&crseTracseSe=C0061\n",
      " --------------- url 크롤링 14 ---------------\n",
      "https://www.hrd.go.kr/hrdp/co/pcoco/PCOCO0100P.do?tracseId=AIG20220000366739&tracseTme=6&trainstCstmrId=500020055899&crseTracseSe=C0061\n",
      " --------------- url 크롤링 15 ---------------\n",
      "https://www.hrd.go.kr/hrdp/co/pcoco/PCOCO0100P.do?tracseId=AIG20210000328538&tracseTme=3&trainstCstmrId=500020013381&crseTracseSe=C0061\n",
      " --------------- url 크롤링 16 ---------------\n",
      "https://www.hrd.go.kr/hrdp/co/pcoco/PCOCO0100P.do?tracseId=AIG20220000366703&tracseTme=2&trainstCstmrId=500020022702&crseTracseSe=C0061\n",
      " --------------- url 크롤링 17 ---------------\n",
      "https://www.hrd.go.kr/hrdp/co/pcoco/PCOCO0100P.do?tracseId=AIG20220000366826&tracseTme=1&trainstCstmrId=500020050681&crseTracseSe=C0061\n",
      " --------------- url 크롤링 18 ---------------\n",
      "https://www.hrd.go.kr/hrdp/co/pcoco/PCOCO0100P.do?tracseId=AIG20210000313564&tracseTme=4&trainstCstmrId=500020013381&crseTracseSe=C0061\n",
      " --------------- url 크롤링 19 ---------------\n",
      "https://www.hrd.go.kr/hrdp/co/pcoco/PCOCO0100P.do?tracseId=AIG20220000366724&tracseTme=2&trainstCstmrId=500020033667&crseTracseSe=C0061\n",
      " --------------- url 크롤링 20 ---------------\n",
      "https://www.hrd.go.kr/hrdp/co/pcoco/PCOCO0100P.do?tracseId=AIG20210000328552&tracseTme=2&trainstCstmrId=500020041301&crseTracseSe=C0061\n",
      " --------------- url 크롤링 21 ---------------\n",
      "https://www.hrd.go.kr/hrdp/co/pcoco/PCOCO0100P.do?tracseId=AIG20210000314451&tracseTme=2&trainstCstmrId=500020039927&crseTracseSe=C0061\n",
      " --------------- url 크롤링 22 ---------------\n",
      "https://www.hrd.go.kr/hrdp/co/pcoco/PCOCO0100P.do?tracseId=AIG20210000313585&tracseTme=6&trainstCstmrId=500020061827&crseTracseSe=C0061\n",
      " --------------- url 크롤링 23 ---------------\n",
      "https://www.hrd.go.kr/hrdp/co/pcoco/PCOCO0100P.do?tracseId=AIG20210000314452&tracseTme=2&trainstCstmrId=500020039927&crseTracseSe=C0061\n",
      " --------------- url 크롤링 24 ---------------\n",
      "https://www.hrd.go.kr/hrdp/co/pcoco/PCOCO0100P.do?tracseId=AIG20210000329032&tracseTme=10&trainstCstmrId=500037517077&crseTracseSe=C0061\n",
      " --------------- url 크롤링 25 ---------------\n",
      "https://www.hrd.go.kr/hrdp/co/pcoco/PCOCO0100P.do?tracseId=AIG20210000314453&tracseTme=2&trainstCstmrId=500020039927&crseTracseSe=C0061\n",
      " --------------- url 크롤링 26 ---------------\n",
      "https://www.hrd.go.kr/hrdp/co/pcoco/PCOCO0100P.do?tracseId=AIG20210000314431&tracseTme=2&trainstCstmrId=500020039927&crseTracseSe=C0061\n",
      " --------------- url 크롤링 27 ---------------\n",
      "https://www.hrd.go.kr/hrdp/co/pcoco/PCOCO0100P.do?tracseId=AIG20220000366801&tracseTme=1&trainstCstmrId=500038924656&crseTracseSe=C0061\n",
      " --------------- url 크롤링 28 ---------------\n",
      "https://www.hrd.go.kr/hrdp/co/pcoco/PCOCO0100P.do?tracseId=AIG20200000286666&tracseTme=9&trainstCstmrId=500020034331&crseTracseSe=C0061\n",
      " --------------- url 크롤링 29 ---------------\n",
      "https://www.hrd.go.kr/hrdp/co/pcoco/PCOCO0100P.do?tracseId=AIG20210000328738&tracseTme=2&trainstCstmrId=500020027548&crseTracseSe=C0061\n",
      " --------------- url 크롤링 30 ---------------\n",
      "https://www.hrd.go.kr/hrdp/co/pcoco/PCOCO0100P.do?tracseId=AIG20210000314439&tracseTme=2&trainstCstmrId=500020039927&crseTracseSe=C0061\n",
      " --------------- url 크롤링 31 ---------------\n",
      "https://www.hrd.go.kr/hrdp/co/pcoco/PCOCO0100P.do?tracseId=AIG20210000314434&tracseTme=2&trainstCstmrId=500020039927&crseTracseSe=C0061\n",
      " --------------- url 크롤링 32 ---------------\n",
      "https://www.hrd.go.kr/hrdp/co/pcoco/PCOCO0100P.do?tracseId=AIG20220000366785&tracseTme=2&trainstCstmrId=500020028075&crseTracseSe=C0061\n",
      " --------------- url 크롤링 33 ---------------\n",
      "https://www.hrd.go.kr/hrdp/co/pcoco/PCOCO0100P.do?tracseId=AIG20200000286675&tracseTme=8&trainstCstmrId=500020013370&crseTracseSe=C0061\n",
      " --------------- url 크롤링 34 ---------------\n",
      "https://www.hrd.go.kr/hrdp/co/pcoco/PCOCO0100P.do?tracseId=AIG20210000314450&tracseTme=2&trainstCstmrId=500020039927&crseTracseSe=C0061\n",
      " --------------- url 크롤링 35 ---------------\n",
      "https://www.hrd.go.kr/hrdp/co/pcoco/PCOCO0100P.do?tracseId=AIG20220000366697&tracseTme=1&trainstCstmrId=500020020284&crseTracseSe=C0061\n",
      " --------------- url 크롤링 36 ---------------\n",
      "https://www.hrd.go.kr/hrdp/co/pcoco/PCOCO0100P.do?tracseId=AIG20220000366736&tracseTme=3&trainstCstmrId=500020037340&crseTracseSe=C0061\n",
      " --------------- url 크롤링 37 ---------------\n",
      "https://www.hrd.go.kr/hrdp/co/pcoco/PCOCO0100P.do?tracseId=AIG20210000328968&tracseTme=4&trainstCstmrId=500020054508&crseTracseSe=C0061\n",
      " --------------- url 크롤링 38 ---------------\n",
      "https://www.hrd.go.kr/hrdp/co/pcoco/PCOCO0100P.do?tracseId=AIG20200000286592&tracseTme=10&trainstCstmrId=500020026366&crseTracseSe=C0061\n",
      " --------------- url 크롤링 39 ---------------\n",
      "https://www.hrd.go.kr/hrdp/co/pcoco/PCOCO0100P.do?tracseId=AIG20210000313598&tracseTme=2&trainstCstmrId=500020037340&crseTracseSe=C0061\n",
      " --------------- url 크롤링 40 ---------------\n",
      "https://www.hrd.go.kr/hrdp/co/pcoco/PCOCO0100P.do?tracseId=AIG20200000286531&tracseTme=6&trainstCstmrId=500020050017&crseTracseSe=C0061\n",
      " --------------- url 크롤링 41 ---------------\n",
      "https://www.hrd.go.kr/hrdp/co/pcoco/PCOCO0100P.do?tracseId=AIG20200000286692&tracseTme=7&trainstCstmrId=500020031484&crseTracseSe=C0061\n",
      " --------------- url 크롤링 42 ---------------\n",
      "https://www.hrd.go.kr/hrdp/co/pcoco/PCOCO0100P.do?tracseId=AIG20210000313590&tracseTme=3&trainstCstmrId=500020045461&crseTracseSe=C0061\n",
      " --------------- url 크롤링 43 ---------------\n",
      "https://www.hrd.go.kr/hrdp/co/pcoco/PCOCO0100P.do?tracseId=AIG20220000366896&tracseTme=3&trainstCstmrId=500020046871&crseTracseSe=C0061\n",
      " --------------- url 크롤링 44 ---------------\n",
      "https://www.hrd.go.kr/hrdp/co/pcoco/PCOCO0100P.do?tracseId=AIG20220000366827&tracseTme=2&trainstCstmrId=500020013370&crseTracseSe=C0061\n",
      " --------------- url 크롤링 45 ---------------\n",
      "https://www.hrd.go.kr/hrdp/co/pcoco/PCOCO0100P.do?tracseId=AIG20210000313600&tracseTme=2&trainstCstmrId=500020017427&crseTracseSe=C0061\n",
      " --------------- url 크롤링 46 ---------------\n",
      "https://www.hrd.go.kr/hrdp/co/pcoco/PCOCO0100P.do?tracseId=AIG20210000328737&tracseTme=6&trainstCstmrId=500020028586&crseTracseSe=C0061\n",
      " --------------- url 크롤링 47 ---------------\n",
      "https://www.hrd.go.kr/hrdp/co/pcoco/PCOCO0100P.do?tracseId=AIG20220000366816&tracseTme=2&trainstCstmrId=500020028586&crseTracseSe=C0061\n",
      " --------------- url 크롤링 48 ---------------\n",
      "https://www.hrd.go.kr/hrdp/co/pcoco/PCOCO0100P.do?tracseId=AIG20210000328964&tracseTme=2&trainstCstmrId=500034680385&crseTracseSe=C0061\n",
      " --------------- url 크롤링 49 ---------------\n",
      "https://www.hrd.go.kr/hrdp/co/pcoco/PCOCO0100P.do?tracseId=AIG20210000328828&tracseTme=5&trainstCstmrId=500020028586&crseTracseSe=C0061\n",
      " --------------- url 크롤링 50 ---------------\n",
      "https://www.hrd.go.kr/hrdp/co/pcoco/PCOCO0100P.do?tracseId=AIG20220000366700&tracseTme=4&trainstCstmrId=500020054900&crseTracseSe=C0061\n"
     ]
    },
    {
     "name": "stdout",
     "output_type": "stream",
     "text": [
      " --------------- url 크롤링 51 ---------------\n",
      "https://www.hrd.go.kr/hrdp/co/pcoco/PCOCO0100P.do?tracseId=AIG20210000328823&tracseTme=2&trainstCstmrId=500020034331&crseTracseSe=C0061\n",
      " --------------- url 크롤링 52 ---------------\n",
      "https://www.hrd.go.kr/hrdp/co/pcoco/PCOCO0100P.do?tracseId=AIG20210000328590&tracseTme=5&trainstCstmrId=500020046871&crseTracseSe=C0061\n",
      " --------------- url 크롤링 53 ---------------\n",
      "https://www.hrd.go.kr/hrdp/co/pcoco/PCOCO0100P.do?tracseId=AIG20220000366913&tracseTme=2&trainstCstmrId=500020027870&crseTracseSe=C0061\n",
      " --------------- url 크롤링 54 ---------------\n",
      "https://www.hrd.go.kr/hrdp/co/pcoco/PCOCO0100P.do?tracseId=AIG20220000366708&tracseTme=1&trainstCstmrId=500036075789&crseTracseSe=C0061\n",
      " --------------- url 크롤링 55 ---------------\n",
      "https://www.hrd.go.kr/hrdp/co/pcoco/PCOCO0100P.do?tracseId=AIG20220000366843&tracseTme=2&trainstCstmrId=500034091717&crseTracseSe=C0061\n",
      " --------------- url 크롤링 56 ---------------\n",
      "https://www.hrd.go.kr/hrdp/co/pcoco/PCOCO0100P.do?tracseId=AIG20210000328847&tracseTme=2&trainstCstmrId=500020051277&crseTracseSe=C0061\n",
      " --------------- url 크롤링 57 ---------------\n",
      "https://www.hrd.go.kr/hrdp/co/pcoco/PCOCO0100P.do?tracseId=AIG20220000366679&tracseTme=1&trainstCstmrId=500020044993&crseTracseSe=C0061\n",
      " --------------- url 크롤링 58 ---------------\n",
      "https://www.hrd.go.kr/hrdp/co/pcoco/PCOCO0100P.do?tracseId=AIG20220000366725&tracseTme=1&trainstCstmrId=500020054642&crseTracseSe=C0061\n",
      " --------------- url 크롤링 59 ---------------\n",
      "https://www.hrd.go.kr/hrdp/co/pcoco/PCOCO0100P.do?tracseId=AIG20200000288887&tracseTme=3&trainstCstmrId=500020015858&crseTracseSe=C0061\n",
      " --------------- url 크롤링 60 ---------------\n",
      "https://www.hrd.go.kr/hrdp/co/pcoco/PCOCO0100P.do?tracseId=AIG20210000328867&tracseTme=2&trainstCstmrId=500020052550&crseTracseSe=C0061\n",
      " --------------- url 크롤링 61 ---------------\n",
      "https://www.hrd.go.kr/hrdp/co/pcoco/PCOCO0100P.do?tracseId=AIG20220000366720&tracseTme=3&trainstCstmrId=500038435553&crseTracseSe=C0061\n",
      " --------------- url 크롤링 62 ---------------\n",
      "https://www.hrd.go.kr/hrdp/co/pcoco/PCOCO0100P.do?tracseId=AIG20220000366721&tracseTme=3&trainstCstmrId=500038435553&crseTracseSe=C0061\n",
      " --------------- url 크롤링 63 ---------------\n",
      "https://www.hrd.go.kr/hrdp/co/pcoco/PCOCO0100P.do?tracseId=AIG20210000313628&tracseTme=1&trainstCstmrId=500020060019&crseTracseSe=C0061\n",
      " --------------- url 크롤링 64 ---------------\n",
      "https://www.hrd.go.kr/hrdp/co/pcoco/PCOCO0100P.do?tracseId=AIG20210000314466&tracseTme=21&trainstCstmrId=500020039927&crseTracseSe=C0061\n",
      " --------------- url 크롤링 65 ---------------\n",
      "https://www.hrd.go.kr/hrdp/co/pcoco/PCOCO0100P.do?tracseId=AIG20210000313678&tracseTme=6&trainstCstmrId=500033945638&crseTracseSe=C0061\n",
      " --------------- url 크롤링 66 ---------------\n",
      "https://www.hrd.go.kr/hrdp/co/pcoco/PCOCO0100P.do?tracseId=AIG20210000313674&tracseTme=4&trainstCstmrId=500033945638&crseTracseSe=C0061\n",
      " --------------- url 크롤링 67 ---------------\n",
      "https://www.hrd.go.kr/hrdp/co/pcoco/PCOCO0100P.do?tracseId=AIG20210000328571&tracseTme=7&trainstCstmrId=500038435553&crseTracseSe=C0061\n",
      " --------------- url 크롤링 68 ---------------\n",
      "https://www.hrd.go.kr/hrdp/co/pcoco/PCOCO0100P.do?tracseId=AIG20210000314472&tracseTme=18&trainstCstmrId=500037143258&crseTracseSe=C0061\n",
      " --------------- url 크롤링 69 ---------------\n",
      "https://www.hrd.go.kr/hrdp/co/pcoco/PCOCO0100P.do?tracseId=AIG20200000286644&tracseTme=8&trainstCstmrId=500020016923&crseTracseSe=C0061\n",
      " --------------- url 크롤링 70 ---------------\n",
      "https://www.hrd.go.kr/hrdp/co/pcoco/PCOCO0100P.do?tracseId=AIG20220000366768&tracseTme=1&trainstCstmrId=500037119429&crseTracseSe=C0061\n",
      " --------------- url 크롤링 71 ---------------\n",
      "https://www.hrd.go.kr/hrdp/co/pcoco/PCOCO0100P.do?tracseId=AIG20200000286562&tracseTme=5&trainstCstmrId=500020043926&crseTracseSe=C0061\n",
      " --------------- url 크롤링 72 ---------------\n",
      "https://www.hrd.go.kr/hrdp/co/pcoco/PCOCO0100P.do?tracseId=AIG20220000366894&tracseTme=1&trainstCstmrId=500020037783&crseTracseSe=C0061\n",
      " --------------- url 크롤링 73 ---------------\n",
      "https://www.hrd.go.kr/hrdp/co/pcoco/PCOCO0100P.do?tracseId=AIG20210000328539&tracseTme=1&trainstCstmrId=500020018492&crseTracseSe=C0061\n",
      " --------------- url 크롤링 74 ---------------\n",
      "https://www.hrd.go.kr/hrdp/co/pcoco/PCOCO0100P.do?tracseId=AIG20210000314432&tracseTme=2&trainstCstmrId=500020063021&crseTracseSe=C0061\n",
      " --------------- url 크롤링 75 ---------------\n",
      "https://www.hrd.go.kr/hrdp/co/pcoco/PCOCO0100P.do?tracseId=AIG20220000366772&tracseTme=3&trainstCstmrId=500020061830&crseTracseSe=C0061\n",
      " --------------- url 크롤링 76 ---------------\n",
      "https://www.hrd.go.kr/hrdp/co/pcoco/PCOCO0100P.do?tracseId=AIG20210000328918&tracseTme=3&trainstCstmrId=500020059960&crseTracseSe=C0061\n",
      " --------------- url 크롤링 77 ---------------\n",
      "https://www.hrd.go.kr/hrdp/co/pcoco/PCOCO0100P.do?tracseId=AIG20210000313571&tracseTme=3&trainstCstmrId=500020050017&crseTracseSe=C0061\n",
      " --------------- url 크롤링 78 ---------------\n",
      "https://www.hrd.go.kr/hrdp/co/pcoco/PCOCO0100P.do?tracseId=AIG20200000286565&tracseTme=2&trainstCstmrId=500020018517&crseTracseSe=C0061\n",
      " --------------- url 크롤링 79 ---------------\n",
      "https://www.hrd.go.kr/hrdp/co/pcoco/PCOCO0100P.do?tracseId=AIG20220000366829&tracseTme=1&trainstCstmrId=500020016713&crseTracseSe=C0061\n",
      " --------------- url 크롤링 80 ---------------\n",
      "https://www.hrd.go.kr/hrdp/co/pcoco/PCOCO0100P.do?tracseId=AIG20210000328599&tracseTme=2&trainstCstmrId=500020021390&crseTracseSe=C0061\n",
      " --------------- url 크롤링 81 ---------------\n",
      "https://www.hrd.go.kr/hrdp/co/pcoco/PCOCO0100P.do?tracseId=AIG20200000286525&tracseTme=8&trainstCstmrId=500020019775&crseTracseSe=C0061\n",
      " --------------- url 크롤링 82 ---------------\n",
      "https://www.hrd.go.kr/hrdp/co/pcoco/PCOCO0100P.do?tracseId=AIG20210000328824&tracseTme=2&trainstCstmrId=500020034331&crseTracseSe=C0061\n",
      " --------------- url 크롤링 83 ---------------\n",
      "https://www.hrd.go.kr/hrdp/co/pcoco/PCOCO0100P.do?tracseId=AIG20210000350106&tracseTme=3&trainstCstmrId=500039286716&crseTracseSe=C0061\n",
      " --------------- url 크롤링 84 ---------------\n",
      "https://www.hrd.go.kr/hrdp/co/pcoco/PCOCO0100P.do?tracseId=AIG20220000366914&tracseTme=2&trainstCstmrId=500020016646&crseTracseSe=C0061\n",
      " --------------- url 크롤링 85 ---------------\n",
      "https://www.hrd.go.kr/hrdp/co/pcoco/PCOCO0100P.do?tracseId=AIG20210000328928&tracseTme=3&trainstCstmrId=500020019775&crseTracseSe=C0061\n",
      " --------------- url 크롤링 86 ---------------\n",
      "https://www.hrd.go.kr/hrdp/co/pcoco/PCOCO0100P.do?tracseId=AIG20210000313603&tracseTme=5&trainstCstmrId=500020028748&crseTracseSe=C0061\n",
      " --------------- url 크롤링 87 ---------------\n",
      "https://www.hrd.go.kr/hrdp/co/pcoco/PCOCO0100P.do?tracseId=AIG20200000286602&tracseTme=12&trainstCstmrId=500020018050&crseTracseSe=C0061\n",
      " --------------- url 크롤링 88 ---------------\n",
      "https://www.hrd.go.kr/hrdp/co/pcoco/PCOCO0100P.do?tracseId=AIG20210000328598&tracseTme=3&trainstCstmrId=500034122761&crseTracseSe=C0061\n",
      " --------------- url 크롤링 89 ---------------\n",
      "https://www.hrd.go.kr/hrdp/co/pcoco/PCOCO0100P.do?tracseId=AIG20210000328553&tracseTme=3&trainstCstmrId=500020041301&crseTracseSe=C0061\n",
      " --------------- url 크롤링 90 ---------------\n",
      "https://www.hrd.go.kr/hrdp/co/pcoco/PCOCO0100P.do?tracseId=AIG20220000366877&tracseTme=1&trainstCstmrId=500020027548&crseTracseSe=C0061\n",
      " --------------- url 크롤링 91 ---------------\n",
      "https://www.hrd.go.kr/hrdp/co/pcoco/PCOCO0100P.do?tracseId=AIG20210000314412&tracseTme=7&trainstCstmrId=500020026366&crseTracseSe=C0061\n",
      " --------------- url 크롤링 92 ---------------\n",
      "https://www.hrd.go.kr/hrdp/co/pcoco/PCOCO0100P.do?tracseId=AIG20210000328686&tracseTme=4&trainstCstmrId=500020026366&crseTracseSe=C0061\n",
      " --------------- url 크롤링 93 ---------------\n",
      "https://www.hrd.go.kr/hrdp/co/pcoco/PCOCO0100P.do?tracseId=AIG20210000313623&tracseTme=4&trainstCstmrId=500020062854&crseTracseSe=C0061\n",
      " --------------- url 크롤링 94 ---------------\n",
      "https://www.hrd.go.kr/hrdp/co/pcoco/PCOCO0100P.do?tracseId=AIG20220000366761&tracseTme=1&trainstCstmrId=500020014651&crseTracseSe=C0061\n",
      " --------------- url 크롤링 95 ---------------\n",
      "https://www.hrd.go.kr/hrdp/co/pcoco/PCOCO0100P.do?tracseId=AIG20210000328555&tracseTme=4&trainstCstmrId=500020062854&crseTracseSe=C0061\n",
      " --------------- url 크롤링 96 ---------------\n",
      "https://www.hrd.go.kr/hrdp/co/pcoco/PCOCO0100P.do?tracseId=AIG20220000366757&tracseTme=1&trainstCstmrId=500020016734&crseTracseSe=C0061\n",
      " --------------- url 크롤링 97 ---------------\n",
      "https://www.hrd.go.kr/hrdp/co/pcoco/PCOCO0100P.do?tracseId=AIG20210000328926&tracseTme=2&trainstCstmrId=500020034888&crseTracseSe=C0061\n",
      " --------------- url 크롤링 98 ---------------\n",
      "https://www.hrd.go.kr/hrdp/co/pcoco/PCOCO0100P.do?tracseId=AIG20210000328731&tracseTme=6&trainstCstmrId=500020038200&crseTracseSe=C0061\n",
      " --------------- url 크롤링 99 ---------------\n",
      "https://www.hrd.go.kr/hrdp/co/pcoco/PCOCO0100P.do?tracseId=AIG20200000286574&tracseTme=2&trainstCstmrId=500020041301&crseTracseSe=C0061\n",
      " --------------- url 크롤링 100 ---------------\n",
      "https://www.hrd.go.kr/hrdp/co/pcoco/PCOCO0100P.do?tracseId=AIG20210000328542&tracseTme=6&trainstCstmrId=500020049185&crseTracseSe=C0061\n"
     ]
    },
    {
     "name": "stdout",
     "output_type": "stream",
     "text": [
      " --------------- url 크롤링 101 ---------------\n",
      "https://www.hrd.go.kr/hrdp/co/pcoco/PCOCO0100P.do?tracseId=AIG20220000366763&tracseTme=1&trainstCstmrId=500020024317&crseTracseSe=C0061\n",
      " --------------- url 크롤링 102 ---------------\n",
      "https://www.hrd.go.kr/hrdp/co/pcoco/PCOCO0100P.do?tracseId=AIG20200000286611&tracseTme=10&trainstCstmrId=500020049185&crseTracseSe=C0061\n",
      " --------------- url 크롤링 103 ---------------\n",
      "https://www.hrd.go.kr/hrdp/co/pcoco/PCOCO0100P.do?tracseId=AIG20220000366818&tracseTme=1&trainstCstmrId=500020045827&crseTracseSe=C0061\n",
      " --------------- url 크롤링 104 ---------------\n",
      "https://www.hrd.go.kr/hrdp/co/pcoco/PCOCO0100P.do?tracseId=AIG20210000313688&tracseTme=3&trainstCstmrId=500033945638&crseTracseSe=C0061\n",
      " --------------- url 크롤링 105 ---------------\n",
      "https://www.hrd.go.kr/hrdp/co/pcoco/PCOCO0100P.do?tracseId=AIG20210000314444&tracseTme=3&trainstCstmrId=500020049185&crseTracseSe=C0061\n",
      " --------------- url 크롤링 106 ---------------\n",
      "https://www.hrd.go.kr/hrdp/co/pcoco/PCOCO0100P.do?tracseId=AIG20210000313687&tracseTme=3&trainstCstmrId=500033945638&crseTracseSe=C0061\n",
      " --------------- url 크롤링 107 ---------------\n",
      "https://www.hrd.go.kr/hrdp/co/pcoco/PCOCO0100P.do?tracseId=AIG20210000328557&tracseTme=7&trainstCstmrId=500038435553&crseTracseSe=C0061\n",
      " --------------- url 크롤링 108 ---------------\n",
      "https://www.hrd.go.kr/hrdp/co/pcoco/PCOCO0100P.do?tracseId=AIG20220000366735&tracseTme=1&trainstCstmrId=500020016875&crseTracseSe=C0061\n",
      " --------------- url 크롤링 109 ---------------\n",
      "https://www.hrd.go.kr/hrdp/co/pcoco/PCOCO0100P.do?tracseId=AIG20220000366692&tracseTme=2&trainstCstmrId=500020025371&crseTracseSe=C0061\n",
      " --------------- url 크롤링 110 ---------------\n",
      "https://www.hrd.go.kr/hrdp/co/pcoco/PCOCO0100P.do?tracseId=AIG20210000313580&tracseTme=6&trainstCstmrId=500020031803&crseTracseSe=C0061\n",
      " --------------- url 크롤링 111 ---------------\n",
      "https://www.hrd.go.kr/hrdp/co/pcoco/PCOCO0100P.do?tracseId=AIG20200000288889&tracseTme=7&trainstCstmrId=500036172479&crseTracseSe=C0061\n",
      " --------------- url 크롤링 112 ---------------\n",
      "https://www.hrd.go.kr/hrdp/co/pcoco/PCOCO0100P.do?tracseId=AIG20220000366918&tracseTme=3&trainstCstmrId=500020060638&crseTracseSe=C0061\n",
      " --------------- url 크롤링 113 ---------------\n",
      "https://www.hrd.go.kr/hrdp/co/pcoco/PCOCO0100P.do?tracseId=AIG20210000328550&tracseTme=5&trainstCstmrId=500020027783&crseTracseSe=C0061\n",
      " --------------- url 크롤링 114 ---------------\n",
      "https://www.hrd.go.kr/hrdp/co/pcoco/PCOCO0100P.do?tracseId=AIG20200000286536&tracseTme=3&trainstCstmrId=500020018492&crseTracseSe=C0061\n",
      " --------------- url 크롤링 115 ---------------\n",
      "https://www.hrd.go.kr/hrdp/co/pcoco/PCOCO0100P.do?tracseId=AIG20200000286586&tracseTme=2&trainstCstmrId=500020063021&crseTracseSe=C0061\n",
      " --------------- url 크롤링 116 ---------------\n",
      "https://www.hrd.go.kr/hrdp/co/pcoco/PCOCO0100P.do?tracseId=AIG20210000314433&tracseTme=3&trainstCstmrId=500020063021&crseTracseSe=C0061\n",
      " --------------- url 크롤링 117 ---------------\n",
      "https://www.hrd.go.kr/hrdp/co/pcoco/PCOCO0100P.do?tracseId=AIG20210000314454&tracseTme=3&trainstCstmrId=500020063021&crseTracseSe=C0061\n",
      " --------------- url 크롤링 118 ---------------\n",
      "https://www.hrd.go.kr/hrdp/co/pcoco/PCOCO0100P.do?tracseId=AIG20220000366825&tracseTme=2&trainstCstmrId=500020050800&crseTracseSe=C0061\n",
      " --------------- url 크롤링 119 ---------------\n",
      "https://www.hrd.go.kr/hrdp/co/pcoco/PCOCO0100P.do?tracseId=AIG20220000366804&tracseTme=2&trainstCstmrId=500020048633&crseTracseSe=C0061\n",
      " --------------- url 크롤링 120 ---------------\n",
      "https://www.hrd.go.kr/hrdp/co/pcoco/PCOCO0100P.do?tracseId=AIG20210000320927&tracseTme=4&trainstCstmrId=500020019318&crseTracseSe=C0061\n",
      " --------------- url 크롤링 121 ---------------\n",
      "https://www.hrd.go.kr/hrdp/co/pcoco/PCOCO0100P.do?tracseId=AIG20220000366723&tracseTme=1&trainstCstmrId=500020033667&crseTracseSe=C0061\n",
      " --------------- url 크롤링 122 ---------------\n",
      "https://www.hrd.go.kr/hrdp/co/pcoco/PCOCO0100P.do?tracseId=AIG20210000320474&tracseTme=4&trainstCstmrId=500020019318&crseTracseSe=C0061\n",
      " --------------- url 크롤링 123 ---------------\n",
      "https://www.hrd.go.kr/hrdp/co/pcoco/PCOCO0100P.do?tracseId=AIG20210000320882&tracseTme=4&trainstCstmrId=500020019318&crseTracseSe=C0061\n",
      " --------------- url 크롤링 124 ---------------\n",
      "https://www.hrd.go.kr/hrdp/co/pcoco/PCOCO0100P.do?tracseId=AIG20210000320939&tracseTme=4&trainstCstmrId=500020019318&crseTracseSe=C0061\n",
      " --------------- url 크롤링 125 ---------------\n",
      "https://www.hrd.go.kr/hrdp/co/pcoco/PCOCO0100P.do?tracseId=AIG20210000328760&tracseTme=2&trainstCstmrId=500033820700&crseTracseSe=C0061\n",
      " --------------- url 크롤링 126 ---------------\n",
      "https://www.hrd.go.kr/hrdp/co/pcoco/PCOCO0100P.do?tracseId=AIG20210000328853&tracseTme=3&trainstCstmrId=500034091717&crseTracseSe=C0061\n",
      " --------------- url 크롤링 127 ---------------\n",
      "https://www.hrd.go.kr/hrdp/co/pcoco/PCOCO0100P.do?tracseId=AIG20220000366784&tracseTme=1&trainstCstmrId=500020045827&crseTracseSe=C0061\n",
      " --------------- url 크롤링 128 ---------------\n",
      "https://www.hrd.go.kr/hrdp/co/pcoco/PCOCO0100P.do?tracseId=AIG20220000366688&tracseTme=1&trainstCstmrId=500020034891&crseTracseSe=C0061\n",
      " --------------- url 크롤링 129 ---------------\n",
      "https://www.hrd.go.kr/hrdp/co/pcoco/PCOCO0100P.do?tracseId=AIG20210000313664&tracseTme=3&trainstCstmrId=500020049409&crseTracseSe=C0061\n",
      " --------------- url 크롤링 130 ---------------\n",
      "https://www.hrd.go.kr/hrdp/co/pcoco/PCOCO0100P.do?tracseId=AIG20220000366862&tracseTme=1&trainstCstmrId=500020033277&crseTracseSe=C0061\n",
      " --------------- url 크롤링 131 ---------------\n",
      "https://www.hrd.go.kr/hrdp/co/pcoco/PCOCO0100P.do?tracseId=AIG20220000366853&tracseTme=2&trainstCstmrId=500020028748&crseTracseSe=C0061\n",
      " --------------- url 크롤링 132 ---------------\n",
      "https://www.hrd.go.kr/hrdp/co/pcoco/PCOCO0100P.do?tracseId=AIG20200000286642&tracseTme=3&trainstCstmrId=500020016144&crseTracseSe=C0061\n",
      " --------------- url 크롤링 133 ---------------\n",
      "https://www.hrd.go.kr/hrdp/co/pcoco/PCOCO0100P.do?tracseId=AIG20210000313599&tracseTme=2&trainstCstmrId=500020048147&crseTracseSe=C0061\n",
      " --------------- url 크롤링 134 ---------------\n",
      "https://www.hrd.go.kr/hrdp/co/pcoco/PCOCO0100P.do?tracseId=AIG20220000366722&tracseTme=1&trainstCstmrId=500020031803&crseTracseSe=C0061\n",
      " --------------- url 크롤링 135 ---------------\n",
      "https://www.hrd.go.kr/hrdp/co/pcoco/PCOCO0100P.do?tracseId=AIG20210000314418&tracseTme=3&trainstCstmrId=500020021390&crseTracseSe=C0061\n"
     ]
    }
   ],
   "source": [
    "# https://www.hrd.go.kr/hrdp/co/pcoco/PCOCO0100P.do?tracseId=AIG20220000366733&tracseTme=1&trainstCstmrId=500020039773&crseTracseSe=C0061\n",
    "\n",
    "#https://www.hrd.go.kr/hrdp/co/pcoco/PCOCO0100P.do?tracseId={AIG20220000366733}&tracseTme={1}&trainstCstmrId={500020039773}&crseTracseSe={C0061}\n",
    "\n",
    "count_url = 0\n",
    "\n",
    "# k-디지털 트레이닝 모든 페이지 주소\n",
    "for pageIndex in range(int(end_page)):\n",
    "    kdt_url = f'https://www.hrd.go.kr/hrdp/ti/ptiao/PTIAO0100L.do?pageId=6&bgrlInstYn=undefined&pageIndex={pageIndex+1}&kDgtlYn=undefined&_csrf=6b34cee0-bc6e-4e71-b844-74801e83d22e'\n",
    "    kdt_resp = requests.get(kdt_url)\n",
    "    kdt_soup = BeautifulSoup(kdt_resp.text, \"html.parser\")\n",
    "    \n",
    "    # 차단 방지 시간 딜레이\n",
    "    seed = np.random.randint(100)\n",
    "    np.random.seed(seed)\n",
    "    a = np.random.randint(5)\n",
    "    time.sleep(a)\n",
    "    \n",
    "    for anc in kdt_soup.select('div.title'):\n",
    "        for a in anc.select('a'):\n",
    "            pattern = []\n",
    "            for index, p in enumerate(re.findall(\"'\\w+\\d*'\",a.get('onclick'))):\n",
    "                pattern.append(p.strip(\"'\"))\n",
    "            url = f\"https://www.hrd.go.kr/hrdp/co/pcoco/PCOCO0100P.do?tracseId={pattern[0]}&tracseTme={pattern[1]}&trainstCstmrId={pattern[2]}&crseTracseSe={pattern[3]}\"\n",
    "            count_url += 1\n",
    "            print(f' --------------- url 크롤링 {count_url} ---------------')\n",
    "            print(url)"
   ]
  },
  {
   "cell_type": "code",
   "execution_count": null,
   "id": "8742f205",
   "metadata": {},
   "outputs": [],
   "source": [
    "# https://www.hrd.go.kr/hrdp/co/pcoco/PCOCO0100P.do?tracseId=AIG20220000366733&tracseTme=1&trainstCstmrId=500020039773&crseTracseSe=C0061\n",
    "\n",
    "#https://www.hrd.go.kr/hrdp/co/pcoco/PCOCO0100P.do?tracseId={AIG20220000366733}&tracseTme={1}&trainstCstmrId={500020039773}&crseTracseSe={C0061}\n",
    "\n",
    "count_url = 0\n",
    "\n",
    "# k-디지털 트레이닝 모든 페이지 주소\n",
    "for pageIndex in range(int(end_page)):\n",
    "    kdt_url = f'https://www.hrd.go.kr/hrdp/ti/ptiao/PTIAO0100L.do?pageId=6&bgrlInstYn=undefined&pageIndex={pageIndex+1}&kDgtlYn=undefined&_csrf=6b34cee0-bc6e-4e71-b844-74801e83d22e'\n",
    "    kdt_resp = requests.get(kdt_url)\n",
    "    kdt_soup = BeautifulSoup(kdt_resp.text, \"html.parser\")\n",
    "    \n",
    "    # 차단 방지 시간 딜레이\n",
    "    seed = np.random.randint(100)\n",
    "    np.random.seed(seed)\n",
    "    a = np.random.randint(5)\n",
    "    time.sleep(a)\n",
    "    \n",
    "    for anc in kdt_soup.select('div.title'):\n",
    "        for a in anc.select('a'):\n",
    "            pattern = []\n",
    "            for index, p in enumerate(re.findall(\"'\\w+\\d*'\",a.get('onclick'))):\n",
    "                pattern.append(p.strip(\"'\"))\n",
    "            url = f\"https://www.hrd.go.kr/hrdp/co/pcoco/PCOCO0100P.do?tracseId={pattern[0]}&tracseTme={pattern[1]}&trainstCstmrId={pattern[2]}&crseTracseSe={pattern[3]}\"\n",
    "            count_url += 1\n",
    "            print(f' --------------- url 크롤링 {count_url} 번째 아이템 찾는 중  ---------------')\n",
    "            "
   ]
  },
  {
   "cell_type": "code",
   "execution_count": 377,
   "id": "9d2487fc",
   "metadata": {
    "ExecuteTime": {
     "end_time": "2022-07-31T13:20:09.908047Z",
     "start_time": "2022-07-31T13:19:16.969780Z"
    }
   },
   "outputs": [
    {
     "name": "stdout",
     "output_type": "stream",
     "text": [
      "--------------- 회차별 만족도 ---------------\n",
      "14회차 만족도 수집 완료\n",
      "13회차 만족도 수집 완료\n",
      "12회차 만족도 수집 완료\n",
      "11회차 만족도 수집 완료\n",
      "10회차 만족도 수집 완료\n",
      "9회차 만족도 수집 완료\n",
      "8회차 만족도 수집 완료\n",
      "7회차 만족도 수집 완료\n",
      "6회차 만족도 수집 완료\n",
      "5회차 만족도 수집 완료\n",
      "4회차 만족도 수집 완료\n",
      "3회차 만족도 수집 완료\n",
      "2회차 만족도 수집 완료\n",
      "1회차 만족도 수집 완료\n",
      "--------------- 회차별 훈련기간 ---------------\n",
      "14회차 훈련 시작일, 종료일 수집 완료\n",
      "13회차 훈련 시작일, 종료일 수집 완료\n",
      "12회차 훈련 시작일, 종료일 수집 완료\n",
      "11회차 훈련 시작일, 종료일 수집 완료\n",
      "10회차 훈련 시작일, 종료일 수집 완료\n",
      "9회차 훈련 시작일, 종료일 수집 완료\n",
      "8회차 훈련 시작일, 종료일 수집 완료\n",
      "7회차 훈련 시작일, 종료일 수집 완료\n",
      "6회차 훈련 시작일, 종료일 수집 완료\n",
      "5회차 훈련 시작일, 종료일 수집 완료\n",
      "4회차 훈련 시작일, 종료일 수집 완료\n",
      "3회차 훈련 시작일, 종료일 수집 완료\n",
      "2회차 훈련 시작일, 종료일 수집 완료\n",
      "1회차 훈련 시작일, 종료일 수집 완료\n",
      "--------------- 회차별 모집인원 ---------------\n",
      "14회차 모집인원 수집 완료\n",
      "13회차 모집인원 수집 완료\n",
      "12회차 모집인원 수집 완료\n",
      "11회차 모집인원 수집 완료\n",
      "10회차 : 모집인원 수집 완료\n",
      "9회차 : 모집인원 수집 완료\n",
      "8회차 : 모집인원 수집 완료\n",
      "7회차 : 모집인원 수집 완료\n",
      "6회차 : 모집인원 수집 완료\n",
      "5회차 : 모집인원 수집 완료\n",
      "4회차 : 모집인원 수집 완료\n",
      "3회차 : 모집인원 수집 완료\n",
      "2회차 : 모집인원 수집 완료\n",
      "1회차 : 모집인원 수집 완료\n",
      "취업률 수집 완료\n",
      "취업률 수집 완료\n",
      "취업률 수집 완료\n",
      "취업률 수집 완료\n",
      "취업률 수집 완료\n",
      "취업률 수집 완료\n",
      "취업률 수집 완료\n",
      "취업률 수집 완료\n",
      "취업률 수집 완료\n",
      "취업률 수집 완료\n",
      "--------------- 회차별 수강 [확정,신청] 인원 ---------------\n",
      "---------------- 14 회차 ---------------\n",
      "---------------- 13 회차 ---------------\n",
      "---------------- 12 회차 ---------------\n",
      "---------------- 11 회차 ---------------\n",
      "---------------- 10 회차 ---------------\n",
      "---------------- 9 회차 ---------------\n",
      "---------------- 8 회차 ---------------\n",
      "---------------- 7 회차 ---------------\n",
      "---------------- 6 회차 ---------------\n",
      "---------------- 5 회차 ---------------\n",
      "---------------- 4 회차 ---------------\n",
      "---------------- 3 회차 ---------------\n",
      "---------------- 2 회차 ---------------\n",
      "---------------- 1 회차 ---------------\n",
      "['스마트인재개발원', '스마트인재개발원', '스마트인재개발원', '스마트인재개발원', '스마트인재개발원', '스마트인재개발원', '스마트인재개발원', '스마트인재개발원', '스마트인재개발원', '스마트인재개발원', '스마트인재개발원', '스마트인재개발원', '스마트인재개발원', '스마트인재개발원']\n",
      "size : 14\n",
      "['빅데이터 분석서비스 개발자과정(NCS)모집마감', '빅데이터 분석서비스 개발자과정(NCS)모집마감', '빅데이터 분석서비스 개발자과정(NCS)모집마감', '빅데이터 분석서비스 개발자과정(NCS)모집마감', '빅데이터 분석서비스 개발자과정(NCS)모집마감', '빅데이터 분석서비스 개발자과정(NCS)모집마감', '빅데이터 분석서비스 개발자과정(NCS)모집마감', '빅데이터 분석서비스 개발자과정(NCS)모집마감', '빅데이터 분석서비스 개발자과정(NCS)모집마감', '빅데이터 분석서비스 개발자과정(NCS)모집마감', '빅데이터 분석서비스 개발자과정(NCS)모집마감', '빅데이터 분석서비스 개발자과정(NCS)모집마감', '빅데이터 분석서비스 개발자과정(NCS)모집마감', '빅데이터 분석서비스 개발자과정(NCS)모집마감']\n",
      "size : 14\n",
      "['13,762,240', '13,762,240', '13,762,240', '13,762,240', '13,762,240', '13,762,240', '13,762,240', '13,762,240', '13,762,240', '13,762,240', '13,762,240', '13,762,240', '13,762,240', '13,762,240']\n",
      "size : 14\n",
      "['116일,총928시간', '116일,총928시간', '116일,총928시간', '116일,총928시간', '116일,총928시간', '116일,총928시간', '116일,총928시간', '116일,총928시간', '116일,총928시간', '116일,총928시간', '116일,총928시간', '116일,총928시간', '116일,총928시간', '116일,총928시간']\n",
      "size : 14\n",
      "['응용SW엔지니어링(20010202)', '응용SW엔지니어링(20010202)', '응용SW엔지니어링(20010202)', '응용SW엔지니어링(20010202)', '응용SW엔지니어링(20010202)', '응용SW엔지니어링(20010202)', '응용SW엔지니어링(20010202)', '응용SW엔지니어링(20010202)', '응용SW엔지니어링(20010202)', '응용SW엔지니어링(20010202)', '응용SW엔지니어링(20010202)', '응용SW엔지니어링(20010202)', '응용SW엔지니어링(20010202)', '응용SW엔지니어링(20010202)']\n",
      "size : 14\n"
     ]
    }
   ],
   "source": [
    "# 베이스 url\n",
    "url = 'https://www.hrd.go.kr/hrdp/co/pcobo/PCOBO0100P.do?tracseId=AIG20200000286660&tracseTme=1&crseTracseSe=C0061&trainstCstmrId=500020018488#undefined'\n",
    "resp = requests.get(url)\n",
    "soup = BeautifulSoup(resp.text, 'html.parser')\n",
    "\n",
    "# columns (중복 일부러 하나 둠)\n",
    "orga = []# 기관명\n",
    "cour = []# 과정명\n",
    "seri = [str(s+1) for s in range(len(soup.select('a.tool_tip_btn')))] # 회차\n",
    "seri.reverse()\n",
    "pric = []# 훈련비\n",
    "prev = [] # 회차별 훈련시작 +\n",
    "fini = [] # 회차별 훈련종료 +\n",
    "spen = []# 훈련시간\n",
    "NCS_dist = []# NCS 직무 분류\n",
    "recu = [] # 회차별 모집인원 +\n",
    "conf = [] # 회차별 수강확정인원 +\n",
    "appl = [] # 회차별 수강신청인원 +\n",
    "mean_age = []# 수강생 평균 연령대\n",
    "sati = [] # 회차별 만족도 +\n",
    "empl_rate_3 = [] # 회차별 취업률(3개월) +\n",
    "empl_3 = [] # 회차별 취업인원 (3개월) +\n",
    "comp_3 = [] # 회차별 수료인원 (3개월) +\n",
    "empl_rate_6 = [] # 회차별 취업률(6개월) +\n",
    "empl_6 = [] # 회차별 취업인원 (6개월) +\n",
    "comp_6 = [] # 회차별 수료인원 (6개월) +\n",
    "\n",
    "\n",
    "\n",
    "# 회차별 만족도\n",
    "print('-'*15,'회차별 만족도','-'*15)\n",
    "count = len(soup.select('a.tool_tip_btn')) + 1\n",
    "for i in soup.select('table.view')[2:]:\n",
    "    if i.text.find('훈련진행중') != -1:\n",
    "        count -= 1\n",
    "        sati.append('훈련진행중')\n",
    "        print(f'{count}회차 만족도 수집 완료')\n",
    "    else:\n",
    "        for j in i.select('td'):\n",
    "            tableview = j.text.replace('\\n','').replace('\\t','').strip()\n",
    "            if re.findall('[.\\d]+\\s점',tableview) != []:\n",
    "                count -= 1\n",
    "                sati.append(re.findall('[.\\d]+\\s점',tableview).pop().replace(' 점',''))\n",
    "                print(f\"{count}회차 만족도 수집 완료\")\n",
    "\n",
    "\n",
    "# 회차별 훈련기간\n",
    "print('-'*15,'회차별 훈련기간','-'*15)\n",
    "count = len(soup.select('a.tool_tip_btn')) + 1\n",
    "for series in soup.select('span.con')[17:]:\n",
    "    if series.text.find('~') != -1:\n",
    "        count -= 1\n",
    "        print(f'{count}회차 훈련 시작일, 종료일 수집 완료')\n",
    "        prev.append(series.text.replace('\\n','').replace('\\t','').strip()[:series.text.replace('\\n','').replace('\\t','').strip().find('~')])\n",
    "        fini.append(series.text.replace('\\n','').replace('\\t','').strip()[series.text.replace('\\n','').replace('\\t','').strip().find('~')+1:])\n",
    "#         print(series.text.replace('\\n','').replace('\\t','').strip()[:series.text.replace('\\n','').replace('\\t','').strip().find('~')])\n",
    "#         print(series.text.replace('\\n','').replace('\\t','').strip()[series.text.replace('\\n','').replace('\\t','').strip().find('~')+1:])\n",
    "\n",
    "\n",
    "# 회차별 모집인원\n",
    "print('-'*15,'회차별 모집인원','-'*15)\n",
    "count = len(soup.select('a.tool_tip_btn')) + 1\n",
    "for i in soup.select('table.view')[2:]:\n",
    "    if i.text.find('훈련진행중') != -1:\n",
    "        count -= 1\n",
    "        recu.append('훈련진행중')\n",
    "        print(f'{count}회차 모집인원 수집 완료')\n",
    "    else:\n",
    "        for j in i.select('td'):\n",
    "            if re.findall('\\d+명/',j.text) != []:\n",
    "                count -= 1\n",
    "                recu.append(re.findall('\\d+명/',j.text).pop().replace('명/',''))\n",
    "                print(f\"{count}회차 : 모집인원 수집 완료\")\n",
    "                      \n",
    "# 취업률 (고용보험가입 3개월) 취업인원/수료인원\n",
    "series_count = len(soup.select('a.tool_tip_btn'))\n",
    "# count = len(soup.select('a.tool_tip_btn')) + 1\n",
    "cnt = 0\n",
    "for i in soup.select('table.view'):\n",
    "    if i.text.find('취업률 고용보험가입 3개월') != -1:\n",
    "        for j in i.select('b'):\n",
    "            cnt += 1\n",
    "            if cnt % 3 == 1:\n",
    "                rate_empl = j.text.replace('\\n','').replace('\\t','')\n",
    "                empl_rate_3.append(rate_empl[:rate_empl.find(\"%\")])\n",
    "                empl_3.append(rate_empl[rate_empl.find(\"%\")+2:rate_empl.find(\"/\")])\n",
    "                comp_3.append(rate_empl[rate_empl.find(\"/\")+1:-1])\n",
    "                print('취업률 수집 완료')\n",
    "while len(empl_rate_3) != series_count:\n",
    "    empl_rate_3.insert(0,'훈련진행중')\n",
    "while len(empl_3) != series_count:\n",
    "    empl_3.insert(0,'훈련진행중')\n",
    "while len(comp_3) != series_count:\n",
    "    comp_3.insert(0,'훈련진행중')\n",
    "\n",
    "\n",
    "\n",
    "# 취업률 (고용보험가입 6개월) 취업인원/수료인원\n",
    "series_count = len(soup.select('a.tool_tip_btn'))\n",
    "# count = len(soup.select('a.tool_tip_btn')) + 1\n",
    "cnt = 0\n",
    "for i in soup.select('table.view'):\n",
    "    if i.text.find('취업률 고용보험가입 6개월') != -1:\n",
    "        for j in i.select('b'):\n",
    "            cnt += 1\n",
    "            if cnt % 3 == 2:\n",
    "                rate_empl = j.text.replace('\\n','').replace('\\t','')\n",
    "                empl_rate_6.append(rate_empl[:rate_empl.find(\"%\")])\n",
    "                empl_6.append(rate_empl[rate_empl.find(\"%\")+2:rate_empl.find(\"/\")])\n",
    "                comp_6.append(rate_empl[rate_empl.find(\"/\")+1:-1])\n",
    "                \n",
    "while len(empl_rate_6) != series_count:\n",
    "    empl_rate_6.insert(0,'훈련진행중')\n",
    "while len(empl_6) != series_count:\n",
    "    empl_6.insert(0,'훈련진행중')\n",
    "while len(comp_6) != series_count:\n",
    "    comp_6.insert(0,'훈련진행중')\n",
    "\n",
    "# 회차별 수강확정인원, 수강신청인원\n",
    "print('-'*15,'회차별 수강 [확정,신청] 인원','-'*15)\n",
    "for a in soup.select('table.view'):\n",
    "    for b in a.select('td'):\n",
    "        if b.text.find('수강확정인원') != -1:\n",
    "#             print(re.findall('\\d+',b.text))\n",
    "            conf.append(re.findall('\\d+',b.text)[0])\n",
    "            appl.append(re.findall('\\d+',b.text)[1])\n",
    "\n",
    "count = len(soup.select('a.tool_tip_btn')) + 1\n",
    "    \n",
    "for patterns in soup.select('a.tool_tip_btn'):\n",
    "    series_url = f'https://www.hrd.go.kr/hrdp/co/pcobo/PCOBO0100P.do?tracseId=AIG20200000286660&tracseTme={index+1}&crseTracseSe=C0061&trainstCstmrId=500020018488#undefined'\n",
    "    resp_series = requests.get(series_url)\n",
    "    soup_series = BeautifulSoup(resp_series.text, \"html.parser\")\n",
    "\n",
    "    count -= 1\n",
    "    print(f'---------------- {count} 회차 ---------------')\n",
    "    \n",
    "    # 차단 방지 시간 딜레이\n",
    "    seed = np.random.randint(100)\n",
    "    np.random.seed(seed)\n",
    "    a = np.random.randint(5)\n",
    "    time.sleep(a)\n",
    "    \n",
    "    # 기관명\n",
    "    for organ in soup_series.select('p.add'):\n",
    "        orga.append(organ.text.strip())\n",
    "\n",
    "    # 과정명\n",
    "    for course in soup_series.select('h4.tit'):\n",
    "#         print(course.text.replace('\\n','').replace('\\t',''))\n",
    "        cour.append(course.text.replace('\\n','').replace('\\t',''))\n",
    "    \n",
    "    # 훈련비\n",
    "    pric.append(soup.select('p.price')[0].text[:soup.select('p.price')[0].text.find(' 원')].replace('\\n', '').replace('\\t', ''))\n",
    "#     for price in soup_series.select('p.price'):\n",
    "#         print(price.text.strip().replace('\\n','')[:price.text.find('원')].strip().replace('\\t',''))\n",
    "#         pric.append(price.text.strip().replace('\\n','')[:price.text.find('원')].strip().replace('\\t',''))\n",
    "\n",
    "    # 훈련시간\n",
    "    for i in soup.select('span.con'):\n",
    "        if i.text.find('일') != -1:\n",
    "#             print(i.text.replace('\\n','').replace('\\t',''))\n",
    "            spen.append(i.text.replace('\\n,','').replace('\\t','').strip().replace('\\n',''))\n",
    "    # NCS 자격분류\n",
    "    for NCS in soup_series.select('span.con'):\n",
    "        if re.findall('\\d{6,}',NCS.text) != []:\n",
    "#             print(re.findall('.+\\d{6,}.',NCS.text).pop().replace('\\t',''))\n",
    "            NCS_dist.append(re.findall('.+\\d{6,}.',NCS.text).pop().replace('\\t',''))\n",
    "    # 수강생 평균나이\n",
    "    for g in soup.select('span.con'):\n",
    "        if g.text.find('세') != -1:\n",
    "#         print(re.findall(\"\\d+\\s세\", g.text).pop().replace(' 세',''))\n",
    "            mean_age.append(re.findall(\"\\d+\\s세\", g.text).pop().replace(' 세',''))\n",
    "\n",
    "print(orga)\n",
    "print(f'size : {len(orga)}')\n",
    "print(cour)\n",
    "print(f'size : {len(cour)}')\n",
    "print(pric)\n",
    "print(f'size : {len(pric)}')\n",
    "print(spen)\n",
    "print(f'size : {len(spen)}')\n",
    "print(NCS_dist)\n",
    "print(f'size : {len(NCS_dist)}')"
   ]
  },
  {
   "cell_type": "code",
   "execution_count": 378,
   "id": "cab0c733",
   "metadata": {
    "ExecuteTime": {
     "end_time": "2022-07-31T13:20:55.699971Z",
     "start_time": "2022-07-31T13:20:55.695491Z"
    }
   },
   "outputs": [],
   "source": [
    "li_list =[orga,cour,seri,pric,prev,fini,spen,NCS_dist,recu,conf,appl,mean_age,sati,empl_rate_3,empl_3,comp_3,empl_rate_6,empl_6]\n",
    "\n",
    "col = ['기관명', '과정명', '회차', '훈련비', '훈련시작일', '훈련종료일', \n",
    "       '훈련시간', 'NCS 직무분류', '모집인원', '수강확정인원', '수강신청인원', \n",
    "       '수강생 평균 연령대(세)', '수강생 만족도', '취업률 고용보험가입 3개월', \n",
    "       '취업인원(3개월)', '수료인원','취업률 고용보험가입 6개월', '취업인원(6개월)']\n",
    "\n",
    "df = pd.DataFrame(columns = col)"
   ]
  },
  {
   "cell_type": "code",
   "execution_count": null,
   "id": "6b53815c",
   "metadata": {},
   "outputs": [],
   "source": []
  }
 ],
 "metadata": {
  "kernelspec": {
   "display_name": "Python 3 (ipykernel)",
   "language": "python",
   "name": "python3"
  },
  "language_info": {
   "codemirror_mode": {
    "name": "ipython",
    "version": 3
   },
   "file_extension": ".py",
   "mimetype": "text/x-python",
   "name": "python",
   "nbconvert_exporter": "python",
   "pygments_lexer": "ipython3",
   "version": "3.10.2"
  },
  "toc": {
   "base_numbering": 1,
   "nav_menu": {},
   "number_sections": true,
   "sideBar": true,
   "skip_h1_title": false,
   "title_cell": "Table of Contents",
   "title_sidebar": "Contents",
   "toc_cell": false,
   "toc_position": {},
   "toc_section_display": true,
   "toc_window_display": false
  },
  "varInspector": {
   "cols": {
    "lenName": 16,
    "lenType": 16,
    "lenVar": 40
   },
   "kernels_config": {
    "python": {
     "delete_cmd_postfix": "",
     "delete_cmd_prefix": "del ",
     "library": "var_list.py",
     "varRefreshCmd": "print(var_dic_list())"
    },
    "r": {
     "delete_cmd_postfix": ") ",
     "delete_cmd_prefix": "rm(",
     "library": "var_list.r",
     "varRefreshCmd": "cat(var_dic_list()) "
    }
   },
   "types_to_exclude": [
    "module",
    "function",
    "builtin_function_or_method",
    "instance",
    "_Feature"
   ],
   "window_display": false
  }
 },
 "nbformat": 4,
 "nbformat_minor": 5
}
